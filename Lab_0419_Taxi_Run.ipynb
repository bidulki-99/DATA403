{
 "cells": [
  {
   "cell_type": "code",
   "execution_count": 1,
   "id": "e24e3161",
   "metadata": {},
   "outputs": [],
   "source": [
    "import random\n",
    "import numpy as np\n",
    "import gym\n",
    "from tqdm import tqdm\n",
    "import matplotlib.pyplot as plt\n",
    "from IPython.display import clear_output\n",
    "from IPython.display import display\n",
    "from time import sleep"
   ]
  },
  {
   "cell_type": "markdown",
   "id": "eda3c5c3",
   "metadata": {},
   "source": [
    "## Create the environment"
   ]
  },
  {
   "cell_type": "code",
   "execution_count": 2,
   "id": "61a3fd46",
   "metadata": {},
   "outputs": [
    {
     "name": "stdout",
     "output_type": "stream",
     "text": [
      "There are total 500 states\n",
      "There are total 6 actions\n",
      "+---------+\n",
      "|R: | : :\u001b[34;1mG\u001b[0m|\n",
      "| : | :\u001b[43m \u001b[0m: |\n",
      "| : : : : |\n",
      "| | : | : |\n",
      "|\u001b[35mY\u001b[0m| : |B: |\n",
      "+---------+\n",
      "\n"
     ]
    }
   ],
   "source": [
    "env = gym.make('Taxi-v3')\n",
    "\n",
    "print('There are total {} states'.format(env.observation_space.n))\n",
    "print('There are total {} actions'.format(env.action_space.n))\n",
    "\n",
    "env.render()"
   ]
  },
  {
   "cell_type": "markdown",
   "id": "eceae297",
   "metadata": {},
   "source": [
    "## Create empty Q-table"
   ]
  },
  {
   "cell_type": "code",
   "execution_count": 3,
   "id": "584b46c6",
   "metadata": {},
   "outputs": [
    {
     "name": "stdout",
     "output_type": "stream",
     "text": [
      "[[0. 0. 0. 0. 0. 0.]\n",
      " [0. 0. 0. 0. 0. 0.]\n",
      " [0. 0. 0. 0. 0. 0.]\n",
      " ...\n",
      " [0. 0. 0. 0. 0. 0.]\n",
      " [0. 0. 0. 0. 0. 0.]\n",
      " [0. 0. 0. 0. 0. 0.]]\n"
     ]
    }
   ],
   "source": [
    "# state space, action space\n",
    "nS, nA = env.observation_space.n, env.action_space.n\n",
    "# create empty Q-table\n",
    "Q = np.zeros((nS, nA), dtype=np.float64)\n",
    "print(Q)"
   ]
  },
  {
   "cell_type": "markdown",
   "id": "688e3aea",
   "metadata": {},
   "source": [
    "## Set Hyperparameters"
   ]
  },
  {
   "cell_type": "code",
   "execution_count": 4,
   "id": "215c1087",
   "metadata": {},
   "outputs": [],
   "source": [
    "## in each episode, max step is 100\n",
    "max_steps = 100\n",
    "## we will run total 10,000 episodes\n",
    "n_episodes = 100000\n",
    "\n",
    "gamma = 1.0\n",
    "\n",
    "def decay_schedule(max_value, min_value, decay_ratio, steps, log_start=-2, log_base=10):\n",
    "    decay_steps = int(steps * decay_ratio)\n",
    "    rem_steps = steps - decay_steps\n",
    "    values = np.logspace(log_start, 0, decay_steps, base=log_base, endpoint=True)[::-1]\n",
    "    values = (values - values.min()) / (values.max() - values.min())\n",
    "    values = (max_value - min_value) * values + min_value\n",
    "    values = np.pad(values, (0, rem_steps), 'edge')\n",
    "    return values\n",
    "\n",
    "# exploration rate, epsilon\n",
    "max_epsilon = 1.0\n",
    "min_epsilon = 0.01\n",
    "epsilon_decay_ratio = 0.9\n",
    "epsilons = decay_schedule(max_epsilon, min_epsilon, epsilon_decay_ratio, n_episodes)\n",
    "\n",
    "# learning rate, alphas:\n",
    "max_alpha = 0.7\n",
    "min_alpha = 0.1\n",
    "alpha_decay_ratio = 0.9\n",
    "alphas = decay_schedule(max_alpha, min_alpha, alpha_decay_ratio, n_episodes)"
   ]
  },
  {
   "cell_type": "markdown",
   "id": "60ddfe73",
   "metadata": {},
   "source": [
    "## Learn until converge"
   ]
  },
  {
   "cell_type": "code",
   "execution_count": 5,
   "id": "bcaa258e",
   "metadata": {},
   "outputs": [
    {
     "name": "stderr",
     "output_type": "stream",
     "text": [
      "                                                                                                                       "
     ]
    },
    {
     "name": "stdout",
     "output_type": "stream",
     "text": [
      "Learned Q-table:\n",
      "[[  0.           0.           0.           0.           0.\n",
      "    0.        ]\n",
      " [-16.20814344  -6.01796829 -19.03483922  -6.05017366  -5.03987121\n",
      "  -16.26969085]\n",
      " [ -7.43462192   2.70699967 -11.11121304   2.81023993   3.74584217\n",
      "   -7.83759453]\n",
      " ...\n",
      " [  8.73018976  14.51121067  12.32202925   5.60328529   0.21032561\n",
      "   -0.28794217]\n",
      " [-22.63252813   0.69822428 -28.32715019 -15.97647482 -32.31346083\n",
      "  -35.16940122]\n",
      " [ 16.79094639  15.0432322   15.52497741  17.97523591   7.86438026\n",
      "    7.42385318]]\n",
      "Learned Value of states:\n",
      "[    0.           -68.62068667   -17.12034772   -89.67614719\n",
      "  -779.63783853     0.          -908.53060049  -595.85043602\n",
      "  -166.02535649  -244.28066844     0.          -259.39031292\n",
      "  -961.13558888  -588.00540012 -1061.22917907     0.\n",
      "    81.74937393    -3.43631122    45.58585872   -26.26089709\n",
      "     0.           -90.12399557   -24.31882196  -103.31025825\n",
      "  -607.51026787     0.          -689.76833993  -677.5874814\n",
      "  -195.28586655  -350.21524595     0.          -347.68136065\n",
      "  -644.69734248  -637.38771454  -851.45479316     0.\n",
      "    80.76448363     9.93769815    20.05607222   -19.76214248\n",
      "     0.          -430.03717685  -322.16469217  -299.07215199\n",
      "   -97.52170533     0.          -115.40418093   -50.31915458\n",
      "  -166.04183365  -568.29427595     0.          -734.78990008\n",
      "  -345.84567673  -306.84513569  -482.98710188     0.\n",
      "     7.6602449     73.34584417    -7.25122652   -28.66235359\n",
      "     0.          -501.57538806  -507.40937354  -532.8774892\n",
      "   -88.3763         0.           -97.42972505   -37.5671536\n",
      "  -384.70938622  -687.34371439     0.          -842.82242298\n",
      "  -392.35302814  -182.3218041   -366.34997334     0.\n",
      "   -19.23385823    80.90021456   -18.75813943    25.91798216\n",
      "     0.          -995.53409567  -662.21369625  -911.14174132\n",
      "   -71.14510507     0.           -84.20561278   -29.09797867\n",
      "  -650.65008074  -903.6513597      0.         -1003.28255952\n",
      "  -383.48579483  -181.70994234  -422.28438277     0.\n",
      "    -6.70091377    80.79578029   -19.56692632    38.78987155\n",
      "     0.           -77.52212447   -24.10155429   -98.04452016\n",
      "  -379.28224522     0.          -368.83278074  -243.76903364\n",
      "   -36.19269457  -108.68504067     0.          -130.81093587\n",
      "  -361.2110434   -299.43184881  -413.46225252     0.\n",
      "    80.21541836    15.35024333    66.98212377    -3.3878289\n",
      "     0.          -104.54503898   -42.68173096  -113.82889169\n",
      "  -227.71258433     0.          -228.18347023  -138.28133679\n",
      "   -56.91064106  -145.27380498     0.          -157.72315113\n",
      "  -231.92235318  -184.01299783  -281.25874367     0.\n",
      "    72.51677642    25.37278857    54.91079023     5.1477788\n",
      "     0.          -177.46329297   -96.95199792  -180.86988103\n",
      "  -122.95190755     0.          -130.37220648   -61.84816842\n",
      "  -112.02468979  -193.64697027     0.          -202.92165557\n",
      "  -164.33914182  -105.48125559  -177.12018344     0.\n",
      "    32.0452157     66.51462108    16.14220676    41.8368286\n",
      "     0.          -237.36729134  -147.40863082  -242.13510519\n",
      "  -104.10678987     0.          -135.19094133   -57.18898615\n",
      "  -177.52975301  -287.24267097     0.          -331.94621477\n",
      "  -150.8338827    -75.48762355  -147.26190394     0.\n",
      "    19.53621126    73.16862376     6.79214917    61.86728359\n",
      "     0.          -386.01744275  -234.50192685  -413.52066849\n",
      "   -84.78420447     0.          -100.01208883   -40.16392764\n",
      "  -348.05121482  -400.80437728     0.          -467.85885997\n",
      "  -147.31765503   -83.33170356  -143.90912728     0.\n",
      "     9.40706876    80.8114589     -7.57917853    59.29778493\n",
      "     0.           -96.44989095   -35.37632937  -124.2224481\n",
      "  -223.10499461     0.          -227.93408152  -158.98112198\n",
      "   -34.79792677  -109.44580268     0.          -124.50659953\n",
      "  -208.98549076  -140.99523796  -220.77372968     0.\n",
      "    73.42472084    33.5473788     68.24009191    22.74960689\n",
      "     0.          -110.7970678    -48.9062523   -132.45940218\n",
      "  -151.12607531     0.          -175.83746812   -83.95662094\n",
      "   -48.97573623  -120.10999614     0.          -140.40106545\n",
      "  -165.9513351   -103.28196106  -208.39185829     0.\n",
      "    59.37352019    44.74474937    57.13600436    32.88453581\n",
      "     0.          -129.50588673   -59.8466765   -139.1469771\n",
      "  -147.10125079     0.          -158.83366818   -79.11557391\n",
      "   -64.22703857  -133.36087844     0.          -155.74561681\n",
      "  -133.97765172   -90.2809287   -149.2252693      0.\n",
      "    52.13570124    53.82065778    44.64174416    45.89928171\n",
      "     0.          -156.9736105    -94.74686162  -244.64089193\n",
      "  -134.96512781     0.          -166.76133168   -82.15482757\n",
      "  -146.2114099   -170.8735286      0.          -200.40570561\n",
      "  -126.51993056   -77.26221249  -149.87161937     0.\n",
      "    39.05486467    63.94489214    32.60531125    61.73257795\n",
      "     0.          -243.49968965  -127.37027014  -333.5635462\n",
      "  -134.35692149     0.          -145.38397827   -73.30376819\n",
      "  -204.76927637  -256.19796364     0.          -267.84535354\n",
      "  -116.34129661   -58.2966051   -134.35717123     0.\n",
      "    30.34103018    70.42216069    21.45794877    66.14300215\n",
      "     0.          -241.4860373   -134.58059467  -271.14320181\n",
      "  -545.15663662     0.          -480.37780927  -353.47394019\n",
      "   -20.14522984   -89.48110637     0.          -111.13816485\n",
      "  -535.6271196   -331.46139541  -645.06517351     0.\n",
      "    66.20726671     1.8118354     81.00670741   -15.38310215\n",
      "     0.          -114.3301774    -58.63228916  -132.88992348\n",
      "  -191.9246927      0.          -196.44938778  -135.8636297\n",
      "   -74.43179655  -146.54021352     0.          -169.54536357\n",
      "  -251.26735067  -174.64083231  -301.68933749     0.\n",
      "    55.417603      34.65287664    41.29120144    16.98239835\n",
      "     0.          -160.18245336   -90.42737198  -174.16096785\n",
      "  -140.25496517     0.          -159.26040707   -82.36877894\n",
      "  -101.71992683  -183.01561171     0.          -208.28163554\n",
      "  -176.62591596  -116.74898211  -189.4904597      0.\n",
      "    42.73674203    50.43153909    28.07008772    30.70644859\n",
      "     0.          -369.60037592  -284.21496477  -452.77693759\n",
      "  -335.19521503     0.          -337.59935917  -195.70161411\n",
      "  -301.74686361  -418.13334796     0.          -462.86596969\n",
      "  -105.32935672   -47.65305535  -120.92272073     0.\n",
      "     6.023512      55.4729776     -6.34016503    78.10225156\n",
      "     0.          -511.20376544  -423.66360435  -605.15921293\n",
      "  -285.27558889     0.          -352.69778735  -222.58368514\n",
      "  -477.31935956  -511.37255581     0.          -574.24479164\n",
      "  -102.93029813   -47.82600503  -121.51228387     0.\n",
      "   -17.44088863    48.89446274   -37.05261361    73.09471104\n",
      "     0.          -535.03466436  -370.38526318  -464.401183\n",
      " -1034.35895177     0.         -1246.70340363  -711.39639913\n",
      "    -5.2445216    -71.26504975     0.           -87.93994975\n",
      " -1040.81738995 -1100.40738445 -1288.29310825     0.\n",
      "    47.9411661    -16.55421698    93.27348378   -34.73142038\n",
      "     0.          -247.71385231  -216.98325123  -416.04699275\n",
      "  -549.83247226     0.          -709.58266952  -418.76714751\n",
      "  -246.14849662  -481.50349832     0.          -413.29489067\n",
      "  -555.10195179  -435.65887638  -775.75952425     0.\n",
      "     8.70767843   -56.0773679    -11.56279113   -85.8583321\n",
      "     0.          -420.16624833  -265.22044635  -447.46684886\n",
      "  -421.1831017      0.          -307.35295233  -245.81714081\n",
      "  -323.72254489  -398.98135828     0.          -409.68959723\n",
      "  -501.28069683  -366.34949381  -391.53277139     0.\n",
      "   -48.20838175     4.6128382    -88.36527028   -29.51752981\n",
      "     0.          -797.41439877  -917.48503385  -893.09601396\n",
      "  -603.98288141     0.          -553.20536084  -390.4712872\n",
      "  -631.19007301 -1091.51761134     0.          -876.14292145\n",
      "   -76.05082103   -23.74800052   -90.37765708     0.\n",
      "   -16.63595375    38.74600788   -27.6357797     81.02867213\n",
      "     0.         -1228.43032791  -918.54759204 -1201.09131641\n",
      "  -545.96229175     0.          -694.88529547  -457.98849801\n",
      "  -743.32536797 -1052.0369825      0.          -970.64899743\n",
      "   -82.09395696   -31.06977325   -96.10863185     0.\n",
      "  -106.53388145    41.0890984   -133.72079092    80.62262535]\n"
     ]
    },
    {
     "name": "stderr",
     "output_type": "stream",
     "text": [
      "\r"
     ]
    }
   ],
   "source": [
    "# q-table for SARSA\n",
    "sarsa_Q = np.zeros((nS, nA))\n",
    "\n",
    "# record episode rewards\n",
    "sarsa_epi_rew = []\n",
    "\n",
    "# play n_episodes\n",
    "for e in tqdm(range(n_episodes), leave=False):\n",
    "    # Reset the environment\n",
    "    state = env.reset()\n",
    "    done = False\n",
    "    \n",
    "    # take initial action using epsilon-greedy        \n",
    "    if random.random() < epsilons[e]:\n",
    "        action = random.randrange(env.action_space.n)\n",
    "    else:\n",
    "        action = np.argmax(sarsa_Q[state])\n",
    "\n",
    "    for step in range(max_steps):\n",
    "        \n",
    "        # Take the action (a) and observe the outcome state(s') and reward (r)\n",
    "        next_state, reward, done, _ = env.step(action)\n",
    "\n",
    "        # sarsa_Q[next_state,:] all the actions we can take from new state\n",
    "        # sample next_action using epsilon-greedy        \n",
    "        if random.random() < epsilons[e]:\n",
    "            next_action = random.randrange(env.action_space.n)\n",
    "        else:\n",
    "            next_action = np.argmax(sarsa_Q[state])\n",
    "            \n",
    "        sarsa_Q[state, action] = sarsa_Q[state, action] \\\n",
    "                    + alphas[e] * (reward + gamma * sarsa_Q[next_state, next_action] - sarsa_Q[state, action])\n",
    "\n",
    "        # state transition\n",
    "        state = next_state\n",
    "        action = next_action\n",
    "\n",
    "        # If done: finish episode\n",
    "        if done: \n",
    "            break\n",
    "        \n",
    "    # append episode reward for performance visualization\n",
    "    sarsa_epi_rew.append(reward)\n",
    "    \n",
    "\n",
    "print('Learned Q-table:')\n",
    "print(sarsa_Q)\n",
    "print('Learned Value of states:')\n",
    "print(np.sum(sarsa_Q, axis=1))"
   ]
  },
  {
   "cell_type": "code",
   "execution_count": 6,
   "id": "59ba913e",
   "metadata": {},
   "outputs": [
    {
     "data": {
      "image/png": "[encoded data removed]",
      "text/plain": [
       "<Figure size 1000x500 with 1 Axes>"
      ]
     },
     "metadata": {},
     "output_type": "display_data"
    },
    {
     "data": {
      "image/png": "[encoded data removed]",
      "text/plain": [
       "<Figure size 1000x500 with 1 Axes>"
      ]
     },
     "metadata": {},
     "output_type": "display_data"
    }
   ],
   "source": [
    "# success rate of recent [window_size] games\n",
    "window_size = 100\n",
    "plt.figure(figsize=(10, 5))\n",
    "plt.plot([(np.mean(sarsa_epi_rew[:window_size])/20) for i in range(window_size)] + [np.mean(sarsa_epi_rew[i - window_size:i])/20 for i in range(window_size, len(sarsa_epi_rew))], label='recent {} game success ratio'.format(window_size))\n",
    "plt.legend()\n",
    "plt.show()\n",
    "plt.close()\n",
    "\n",
    "plt.figure(figsize=(10, 5))\n",
    "plt.plot(alphas, label='learning rates')\n",
    "plt.plot(epsilons, label='exploration rates')\n",
    "plt.legend()\n",
    "plt.show()\n",
    "plt.close()"
   ]
  },
  {
   "cell_type": "markdown",
   "id": "ed9968ce",
   "metadata": {},
   "source": [
    "## Play with Q-table"
   ]
  },
  {
   "cell_type": "code",
   "execution_count": 8,
   "id": "c83c238f",
   "metadata": {},
   "outputs": [
    {
     "name": "stdout",
     "output_type": "stream",
     "text": [
      "+---------+\n",
      "|R: | : :G|\n",
      "| : | : : |\n",
      "| : : : : |\n",
      "| | : | : |\n",
      "|Y| : |\u001b[35m\u001b[34;1m\u001b[43mB\u001b[0m\u001b[0m\u001b[0m: |\n",
      "+---------+\n",
      "  (Dropoff)\n",
      "\n",
      "step : 14\n",
      "state: 475\n",
      "action: 5\n",
      "reward: 20\n"
     ]
    }
   ],
   "source": [
    "for episode in range(5):\n",
    "    state = env.reset()\n",
    "    done = False\n",
    "    frames = []\n",
    "\n",
    "    for step in range(max_steps):\n",
    "        # Take the action (index) that have the maximum expected future reward given that state\n",
    "        action = np.argmax(sarsa_Q[state])\n",
    "      \n",
    "        next_state, reward, done, info = env.step(action)\n",
    "    \n",
    "        frames.append({\n",
    "            'frame' : env.render(mode='ansi'),\n",
    "            'state' : next_state,\n",
    "            'action' : action,\n",
    "            'reward' : reward\n",
    "        })\n",
    "    \n",
    "        if done:\n",
    "            break\n",
    "    \n",
    "        state = next_state\n",
    "    \n",
    "    for step, frame in enumerate(frames):\n",
    "        clear_output(wait=True)\n",
    "        keys = list(frame.keys())\n",
    "        print(frame['frame'])\n",
    "        print(f\"step : {step + 1}\")\n",
    "        for key in keys[1:]:\n",
    "            print(f\"{key}: {frame[key]}\")\n",
    "        sleep(1)\n",
    "    sleep(3)\n",
    "    \n",
    "env.close()"
   ]
  },
  {
   "cell_type": "code",
   "execution_count": null,
   "id": "5e5a8cb8",
   "metadata": {},
   "outputs": [],
   "source": []
  }
 ],
 "metadata": {
  "kernelspec": {
   "display_name": "Python 3 (ipykernel)",
   "language": "python",
   "name": "python3"
  },
  "language_info": {
   "codemirror_mode": {
    "name": "ipython",
    "version": 3
   },
   "file_extension": ".py",
   "mimetype": "text/x-python",
   "name": "python",
   "nbconvert_exporter": "python",
   "pygments_lexer": "ipython3",
   "version": "3.8.16"
  }
 },
 "nbformat": 4,
 "nbformat_minor": 5
}
