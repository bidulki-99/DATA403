{
 "cells": [
  {
   "attachments": {},
   "cell_type": "markdown",
   "metadata": {},
   "source": [
    "# Pytorch Basic  \n",
    "\n",
    "작성자: 김국진 kukjinkim@korea.ac.kr  \n",
    "\n",
    "\n",
    "금일 실습 시간에는 Pytorch를 통해 간단한 회귀문제에 대해 실습할 것입니다.\n",
    "\n",
    "# Contents\n",
    "- Class Review \n",
    "- Tensor, Tensor Manipulation\n",
    "- What is deep learning? <-\n",
    "- Regresseion <-\n",
    "- Dataset, DataLoader <-\n",
    "- Optimizer <-\n",
    "- Classification\n"
   ]
  },
  {
   "attachments": {},
   "cell_type": "markdown",
   "metadata": {},
   "source": [
    "# 1. What is deep learning?  \n",
    "\n",
    "바야흐로 딥러닝의 시대입니다. ChatGPT부터 AI스피커, 로보틱스, 컴퓨터 비전 등 다양한 분야에 딥러닝이 응용되고 있습니다.  \n",
    "딥러닝의 실체는 과연 무엇일까요? 딥러닝의 개념 자체는 매우 간단합니다. 한 마디로 요약하자면  \n",
    "\n",
    "### 비선형함수를 최적화해서 원하는 문제를 푸는 과정\n",
    "\n",
    "이라고 볼 수 있습니다. 아래 그림의 $f(x)$를 잘 학습해서 원하는 출력값을 내도록 만드는 것입니다. (분류, 회귀 문제)\n",
    "\n",
    "![](2023-05-02-22-03-24.png)\n"
   ]
  },
  {
   "attachments": {},
   "cell_type": "markdown",
   "metadata": {},
   "source": [
    "그리고 $f(x)$의 경우 실제로는 위 그림처럼 여러 개의 층으로 이루어져 있습니다. $f(x)$의 실체는 입력값을 행렬곱을 수행하고 비선형함수를 통과시키는 과정을 반복하는 것입니다.  \n",
    "위 그림은 이 과정을 도식화한 것입니다. 이것의 실체를 살펴보기 위해 간단한 회귀문제 정의하고 풀어보겠습니다.  "
   ]
  },
  {
   "attachments": {},
   "cell_type": "markdown",
   "metadata": {},
   "source": [
    "# 2. Regression  \n"
   ]
  },
  {
   "attachments": {},
   "cell_type": "markdown",
   "metadata": {},
   "source": [
    "### Simple Linear regression\n",
    "회귀문제는 실수형 독립변수의 값들을 통해 실수형 종속변수의 값을 예측하는 작업입니다.  \n",
    "먼저 선형적으로 증가하는 데이터셋을 만들어보겠습니다.  $y=2x$ 의 간단한 데이터들이며, 관측과정에서 노이즈가 포함되어있습니다. "
   ]
  },
  {
   "cell_type": "code",
   "execution_count": 165,
   "metadata": {},
   "outputs": [
    {
     "data": {
      "image/png": "[encoded data removed]",
      "text/plain": [
       "<Figure size 432x288 with 1 Axes>"
      ]
     },
     "metadata": {
      "needs_background": "light"
     },
     "output_type": "display_data"
    }
   ],
   "source": [
    "import matplotlib.pyplot as plt\n",
    "import numpy as np\n",
    "\n",
    "x_dataset = np.linspace(0, 5, 50, dtype=np.float32)\n",
    "y_dataset = 2 * x_dataset\n",
    "epsilon = np.random.normal(size=50, loc=0, scale=0.5)\n",
    "noisy_y = y_dataset + epsilon\n",
    "# plt.scatter(x,noisy_y)\n",
    "\n",
    "plt.scatter(x_dataset, y_dataset, color='g')\n",
    "plt.scatter(x_dataset, noisy_y, color='b')\n",
    "plt.legend(['$y=2x$', '$y=2x + \\epsilon$'], loc = 'best')\n",
    "plt.title('y = 2x + $\\epsilon$ where $\\epsilon$ ~ N(0, 1)')\n",
    "plt.show()"
   ]
  },
  {
   "cell_type": "markdown",
   "metadata": {},
   "source": [
    "위와 같이 선형적으로 값이 증가하는 데이터가 있다면 특정 $x$값을 입력받았을 때, 해당하는 $y$값을 잘 예측하는 것입니다. 이와 같은 문제를 회귀문제라고 합니다. \n"
   ]
  },
  {
   "attachments": {},
   "cell_type": "markdown",
   "metadata": {},
   "source": [
    "우리는 이 문제를 아래 식과 같이 간단헌 선형회귀모델을 통해 간단하게 풀 수 있습니다. 여기서 선형이라는 말은 모델이 계수와 독립변수들의 선형결합으로 표현되어 있다는 의미입니다. \n",
    "\n",
    "$$ y = wx + b $$"
   ]
  },
  {
   "attachments": {},
   "cell_type": "markdown",
   "metadata": {},
   "source": [
    "아래의 코드들로 $y=wx+b$ 를 그려보겠습니다.  "
   ]
  },
  {
   "cell_type": "code",
   "execution_count": 166,
   "metadata": {},
   "outputs": [
    {
     "name": "stdout",
     "output_type": "stream",
     "text": [
      "Parameter containing:\n",
      "tensor([[-0.9016]], requires_grad=True)\n",
      "torch.Size([1, 1])\n",
      "Parameter containing:\n",
      "tensor([0.1979], requires_grad=True)\n"
     ]
    }
   ],
   "source": [
    "import torch\n",
    "import torch.nn as nn\n",
    "# y = wx + b\n",
    "torch.manual_seed(64)\n",
    "linear_model = nn.Linear(1, 1).to(dtype=torch.float) # 첫번째 인자 : 입력의 차원, 두번째 인자 : 출력의 차원\n",
    "print(linear_model.weight)\n",
    "print(linear_model.weight.shape)\n",
    "print(linear_model.bias)\n",
    "pred_y_list = []\n",
    "for x in x_dataset:\n",
    "    pred_y = linear_model(torch.tensor(x).unsqueeze(0)) # 행렬 곱을 위해 0차원을 1차원으로 만듬\n",
    "    pred_y_list.append(pred_y.item())\n",
    "    "
   ]
  },
  {
   "cell_type": "code",
   "execution_count": 167,
   "metadata": {},
   "outputs": [
    {
     "data": {
      "image/png": "[encoded data removed]",
      "text/plain": [
       "<Figure size 432x288 with 1 Axes>"
      ]
     },
     "metadata": {
      "needs_background": "light"
     },
     "output_type": "display_data"
    }
   ],
   "source": [
    "plt.scatter(x_dataset, noisy_y, color='b')\n",
    "plt.scatter(x_dataset, pred_y_list, color='r')\n",
    "plt.legend(['$y=2x + \\epsilon$', '$y=wx+b$'], loc = 'best')\n",
    "plt.title('y = wx + b ')\n",
    "plt.show()"
   ]
  },
  {
   "attachments": {},
   "cell_type": "markdown",
   "metadata": {},
   "source": [
    "우리의 목표는 빨간선이 파란색 데이터들을 잘 표현하도록 $w, b$를 잘 조정하는 것입니다.  \n",
    "$w, b$를 모델의 가중치 또는 파라미터라고 부르며 이것을 조정하는 것을 우리는 **모델을 학습한다** 또는 모델을 최적화한다고 말합니다. "
   ]
  },
  {
   "attachments": {},
   "cell_type": "markdown",
   "metadata": {},
   "source": [
    "## Gradient descent  \n",
    "그렇다면 파라미터를 어떻게 학습할 수 있을까요? 선형회귀 모델의 경우 정규방정식이나 경사하강법이라는 것을 통해 풀 수 있습니다.  \n",
    "\n",
    "![](2023-05-02-16-06-50.png)  \n",
    "\n",
    "$$ w = w - \\alpha {dL \\over dw} $$ \n",
    "경사하강법은 가중치에 대한 손실함수 (Cost) 값의 변화량 ${dL \\over dw}$를 통해 가중치를 업데이트 하는 방식입니다. 위의 식이 경사하강법을 표현한식이며, 알파값은 학습률(learning rate)이라고 부르고, 경사를 얼마나 하강시키는지에 대한 보폭 (step size)를 나타냅니다.   \n"
   ]
  },
  {
   "attachments": {},
   "cell_type": "markdown",
   "metadata": {},
   "source": [
    "여기서 손실함수는 우리가 최적화하고자하는 대상으로 문제에 따라 다르게 정의됩니다. 최적화는 함수값을 최소화하거나 최대화하는 것을 의미합니다.  \n",
    "회귀 문제에서는 아래와 같이 Mean squared error (MSE)를 목적함수로 사용합니다. 그 의미는 모델의 출력값과 정답값의 차이의 제곱 정의한 것입니다.  \n",
    "우리는 MSE 값을 최소화하면 error가 0이 되고, w와 b의 학습이 완료됩니다. \n",
    "$$MSE := {1\\over N }\\sum_{i=1}^N (y - \\hat y)^2 $$  \n",
    "$\\hat y$는 모델의 예측값을 표기한 기호입니다. 이제 경사하강법을 수행해보겠습니다.  "
   ]
  },
  {
   "attachments": {},
   "cell_type": "markdown",
   "metadata": {},
   "source": [
    "Pytorch에서는 여러 손실함수들 `cross_entropy, mse_loss` 등등이 미리 정의되어있어서 편리하게 사용할 수 있습니다. 아래 코드에서는 Stochastic Gradient Descent를 수행해서 square_error를 loss로 사용했습니다. \n",
    "gradient의 경우 autograd를 통해 자동으로 계산할 수 있습니다.  \n",
    "아래 코드와 같이 `loss.backward()`를 수행하면 모든 가중치에 대한 그래디언트 값이 계산됩니다.  \n",
    "이를 토대로 $ w = w - \\alpha {dL \\over dw} $ 를 수행해서 업데이트를 진행합니다.  "
   ]
  },
  {
   "cell_type": "code",
   "execution_count": 175,
   "metadata": {},
   "outputs": [
    {
     "name": "stdout",
     "output_type": "stream",
     "text": [
      "torch.Size([50, 1])\n",
      "step: 0, loss: 164.5967559814453\n",
      "step: 10, loss: 1.331082820892334\n",
      "step: 20, loss: 0.12742406129837036\n",
      "step: 30, loss: 0.39471694827079773\n",
      "step: 40, loss: 0.11571556329727173\n",
      "0.1149691641330719\n",
      "step: 50, loss: 0.20159275829792023\n",
      "step: 60, loss: 0.09303740411996841\n",
      "step: 70, loss: 0.16804924607276917\n",
      "step: 80, loss: 0.019570866599678993\n",
      "step: 90, loss: 0.37300175428390503\n",
      "step: 100, loss: 0.05960511043667793\n",
      "step: 110, loss: 0.05384385585784912\n",
      "step: 120, loss: 0.12148591130971909\n",
      "step: 130, loss: 0.044862717390060425\n",
      "step: 140, loss: 0.24279987812042236\n",
      "step: 150, loss: 0.0002806855773087591\n",
      "step: 160, loss: 0.03403487429022789\n",
      "step: 170, loss: 0.001403419068083167\n",
      "step: 180, loss: 0.03569365665316582\n",
      "step: 190, loss: 0.02771211974322796\n",
      "step: 200, loss: 0.0019175938796252012\n",
      "step: 210, loss: 0.0008727279491722584\n",
      "step: 220, loss: 0.0772574245929718\n",
      "step: 230, loss: 0.01583671197295189\n",
      "step: 240, loss: 0.06129050999879837\n"
     ]
    }
   ],
   "source": [
    "num_epochs = 5\n",
    "torch.manual_seed(64)\n",
    "linear_model = nn.Linear(1, 1).to(dtype=torch.float)\n",
    "\n",
    "lr = 0.01\n",
    "loss_list = []\n",
    "w_list = []\n",
    "b_list = []\n",
    "w_grad_list = []\n",
    "b_grad_list = []\n",
    "x_tensor = torch.tensor(x_dataset).unsqueeze(1)\n",
    "y_tensor = torch.tensor(y_dataset)\n",
    "print(x_tensor.shape)\n",
    "data_length = x_tensor.shape[0]\n",
    "\n",
    "total_steps = 0\n",
    "for e in range(num_epochs):\n",
    "    total_loss = 0\n",
    "    torch.manual_seed(e)\n",
    "    # Data shuffling for stochastic gradient descent\n",
    "    random_indices = torch.randperm(data_length)\n",
    "    shuffled_x = x_tensor[random_indices]\n",
    "    shuffled_y = y_tensor[random_indices]\n",
    "    for x, y in zip(shuffled_x, shuffled_y):\n",
    "        # Prediction\n",
    "        y_pred = linear_model(x) \n",
    "        loss = (y_pred - y) ** 2 # Squared error\n",
    "        total_loss += loss.item()\n",
    "        \n",
    "        # Calculate gradients\n",
    "        loss.backward()\n",
    "        if total_steps % 10 == 0:\n",
    "            print(f\"step: {total_steps}, loss: {loss.item()}\")\n",
    "\n",
    "        # Update\n",
    "        linear_model.weight.data = linear_model.weight.data - lr * linear_model.weight.grad.item()\n",
    "        linear_model.bias.data = linear_model.bias.data - lr * linear_model.bias.grad.item()\n",
    "        w_grad_list.append(linear_model.weight.grad.item())\n",
    "        b_grad_list.append(linear_model.bias.grad.item())\n",
    "        \n",
    "        # Reset gradient\n",
    "        linear_model.weight.grad.data.zero_()\n",
    "        linear_model.bias.grad.data.zero_()\n",
    "        \n",
    "        # Record loss, grad\n",
    "        loss_list.append(loss.item())\n",
    "        w_list.append(linear_model.weight.data)\n",
    "        b_list.append(linear_model.bias.data)\n",
    "\n",
    "        total_steps += 1\n",
    "    \n",
    "    # Record items\n",
    "    if e % 50 == 0:\n",
    "        print(loss.item())\n",
    "    \n"
   ]
  },
  {
   "cell_type": "code",
   "execution_count": 176,
   "metadata": {},
   "outputs": [
    {
     "name": "stderr",
     "output_type": "stream",
     "text": [
      "c:\\Users\\ye200\\anaconda3\\envs\\minerl\\lib\\site-packages\\numpy\\core\\shape_base.py:65: FutureWarning: The input object of type 'Tensor' is an array-like implementing one of the corresponding protocols (`__array__`, `__array_interface__` or `__array_struct__`); but not a sequence (or 0-D). In the future, this object will be coerced as if it was first converted using `np.array(obj)`. To retain the old behaviour, you have to either modify the type 'Tensor', or assign to an empty array created with `np.empty(correct_shape, dtype=object)`.\n",
      "  ary = asanyarray(ary)\n",
      "c:\\Users\\ye200\\anaconda3\\envs\\minerl\\lib\\site-packages\\numpy\\core\\shape_base.py:65: VisibleDeprecationWarning: Creating an ndarray from ragged nested sequences (which is a list-or-tuple of lists-or-tuples-or ndarrays with different lengths or shapes) is deprecated. If you meant to do this, you must specify 'dtype=object' when creating the ndarray.\n",
      "  ary = asanyarray(ary)\n",
      "c:\\Users\\ye200\\anaconda3\\envs\\minerl\\lib\\site-packages\\numpy\\core\\shape_base.py:65: FutureWarning: The input object of type 'Tensor' is an array-like implementing one of the corresponding protocols (`__array__`, `__array_interface__` or `__array_struct__`); but not a sequence (or 0-D). In the future, this object will be coerced as if it was first converted using `np.array(obj)`. To retain the old behaviour, you have to either modify the type 'Tensor', or assign to an empty array created with `np.empty(correct_shape, dtype=object)`.\n",
      "  ary = asanyarray(ary)\n",
      "c:\\Users\\ye200\\anaconda3\\envs\\minerl\\lib\\site-packages\\numpy\\core\\shape_base.py:65: VisibleDeprecationWarning: Creating an ndarray from ragged nested sequences (which is a list-or-tuple of lists-or-tuples-or ndarrays with different lengths or shapes) is deprecated. If you meant to do this, you must specify 'dtype=object' when creating the ndarray.\n",
      "  ary = asanyarray(ary)\n"
     ]
    },
    {
     "data": {
      "image/png": "[encoded data removed]",
      "text/plain": [
       "<Figure size 1440x864 with 3 Axes>"
      ]
     },
     "metadata": {
      "needs_background": "light"
     },
     "output_type": "display_data"
    }
   ],
   "source": [
    "steps = np.arange(total_steps)\n",
    "plt.figure(figsize=(20,12))\n",
    "plt.subplot(3, 1, 1)  \n",
    "plt.plot(steps, loss_list, color='orange')\n",
    "plt.title('Visualization of loss')\n",
    "plt.legend(['loss'], loc = 'best')\n",
    "\n",
    "plt.subplot(3, 1, 2)  \n",
    "plt.plot(steps, w_list, color='green')\n",
    "plt.plot(steps, b_list, color='blue')\n",
    "plt.title('Visualization of weights')\n",
    "plt.legend(['w_list', 'b_list'], loc = 'best')\n",
    "\n",
    "\n",
    "plt.subplot(3, 1, 3)  \n",
    "plt.plot(steps, w_grad_list, color='red')\n",
    "plt.plot(steps, b_grad_list, color='magenta')\n",
    "plt.legend(['w_grad', 'b_grad'], loc = 'best')\n",
    "plt.title('Visualization of grads')\n",
    "plt.show()"
   ]
  },
  {
   "attachments": {},
   "cell_type": "markdown",
   "metadata": {},
   "source": [
    "위 그래프는 업데이트 횟수에 따른 손실함수, 가중치, 그래디언트의 변화를 기록한 것입니다.  \n",
    "그래디언트의 경우 0에 수렴하고 있고, $w, b$ 또한 실제 값인 2와 0에 수렴하는 것을 볼 수 있습니다.  \n",
    "학습이 잘 진행되어서 모두 수렴하는 것을 확인할 수 있습니다. 이제 학습된 모델로 예측을 수행하면 데이터에 대해서 정확한 예측 결과를 내놓을 것입니다.  "
   ]
  },
  {
   "cell_type": "code",
   "execution_count": 180,
   "metadata": {},
   "outputs": [
    {
     "data": {
      "image/png": "[encoded data removed]",
      "text/plain": [
       "<Figure size 432x288 with 1 Axes>"
      ]
     },
     "metadata": {
      "needs_background": "light"
     },
     "output_type": "display_data"
    }
   ],
   "source": [
    "pred_y_list = []\n",
    "for x in x_dataset:\n",
    "    pred_y = linear_model(torch.tensor(x).unsqueeze(0)) \n",
    "    pred_y_list.append(pred_y.item())\n",
    "plt.scatter(x_dataset, noisy_y, color='b')\n",
    "plt.scatter(x_dataset, pred_y_list, color='r')\n",
    "plt.legend(['$y=2x + \\epsilon$', '$y=wx+b$'], loc = 'best')\n",
    "plt.title('y = wx + b ')\n",
    "plt.show()"
   ]
  },
  {
   "attachments": {},
   "cell_type": "markdown",
   "metadata": {},
   "source": [
    "## Non-linear regression"
   ]
  },
  {
   "attachments": {},
   "cell_type": "markdown",
   "metadata": {},
   "source": [
    "지금까지 간단한 선형회귀 문제를 살펴보았습니다. 하지만 세상의 많은 데이터들은 **비선형**인 특징을 가져서 단순한 선형 모델로는 표현하기 어렵습니다.  아래와 같이 복잡한 형태의 함수와 같은 경우는 위와 같은 선형회귀 모델로 학습할 수 없습니다.  \n",
    "\n",
    "$$y = -\\exp (x)/10 + x^2\\sin(x) +2x + 5$$"
   ]
  },
  {
   "cell_type": "code",
   "execution_count": 262,
   "metadata": {},
   "outputs": [
    {
     "data": {
      "image/png": "[encoded data removed]",
      "text/plain": [
       "<Figure size 432x288 with 1 Axes>"
      ]
     },
     "metadata": {
      "needs_background": "light"
     },
     "output_type": "display_data"
    }
   ],
   "source": [
    "x_dataset = np.linspace(-5, 5, 1000, dtype=np.float32)\n",
    "y_dataset = -np.exp(x_dataset)/10 + np.power(x_dataset, 2) + np.sin(x_dataset) + 2 * x_dataset + 5\n",
    "\n",
    "plt.plot(x_dataset, y_dataset, color='g')\n",
    "plt.legend(['y'], loc = 'best')\n",
    "plt.title('$y values$')\n",
    "plt.show()"
   ]
  },
  {
   "cell_type": "markdown",
   "metadata": {},
   "source": [
    "### Neural Networks"
   ]
  },
  {
   "attachments": {},
   "cell_type": "markdown",
   "metadata": {},
   "source": [
    "![](2023-05-02-15-26-43.png)  \n",
    "  \n",
    "![](2023-05-02-15-29-27.png)"
   ]
  },
  {
   "attachments": {},
   "cell_type": "markdown",
   "metadata": {},
   "source": [
    "이러한 복잡한 함수들을 딥러닝을 통해서 근사시킬 수 있습니다. 딥러닝을 하기 위해서는 Neural networks를 먼저 정의해야 합니다. 가장 기본적인 뉴럴 네트워크는 **Multi Layer Perceptron (MLP)**입니다. 이 네트워크는 여러 개의 행렬들과 활성화함수들로 구성되어 있습니다.  \n",
    "Pytorch의 nn.Module을 사용해서 아래와 같은 식을 가지는 NN을 정의해보겠습니다.  \n",
    "\n",
    "$$\\begin{align} y &= f(x) \\\\ &= W_3 (\\sigma (W_2 (\\sigma (W_1 x)))) \\end{align}$$\n",
    "\n",
    "`__init__()`의 경우 보통 뉴럴 네트워크의 레이어를 정의하는데 사용합니다.  \n",
    "`forward()`에서는 뉴럴 네트워크의 연산방식을 정의합니다. "
   ]
  },
  {
   "attachments": {},
   "cell_type": "markdown",
   "metadata": {},
   "source": [
    "#### Activation Function\n",
    "위 식에서 $\\sigma$의 경우 비선형함수로 뉴럴 네트워크가 비선형변환을 수행하도록 해줍니다. 대표적인 예시로는 ReLU, GeLU, LeakyReLU, Sigmoid, Tanh 등이 있습니다. 사용법은 아래와 같습니다. \n",
    "\n",
    "```Python\n",
    "import torch.nn.functional as F\n",
    "non_linear_feature = F.relu(feature)\n",
    "```\n",
    "\n",
    "```Python\n",
    "import torch.nn as nn\n",
    "relu = nn.ReLU()\n",
    "non_linear_feature = relu(feature)\n",
    "```"
   ]
  },
  {
   "cell_type": "code",
   "execution_count": 272,
   "metadata": {},
   "outputs": [],
   "source": [
    "import torch\n",
    "import torch.nn as nn\n",
    "import torch.nn.functional as F\n",
    "\n",
    "\n",
    "class NeuralNetwork(nn.Module):\n",
    "    def __init__(self):\n",
    "        super().__init__()\n",
    "        self.input_layer = nn.Linear(1, 128) # weight matrix W_1 = [128, 1]\n",
    "        self.hidden_layer = nn.Linear(128, 128) # weight matrix W_2 = [128, 128]\n",
    "        self.output_layer = nn.Linear(128, 1) # weight matrix W_3 = [1, 128]\n",
    "    \n",
    "    def forward(self, x):\n",
    "        x = F.relu(self.input_layer(x))\n",
    "        x = F.relu(self.hidden_layer(x))\n",
    "        y_pred = self.hidden_layer(x)\n",
    "        return y_pred\n",
    "        "
   ]
  },
  {
   "cell_type": "markdown",
   "metadata": {},
   "source": [
    "## Dataset, DataLoader"
   ]
  },
  {
   "attachments": {},
   "cell_type": "markdown",
   "metadata": {},
   "source": [
    "선형회귀 모델을 학습시킬 때 우리는 mini_batch_size=1로 SGD를 수행하였습니다. 하지만 이 방식은 뉴럴 네트워크를 호출하는 횟수가 증가해서 학습이 매우 느려지게 됩니다. 우리는 데이터를 한꺼번에 입력해서 한거번에 출력을 얻을 필요가 있습니다.  \n",
    "  \n",
    "이를 batch training이라고 부릅니다.  전체 데이터를 한 번에 학습하는 방식은 full-batch 라고 부르며, 부분으로 나누는 것을 mini-batch 라고 부릅니다. mini batch size는 분할된 데이터의 크기를 의미합니다.\n",
    "  \n",
    "  \n",
    "![](2023-05-02-17-59-05.png)  \n",
    "출처: https://seamless.tistory.com/38\n",
    "\n",
    "이렇게 mini-batch 방식으로 데이터를 학습하기 위해 DataLoader와 Dataset 모듈을 활용할 수 있습니다.  \n",
    "DataLoader 모듈은 데이터셋과 mini batch size를 입력받아서 인스턴스를 생성합니다. 학습할 때 미니배치를 구성해줍니다. \n",
    "\n"
   ]
  },
  {
   "cell_type": "code",
   "execution_count": 273,
   "metadata": {},
   "outputs": [],
   "source": [
    "from torch.utils.data import DataLoader \n",
    "from torch.utils.data import Dataset"
   ]
  },
  {
   "cell_type": "code",
   "execution_count": 274,
   "metadata": {},
   "outputs": [
    {
     "name": "stdout",
     "output_type": "stream",
     "text": [
      "X shape :torch.Size([1000, 1]) | Y shape :torch.Size([1000, 1]) \n"
     ]
    }
   ],
   "source": [
    "class CustomDataset(Dataset):\n",
    "    def __init__(self, x_dataset, y_datset):\n",
    "        # 커스텀 데이셋 클래스의 생성자를 정의\n",
    "        # 데이터를 불러와서 torch.tensor로 할당 및 전처리한다.\n",
    "        self.x_data = torch.from_numpy(x_dataset).unsqueeze(1)\n",
    "        self.y_data = torch.from_numpy(y_dataset).unsqueeze(1)\n",
    "        print(f'X shape :{self.x_data.shape} | Y shape :{self.y_data.shape} ')\n",
    "    \n",
    "    # 매직 메소드 : 함수 이름 앞, 뒤로 underbar 2개를 붙인 메소드\n",
    "    def __len__(self):\n",
    "        return len(self.x_data)\n",
    "    \n",
    "    def __getitem__(self, idx):\n",
    "        # 데이터셋에서 해당 인덱스에 해당하는 샘플 (x, y)를 가져오는 메소드\n",
    "        return self.x_data[idx], self.y_data[idx]\n",
    "    \n",
    "dataset = CustomDataset(x_dataset, y_dataset)\n",
    "data_loader = DataLoader(dataset, batch_size=32, shuffle=True) \n",
    "\n"
   ]
  },
  {
   "cell_type": "code",
   "execution_count": 275,
   "metadata": {},
   "outputs": [],
   "source": [
    "import torch.optim as optim"
   ]
  },
  {
   "attachments": {},
   "cell_type": "markdown",
   "metadata": {},
   "source": [
    "## Optimizer  \n",
    "옵티마이저는 뉴럴 네트워크의 파라미터를 입력 받아서 Gradient descent를 편리하게 진행해주는 모듈입니다.  \n",
    "아래와 같은 방식으로 정의합니다. \n",
    "```Python\n",
    "optimizer = optim.SGD(model.parameters(), lr=learning_rate)\n",
    "optimizer = optim.Adam(model.paramters(), lr=learning_rate)\n",
    "```\n",
    "\n",
    "사용할 때는 먼저 그래디언트를 0으로 초기화하고 그래디언트를 계산한 다음, step을 통해 업데이트를 수행합니다. \n",
    "```Python\n",
    "optimizer.zero_gard()\n",
    "loss.backward() \n",
    "optimizer.step()\n",
    "```\n"
   ]
  },
  {
   "attachments": {},
   "cell_type": "markdown",
   "metadata": {},
   "source": [
    "## Chage update code parts simply"
   ]
  },
  {
   "attachments": {},
   "cell_type": "markdown",
   "metadata": {},
   "source": [
    "선형회귀 모델의 업데이트 부분은 아래와 같았습니다. 이제 DataLoader와 Optimizer를 통해 아래 코드를 일반화한 train function을 정의해보겠습니다. train function과 아래 코드를 비교해보세요 :)\n",
    "```Python\n",
    "for e in range(num_epochs):\n",
    "    total_loss = 0\n",
    "    torch.manual_seed(e)\n",
    "    # Data shuffling for stochastic gradient descent\n",
    "    random_indices = torch.randperm(data_length)\n",
    "    shuffled_x = x_tensor[random_indices]\n",
    "    shuffled_y = y_tensor[random_indices]\n",
    "    for x, y in zip(shuffled_x, shuffled_y):\n",
    "        # Prediction\n",
    "        y_pred = linear_model(x) \n",
    "        loss = (y_pred - y) ** 2 # Squared error\n",
    "        total_loss += loss.item()\n",
    "        \n",
    "        # Calculate gradients\n",
    "        loss.backward()\n",
    "        \n",
    "        # Update\n",
    "        linear_model.weight.data = linear_model.weight.data - lr * linear_model.weight.grad.item()\n",
    "        linear_model.bias.data = linear_model.bias.data - lr * linear_model.bias.grad.item()\n",
    "        \n",
    "        # Reset gradient\n",
    "        linear_model.weight.grad.data.zero_()\n",
    "        linear_model.bias.grad.data.zero_()\n",
    "\n",
    "        total_steps += 1\n",
    "    \n",
    "```"
   ]
  },
  {
   "cell_type": "code",
   "execution_count": 320,
   "metadata": {},
   "outputs": [],
   "source": [
    "def train(device, model, optimizer, loss_func, data_loader, epochs, print_interval):\n",
    "    epoch_loss_list = []\n",
    "    for e in range(1, epochs+1):\n",
    "        epoch_mean_loss = 0\n",
    "        for mini_batch_index, samples in enumerate(data_loader):\n",
    "            x_train, y_train = samples\n",
    "            x_train = x_train.to(device)\n",
    "            y_train = y_train.to(device)\n",
    "            output = model(x_train)\n",
    "            optimizer.zero_grad()\n",
    "            loss = loss_func(output, y_train) \n",
    "            loss.backward() \n",
    "            optimizer.step()\n",
    "            if e % print_interval == 0:\n",
    "                print(f'Epoch: {e:4d}/{epochs} MiniBatch: {mini_batch_index+1:4d}/{len(data_loader)} \\\n",
    "                    Loss: {loss.item():4f}')\n",
    "            epoch_mean_loss += loss.item()\n",
    "        epoch_loss_list.append(epoch_mean_loss/len(data_loader))\n",
    "    return epoch_loss_list"
   ]
  },
  {
   "cell_type": "code",
   "execution_count": 353,
   "metadata": {},
   "outputs": [
    {
     "name": "stdout",
     "output_type": "stream",
     "text": [
      "cuda\n",
      "X shape :torch.Size([1000, 1]) | Y shape :torch.Size([1000, 1]) \n"
     ]
    }
   ],
   "source": [
    "device = 'cuda' if torch.cuda.is_available() else 'cpu'\n",
    "print(device)\n",
    "torch.manual_seed(42)\n",
    "model = NeuralNetwork().to(device, dtype=torch.float)\n",
    "loss_func = F.mse_loss\n",
    "lr = 0.001\n",
    "optimizer = optim.SGD(model.parameters(), lr=lr)\n",
    "dataset = CustomDataset(x_dataset, y_dataset)\n",
    "print_interval = 5\n",
    "data_loader = DataLoader(dataset, batch_size=128, shuffle=True) \n",
    "epochs = 20\n"
   ]
  },
  {
   "cell_type": "code",
   "execution_count": 354,
   "metadata": {},
   "outputs": [
    {
     "name": "stdout",
     "output_type": "stream",
     "text": [
      "Epoch:    5/20 MiniBatch:    1/8                     Loss: 1.821345\n",
      "Epoch:    5/20 MiniBatch:    2/8                     Loss: 2.615721\n",
      "Epoch:    5/20 MiniBatch:    3/8                     Loss: 2.293188\n",
      "Epoch:    5/20 MiniBatch:    4/8                     Loss: 2.180446\n",
      "Epoch:    5/20 MiniBatch:    5/8                     Loss: 1.917088\n",
      "Epoch:    5/20 MiniBatch:    6/8                     Loss: 2.079025\n",
      "Epoch:    5/20 MiniBatch:    7/8                     Loss: 1.968249\n",
      "Epoch:    5/20 MiniBatch:    8/8                     Loss: 2.128295\n",
      "Epoch:   10/20 MiniBatch:    1/8                     Loss: 1.660674\n",
      "Epoch:   10/20 MiniBatch:    2/8                     Loss: 1.624729\n",
      "Epoch:   10/20 MiniBatch:    3/8                     Loss: 1.807255\n",
      "Epoch:   10/20 MiniBatch:    4/8                     Loss: 1.659208\n",
      "Epoch:   10/20 MiniBatch:    5/8                     Loss: 1.592043\n",
      "Epoch:   10/20 MiniBatch:    6/8                     Loss: 1.588025\n",
      "Epoch:   10/20 MiniBatch:    7/8                     Loss: 1.200695\n",
      "Epoch:   10/20 MiniBatch:    8/8                     Loss: 1.784446\n",
      "Epoch:   15/20 MiniBatch:    1/8                     Loss: 1.059656\n",
      "Epoch:   15/20 MiniBatch:    2/8                     Loss: 1.247352\n",
      "Epoch:   15/20 MiniBatch:    3/8                     Loss: 1.176200\n",
      "Epoch:   15/20 MiniBatch:    4/8                     Loss: 1.488331\n",
      "Epoch:   15/20 MiniBatch:    5/8                     Loss: 1.251895\n",
      "Epoch:   15/20 MiniBatch:    6/8                     Loss: 1.609666\n",
      "Epoch:   15/20 MiniBatch:    7/8                     Loss: 1.082742\n",
      "Epoch:   15/20 MiniBatch:    8/8                     Loss: 1.268649\n",
      "Epoch:   20/20 MiniBatch:    1/8                     Loss: 0.819754\n",
      "Epoch:   20/20 MiniBatch:    2/8                     Loss: 0.990299\n",
      "Epoch:   20/20 MiniBatch:    3/8                     Loss: 1.154477\n",
      "Epoch:   20/20 MiniBatch:    4/8                     Loss: 1.069793\n",
      "Epoch:   20/20 MiniBatch:    5/8                     Loss: 0.930373\n",
      "Epoch:   20/20 MiniBatch:    6/8                     Loss: 1.201234\n",
      "Epoch:   20/20 MiniBatch:    7/8                     Loss: 1.089048\n",
      "Epoch:   20/20 MiniBatch:    8/8                     Loss: 0.918436\n"
     ]
    }
   ],
   "source": [
    "epoch_loss_list = train(device, model, optimizer, loss_func, data_loader, epochs, print_interval)"
   ]
  },
  {
   "cell_type": "code",
   "execution_count": 358,
   "metadata": {},
   "outputs": [
    {
     "data": {
      "text/plain": [
       "<matplotlib.legend.Legend at 0x1cc577f0888>"
      ]
     },
     "execution_count": 358,
     "metadata": {},
     "output_type": "execute_result"
    },
    {
     "data": {
      "image/png": "[encoded data removed]",
      "text/plain": [
       "<Figure size 576x432 with 1 Axes>"
      ]
     },
     "metadata": {
      "needs_background": "light"
     },
     "output_type": "display_data"
    }
   ],
   "source": [
    "epochs_range = np.arange(epochs)\n",
    "plt.figure(figsize=(8,6))\n",
    "plt.yscale('linear')\n",
    "plt.plot(epochs_range, epoch_loss_list, color='orange')\n",
    "plt.title('Visualization of loss')\n",
    "plt.legend(['loss'], loc = 'best')\n"
   ]
  },
  {
   "cell_type": "code",
   "execution_count": 356,
   "metadata": {},
   "outputs": [
    {
     "data": {
      "image/png": "[encoded data removed]",
      "text/plain": [
       "<Figure size 432x288 with 1 Axes>"
      ]
     },
     "metadata": {
      "needs_background": "light"
     },
     "output_type": "display_data"
    }
   ],
   "source": [
    "pred_y_list = []\n",
    "x_tensor = torch.tensor(x_dataset).unsqueeze(1).to(device, dtype=torch.float)\n",
    "pred_y = model(x_tensor) \n",
    "for y in pred_y:\n",
    "    pred_y_list.append(y.item())\n",
    "plt.plot(x_dataset, pred_y_list, color='r')\n",
    "plt.plot(x_dataset, y_dataset, color='g')\n",
    "plt.title('predictions of NN ')\n",
    "plt.show()"
   ]
  },
  {
   "attachments": {},
   "cell_type": "markdown",
   "metadata": {},
   "source": [
    "이렇게 딥러닝을 사용하면 어떤 비선형함수든 잘 근사시킬 수 있습니다. 정말 놀랍지 않나요? 이는 딥러닝의 Universal Approximation Theorem 덕분입니다. 심층강화학습에서는 Q Value나 Policy를 딥러닝을 통해서 근사하게 되며, Policy Gradient나 DQN에서 딥러닝을 활용합니다. 본질적으로는 Q Value에 대한, Policy의 파라미터에 대한 회귀문제를 푸는 것이 심층강화학습의 핵심내용입니다. \n",
    "\n",
    "\n"
   ]
  },
  {
   "attachments": {},
   "cell_type": "markdown",
   "metadata": {},
   "source": [
    "# Practice 1: Change activation function and number of neurons\n",
    "뉴럴 네트워크 내의 활성화함수를 ReLU 말고 다른 함수로 변경해보세요 \n",
    "\n",
    "\n",
    "# Practice 2: Overfitting neral network\n",
    "\n",
    "딥러닝에는 학습을 위한 많은 하이퍼파라미터들이 존재합니다. \n",
    "- learning_rate\n",
    "- mini batch size\n",
    "- number of nodes in NN\n",
    "- activation function\n",
    "- type of optimizer\n",
    "- number of epochs  \n",
    "\n",
    "neural network가 학습데이터를 완전히 외워서 loss가 0에 가깝도록 학습된 것을 `오버피팅`되었다라고 표현합니다. 위의 하이퍼파라미터들을 조정해서 위에서 loss가 0.1 아래로 떨어지도록 뉴럴 네트워크를 오버피팅 시켜보세요 :) 제약조건은 `epochs`의 수가 100 이하여야 합니다. 학습이 잘되면 아래와 비슷한 그림을 볼 수 있습니다. \n",
    "\n",
    "![](2023-05-02-18-54-35.png)\n",
    "\n"
   ]
  },
  {
   "attachments": {},
   "cell_type": "markdown",
   "metadata": {},
   "source": [
    "# Summary\n",
    "해당 실습파일에서는 뉴럴 네트워크를 학습시켜서 비선형함수를 근사시키는 작업을 수행했습니다.   \n",
    "뉴럴 네트워크의 실체는 행렬-벡터 곱을 수행하고 비선형활성화함수를 통과시키는 것을 반복하는 것이었습니다.  \n",
    "그리고 Gradient descent를 통해서 손실함수를 최소화하도록 뉴럴 네트워크의 가중치 행렬들을 업데이트 하면 원하는 함수를 근사시킬 수 있었습니다. 이것이 딥러닝의 전부입니다! 이제는 아래 문장을 이해하실 수 있을 것입니다. \n",
    "### 딥러닝 = 뉴럴 네트워크로 표현된 비선형함수를 최적화하는 것 ###\n",
    "\n",
    "다음 실습파일에서는 MNIST 데이터셋을 분류해볼 것입니다.  "
   ]
  },
  {
   "attachments": {},
   "cell_type": "markdown",
   "metadata": {},
   "source": [
    "딥러닝에 대해 더 공부하고 싶으시다면 아래의 링크들을 참고하세요. \n",
    "\n",
    "[1] http://ko.d2l.ai/index.html  \n",
    "[2] https://atcold.github.io/pytorch-Deep-Learning/ko/  \n",
    "[3] https://wikidocs.net/book/2788"
   ]
  },
  {
   "cell_type": "code",
   "execution_count": null,
   "metadata": {},
   "outputs": [],
   "source": []
  }
 ],
 "metadata": {
  "kernelspec": {
   "display_name": "minerl",
   "language": "python",
   "name": "python3"
  },
  "language_info": {
   "codemirror_mode": {
    "name": "ipython",
    "version": 3
   },
   "file_extension": ".py",
   "mimetype": "text/x-python",
   "name": "python",
   "nbconvert_exporter": "python",
   "pygments_lexer": "ipython3",
   "version": "3.7.11"
  },
  "orig_nbformat": 4,
  "vscode": {
   "interpreter": {
    "hash": "266dbc1b53b3a75132c42213de358c469c42e7e8486df6091cb08cba7b9be0d5"
   }
  }
 },
 "nbformat": 4,
 "nbformat_minor": 2
}
