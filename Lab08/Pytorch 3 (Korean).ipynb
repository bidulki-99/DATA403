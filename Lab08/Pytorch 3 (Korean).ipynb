{
 "cells": [
  {
   "attachments": {},
   "cell_type": "markdown",
   "metadata": {},
   "source": [
    "# Pytorch Basic  \n",
    "\n",
    "작성자: 김국진 kukjinkim@korea.ac.kr  \n",
    "\n",
    "\n",
    "금일 실습 시간에는 Pytorch를 통해서 MNIST 데이터셋으로 분류문제를 실습할 것입니다. \n",
    "\n",
    "# Contents\n",
    "- Class Review \n",
    "- Tensor, Tensor Manipulation\n",
    "- What is deep learning? \n",
    "- Regresseion \n",
    "- Dataset, DataLoader \n",
    "- Optimizer \n",
    "- Classification <-\n",
    "- Convolution Neural Networks"
   ]
  },
  {
   "attachments": {},
   "cell_type": "markdown",
   "metadata": {},
   "source": [
    "# 1. Classification?  \n",
    "\n",
    "![](2023-05-02-19-18-48.png)  \n",
    "https://towardsdatascience.com/10-papers-you-should-read-to-understand-image-classification-in-the-deep-learning-era-4b9d792f45a7  \n",
    "\n",
    "분류 문제는 특정 입력값을 받아서 하나의 클래스를 선택하는 작업입니다. 개와 고양이 사진을 받았을 때 0 (Dog), 1(Cat)으로 분류하는 것이 그 예시입니다. "
   ]
  },
  {
   "attachments": {},
   "cell_type": "markdown",
   "metadata": {},
   "source": [
    "![](2023-05-02-15-29-27.png)"
   ]
  },
  {
   "attachments": {},
   "cell_type": "markdown",
   "metadata": {},
   "source": [
    "앞의 회귀 문제를 실습할 때눈 $f(x)$가 입력에 대해서 실수값을 출력 했습니다.  \n",
    "반면 분류 문제에서는 $f(x)$가 입력에 대해서 정수값 (범주)를 출력합니다. "
   ]
  },
  {
   "cell_type": "code",
   "execution_count": 1,
   "metadata": {},
   "outputs": [],
   "source": [
    "import torch\n",
    "import torch.nn.functional as F\n",
    "import torch.optim as optim\n",
    "import numpy as np\n",
    "import matplotlib.pyplot as plt\n",
    "from torch.utils.data import DataLoader, Dataset \n",
    "from torchvision import datasets, transforms"
   ]
  },
  {
   "attachments": {},
   "cell_type": "markdown",
   "metadata": {},
   "source": [
    "## Dataset, Dataloader\n",
    "금일 실습은 MNIST 데이터셋 (숫자분류)에 대해서 진행할 것입니다. torch 내부에는 이미 MNIST에 대한 데이터셋 모듈이 정의되어 있습니다. 아래의 블록을 실행하면 데이터셋이 자동으로 다운로드됩니다.  \n",
    "\n"
   ]
  },
  {
   "cell_type": "code",
   "execution_count": 2,
   "metadata": {},
   "outputs": [],
   "source": [
    "batch_size = 32\n",
    "device = torch.device('cuda') if torch.cuda.is_available() else torch.device('cpu')\n",
    "\n",
    "train_dataset = datasets.MNIST(root='./mnist_data/', train=True, download=True, transform=transforms.ToTensor())\n",
    "test_dataset = datasets.MNIST(root='./mnist_data/', train=False, download=True, transform=transforms.ToTensor())\n",
    "\n",
    "train_loader = DataLoader(dataset=train_dataset, batch_size=batch_size, shuffle=True)\n",
    "test_loader = DataLoader(dataset=test_dataset, batch_size=batch_size, shuffle=True)\n"
   ]
  },
  {
   "attachments": {},
   "cell_type": "markdown",
   "metadata": {},
   "source": [
    "데이터셋을 파악하기 위해 shape와 classes에 접근해봅니다.  "
   ]
  },
  {
   "cell_type": "code",
   "execution_count": 3,
   "metadata": {},
   "outputs": [
    {
     "name": "stdout",
     "output_type": "stream",
     "text": [
      "60000\n",
      "torch.Size([60000, 28, 28])\n",
      "['0 - zero', '1 - one', '2 - two', '3 - three', '4 - four', '5 - five', '6 - six', '7 - seven', '8 - eight', '9 - nine']\n"
     ]
    }
   ],
   "source": [
    "print(len(train_dataset)) # 1\n",
    "print(train_dataset.data.shape) # 2\n",
    "print(train_dataset.classes)  # 3"
   ]
  },
  {
   "attachments": {},
   "cell_type": "markdown",
   "metadata": {},
   "source": [
    "## Define Neural Network  \n",
    "정리하자면 뉴럴 네트워크를 정의하기 위해 다음과 같은 과정들이 필요합니다.  \n",
    "#### 1. 데이터의 shape 또는 dimension을 파악한다.\n",
    "#### 2. 데이터의 클래스 종류 및 클래스 수를 파악한다.\n",
    "#### 3. 모델의 입력과 출력 사이즈를 정한다.\n",
    "\n"
   ]
  },
  {
   "attachments": {},
   "cell_type": "markdown",
   "metadata": {},
   "source": [
    "# Practice\n",
    "이제 데이터의 모양을 알았으니 이를 처리하는 뉴럴 네트워크를 정의해야합니다. \n",
    "Classifier 클래스는 다음의 기능들이 구현되어 있습니다. \n",
    "- `__init__(self)`:\n",
    "  - 입력 크기가 784, 출력 크기가 10인 뉴럴 네트워크를 정의하세요. \n",
    "  - 입력 레이어의 뉴런수는 512 입니다. \n",
    "  - 레이어들은 은닉층의 수는 2개이고, 은닉층의 뉴런수는 256, 128 입니다. \n",
    "  - 따라서 우리는 4개의 행렬과 세 개의 활성화함수를 필요로 합니다. \n",
    "- `forward(self, x)`:\n",
    "  - 뉴럴 네트워크의 연산을 `__init__`에 정의된 레이어들로 구현합니다.\n",
    "  - 제일 처음으로, 입력 이미지 (28x28)를 784 차원으로 flatten 합니다. (이전 Pytorch 1 실습 참조)\n",
    "  - 활성화함수는 relu를 사용합니다. "
   ]
  },
  {
   "cell_type": "code",
   "execution_count": 145,
   "metadata": {},
   "outputs": [],
   "source": [
    "import torch.nn as nn\n",
    "\n",
    "class Classifier(nn.Module):\n",
    "    def __init__(self):\n",
    "        pass \n",
    "    \n",
    "    def forward(self, x):\n",
    "        # Flatten the data (batch_size, 1, 28, 28)-> (batch_size, 784)\n",
    "        pass\n"
   ]
  },
  {
   "cell_type": "code",
   "execution_count": 87,
   "metadata": {},
   "outputs": [
    {
     "name": "stdout",
     "output_type": "stream",
     "text": [
      "tensor([[-0.0653,  0.0395, -0.0097,  0.0036,  0.0267,  0.0366, -0.0152,  0.0061,\n",
      "         -0.1525, -0.0788]], grad_fn=<AddmmBackward0>)\n"
     ]
    }
   ],
   "source": [
    "# test code\n",
    "model = Classifier()\n",
    "random_image = torch.randn([1, 28, 28])\n",
    "output = model(random_image)\n",
    "print(output)"
   ]
  },
  {
   "attachments": {},
   "cell_type": "markdown",
   "metadata": {},
   "source": [
    "### Training & Test"
   ]
  },
  {
   "attachments": {},
   "cell_type": "markdown",
   "metadata": {},
   "source": [
    "이전에 정의한 `train` 함수를 그대로 사용하겠습니다. 여기서 test를 위한 함수 `test`도 정의하겠습니다.  "
   ]
  },
  {
   "cell_type": "code",
   "execution_count": 88,
   "metadata": {},
   "outputs": [],
   "source": [
    "def train(device, model, optimizer, loss_func, train_data_loader, epochs, print_interval):\n",
    "    epoch_loss_list = []\n",
    "    for e in range(1, epochs+1):\n",
    "        epoch_mean_loss = 0\n",
    "        for mini_batch_index, samples in enumerate(train_data_loader):\n",
    "            x_train, y_train = samples\n",
    "            mini_batch_size = x_train.shape[0]\n",
    "            x_train = x_train.to(device)\n",
    "            y_train = y_train.to(device)\n",
    "            y_pred = model(x_train)\n",
    "            optimizer.zero_grad()\n",
    "            loss = loss_func(y_pred, y_train) \n",
    "            loss.backward() \n",
    "            optimizer.step()\n",
    "            # if (e % print_interval == 0) and (mini_batch_index % mini_batch_size == 0):\n",
    "            #     print(f'Epoch: {e:4d}/{epochs} MiniBatch: {(mini_batch_index+1)*len(mini_batch_size):4d}/{len(train_data_loader.dataset)} \\\n",
    "            #         Loss: {loss.item():4f}')\n",
    "            if mini_batch_index % 100 == 0:\n",
    "                print(f'Train Epoch: {e} | Batch Status: {(mini_batch_index)*len(x_train)}/{len(train_loader.dataset)} \\\n",
    "                ({100. * mini_batch_index * batch_size / len(train_loader.dataset):.0f}% | Loss: {loss.item():.6f}')\n",
    "\n",
    "            epoch_mean_loss += loss.item()\n",
    "        epoch_loss_list.append(epoch_mean_loss/len(train_data_loader))\n",
    "    return epoch_loss_list\n",
    "\n",
    "def test(device, model, loss_func, test_data_loader):\n",
    "    test_loss = 0\n",
    "    correct_count = 0\n",
    "    for mini_batch_index, samples in enumerate(test_data_loader):\n",
    "        x_train, y_train = samples\n",
    "        x_train = x_train.to(device)\n",
    "        y_train = y_train.to(device)\n",
    "        y_pred = model(x_train)\n",
    "        loss = loss_func(y_pred, y_train) \n",
    "        pred = y_pred.data.max(1, keepdim=True)[1]\n",
    "        correct_count += pred.eq(y_train.data.view_as(pred)).cpu().sum()\n",
    "        test_loss += loss.item()\n",
    "    test_loss / len(test_data_loader)\n",
    "    print(f'=======================\\n Test set: Average loss: {test_loss:.4f}, Accuracy: {correct_count/len(test_loader.dataset):.3}')"
   ]
  },
  {
   "attachments": {},
   "cell_type": "markdown",
   "metadata": {},
   "source": [
    "분류 문제에서는 `cross_entropy`를 손실함수로 자주 사용합니다. "
   ]
  },
  {
   "cell_type": "code",
   "execution_count": 89,
   "metadata": {},
   "outputs": [
    {
     "name": "stdout",
     "output_type": "stream",
     "text": [
      "cuda\n"
     ]
    }
   ],
   "source": [
    "device = 'cuda' if torch.cuda.is_available() else 'cpu'\n",
    "print(device)\n",
    "torch.manual_seed(42)\n",
    "model = Classifier().to(device, dtype=torch.float)\n",
    "loss_func = nn.CrossEntropyLoss()\n",
    "lr = 0.001\n",
    "optimizer = optim.Adam(model.parameters(), lr=lr)\n",
    "batch_size = 256\n",
    "train_loader = DataLoader(dataset=train_dataset, batch_size=batch_size, shuffle=True)\n",
    "test_loader = DataLoader(dataset=test_dataset, batch_size=batch_size, shuffle=True)\n",
    "print_interval = 1\n",
    "epochs = 5\n"
   ]
  },
  {
   "cell_type": "code",
   "execution_count": 152,
   "metadata": {},
   "outputs": [
    {
     "name": "stdout",
     "output_type": "stream",
     "text": [
      "567434\n"
     ]
    }
   ],
   "source": [
    "total_params = sum(p.numel() for p in model.parameters())\n",
    "print(total_params)"
   ]
  },
  {
   "cell_type": "code",
   "execution_count": 90,
   "metadata": {},
   "outputs": [
    {
     "name": "stdout",
     "output_type": "stream",
     "text": [
      "Train Epoch: 1 | Batch Status: 0/60000                 (0% | Loss: 2.300814\n",
      "Train Epoch: 1 | Batch Status: 25600/60000                 (43% | Loss: 0.314712\n",
      "Train Epoch: 1 | Batch Status: 51200/60000                 (85% | Loss: 0.151141\n",
      "Train Epoch: 2 | Batch Status: 0/60000                 (0% | Loss: 0.248748\n",
      "Train Epoch: 2 | Batch Status: 25600/60000                 (43% | Loss: 0.127893\n",
      "Train Epoch: 2 | Batch Status: 51200/60000                 (85% | Loss: 0.137262\n",
      "Train Epoch: 3 | Batch Status: 0/60000                 (0% | Loss: 0.109112\n",
      "Train Epoch: 3 | Batch Status: 25600/60000                 (43% | Loss: 0.085035\n",
      "Train Epoch: 3 | Batch Status: 51200/60000                 (85% | Loss: 0.144060\n",
      "Train Epoch: 4 | Batch Status: 0/60000                 (0% | Loss: 0.076693\n",
      "Train Epoch: 4 | Batch Status: 25600/60000                 (43% | Loss: 0.049980\n",
      "Train Epoch: 4 | Batch Status: 51200/60000                 (85% | Loss: 0.063927\n",
      "Train Epoch: 5 | Batch Status: 0/60000                 (0% | Loss: 0.088755\n",
      "Train Epoch: 5 | Batch Status: 25600/60000                 (43% | Loss: 0.030150\n",
      "Train Epoch: 5 | Batch Status: 51200/60000                 (85% | Loss: 0.032551\n",
      "Train Epoch: 6 | Batch Status: 0/60000                 (0% | Loss: 0.045801\n",
      "Train Epoch: 6 | Batch Status: 25600/60000                 (43% | Loss: 0.011652\n",
      "Train Epoch: 6 | Batch Status: 51200/60000                 (85% | Loss: 0.064020\n",
      "Train Epoch: 7 | Batch Status: 0/60000                 (0% | Loss: 0.011681\n",
      "Train Epoch: 7 | Batch Status: 25600/60000                 (43% | Loss: 0.036173\n",
      "Train Epoch: 7 | Batch Status: 51200/60000                 (85% | Loss: 0.021878\n",
      "Train Epoch: 8 | Batch Status: 0/60000                 (0% | Loss: 0.026678\n",
      "Train Epoch: 8 | Batch Status: 25600/60000                 (43% | Loss: 0.018155\n",
      "Train Epoch: 8 | Batch Status: 51200/60000                 (85% | Loss: 0.011609\n",
      "Train Epoch: 9 | Batch Status: 0/60000                 (0% | Loss: 0.013428\n",
      "Train Epoch: 9 | Batch Status: 25600/60000                 (43% | Loss: 0.014656\n",
      "Train Epoch: 9 | Batch Status: 51200/60000                 (85% | Loss: 0.009445\n",
      "Train Epoch: 10 | Batch Status: 0/60000                 (0% | Loss: 0.010282\n",
      "Train Epoch: 10 | Batch Status: 25600/60000                 (43% | Loss: 0.025985\n",
      "Train Epoch: 10 | Batch Status: 51200/60000                 (85% | Loss: 0.042112\n"
     ]
    }
   ],
   "source": [
    "epoch_loss_list = train(device, model, optimizer, loss_func, train_loader, epochs, print_interval)\n"
   ]
  },
  {
   "cell_type": "code",
   "execution_count": 91,
   "metadata": {},
   "outputs": [
    {
     "data": {
      "text/plain": [
       "<matplotlib.legend.Legend at 0x2c70dc80760>"
      ]
     },
     "execution_count": 91,
     "metadata": {},
     "output_type": "execute_result"
    },
    {
     "data": {
      "image/png": "[encoded data removed]",
      "text/plain": [
       "<Figure size 800x600 with 1 Axes>"
      ]
     },
     "metadata": {},
     "output_type": "display_data"
    }
   ],
   "source": [
    "epochs_range = np.arange(epochs)\n",
    "plt.figure(figsize=(8,6))\n",
    "plt.yscale('linear')\n",
    "plt.plot(epochs_range, epoch_loss_list, color='orange')\n",
    "plt.title('Visualization of loss')\n",
    "plt.legend(['loss'], loc = 'best')\n"
   ]
  },
  {
   "cell_type": "code",
   "execution_count": 92,
   "metadata": {},
   "outputs": [
    {
     "name": "stdout",
     "output_type": "stream",
     "text": [
      "=======================\n",
      " Test set: Average loss: 4.1751, Accuracy: 0.973\n"
     ]
    }
   ],
   "source": [
    "test(device, model, loss_func, test_loader)\n"
   ]
  },
  {
   "attachments": {},
   "cell_type": "markdown",
   "metadata": {},
   "source": [
    "테스트 데이터셋에 대해서 분류를 시도한 결과, 97%의 정확도를 달성했습니다!! 정말 실제로 잘 분류하는지 데이터를 시각화해서 확인해보겠습니다. "
   ]
  },
  {
   "cell_type": "code",
   "execution_count": 146,
   "metadata": {},
   "outputs": [
    {
     "name": "stdout",
     "output_type": "stream",
     "text": [
      "torch.Size([1, 28, 28])\n",
      "7\n",
      "torch.Size([1, 28, 28]) 7\n",
      "torch.Size([1, 28, 28]) 2\n",
      "torch.Size([1, 28, 28]) 1\n",
      "torch.Size([1, 28, 28]) 0\n",
      "torch.Size([1, 28, 28]) 4\n",
      "torch.Size([1, 28, 28]) 1\n",
      "torch.Size([1, 28, 28]) 4\n",
      "torch.Size([1, 28, 28]) 9\n",
      "torch.Size([1, 28, 28]) 5\n",
      "torch.Size([1, 28, 28]) 9\n"
     ]
    },
    {
     "data": {
      "image/png": "[encoded data removed]",
      "text/plain": [
       "<Figure size 1000x400 with 10 Axes>"
      ]
     },
     "metadata": {},
     "output_type": "display_data"
    }
   ],
   "source": [
    "# Visualizing test data\n",
    "test_image, test_label = test_dataset[0]\n",
    "print(test_image.shape)\n",
    "print(test_label)\n",
    "plt.figure(figsize=(10, 4))\n",
    "rows=2\n",
    "cols=5\n",
    "test_imgs = []\n",
    "for i, xy in enumerate(test_dataset):\n",
    "    img = xy[0]\n",
    "    label = xy[1]\n",
    "    print(img.shape, label)\n",
    "    test_imgs.append(img)\n",
    "    img = img.permute(1, 2, 0)\n",
    "    ary = img.numpy()\n",
    "    plt.subplot(rows, cols, i+1)\n",
    "    plt.title(label)\n",
    "    plt.xticks([])  \n",
    "    plt.yticks([]) \n",
    "    plt.imshow(ary, cmap='gray')\n",
    "    if i+1 == 10:\n",
    "        break\n",
    "plt.show()\n"
   ]
  },
  {
   "cell_type": "code",
   "execution_count": 147,
   "metadata": {},
   "outputs": [
    {
     "data": {
      "text/plain": [
       "torch.Size([10, 1, 28, 28])"
      ]
     },
     "execution_count": 147,
     "metadata": {},
     "output_type": "execute_result"
    }
   ],
   "source": [
    "test_imgs_tensor = torch.stack(test_imgs)\n",
    "test_imgs_tensor.shape"
   ]
  },
  {
   "cell_type": "markdown",
   "metadata": {},
   "source": [
    "모델의 출력값에서 가장 값이 큰 인덱스를 분류 결과로 사용합니다. \n",
    "결과적으로 분류가 잘 되는 것을 확인할 수 있습니다. "
   ]
  },
  {
   "cell_type": "code",
   "execution_count": 149,
   "metadata": {},
   "outputs": [
    {
     "data": {
      "text/plain": [
       "tensor([7, 2, 1, 0, 4, 1, 4, 9, 5, 9], device='cuda:0')"
      ]
     },
     "execution_count": 149,
     "metadata": {},
     "output_type": "execute_result"
    }
   ],
   "source": [
    "output = model(test_imgs_tensor.to(device))\n",
    "index = torch.argmax(output, dim=-1)\n",
    "index"
   ]
  },
  {
   "attachments": {},
   "cell_type": "markdown",
   "metadata": {},
   "source": [
    "# Convolutional Neural Networks\n",
    "딥러닝의 대중화를 이끈 것은 컴퓨터 비전에 적용된 Convolutional Neural Network와 자연어처리에 적용된 Attention Mechanism입니다. "
   ]
  },
  {
   "attachments": {},
   "cell_type": "markdown",
   "metadata": {},
   "source": [
    "![](2023-05-02-21-34-50.png)\n",
    "\n",
    "https://developersbreach.com/convolution-neural-network-deep-learning/"
   ]
  },
  {
   "attachments": {},
   "cell_type": "markdown",
   "metadata": {},
   "source": [
    "CNN은 이미지 처리를 위해 고안된 네트워크 아키텍처로 이미지에 커널을 슬라이딩하면서 연산하는 방식으로 동작합니다. 가중치를 공유하는 방식으로 더 적은 파라미터를 사용해서 feature를 잘 추출할 수 있습니다. "
   ]
  },
  {
   "attachments": {},
   "cell_type": "markdown",
   "metadata": {},
   "source": [
    "## Feature extraction\n",
    "![](2023-05-02-21-42-20.png)"
   ]
  },
  {
   "attachments": {},
   "cell_type": "markdown",
   "metadata": {},
   "source": [
    "![](cnn.gif)\n",
    "https://medium.datadriveninvestor.com/convolutional-neural-networks-3b241a5da51e?gi=d4707ea36199"
   ]
  },
  {
   "attachments": {},
   "cell_type": "markdown",
   "metadata": {},
   "source": [
    "![](cnn2.gif)"
   ]
  },
  {
   "attachments": {},
   "cell_type": "markdown",
   "metadata": {},
   "source": [
    "위 그림과 같이 같은 이미지에 대한 여러 개의 커널을 사용해서 컨볼루션을 진행하고 feature map (output)을 만들어냅니다. 그리고 이를 flatten 시키고 Fully connected layer에 통과시켜서 최종적인 분류를 진행합니다. "
   ]
  },
  {
   "attachments": {},
   "cell_type": "markdown",
   "metadata": {},
   "source": [
    "![](2023-05-02-21-41-24.png)"
   ]
  },
  {
   "attachments": {},
   "cell_type": "markdown",
   "metadata": {},
   "source": [
    "### CNN class\n",
    "CNN은 기존의 MLP와 네트워크 구조와 연산방식만 다를 뿐 수행하는 기능은 똑같습니다. "
   ]
  },
  {
   "cell_type": "code",
   "execution_count": 153,
   "metadata": {},
   "outputs": [],
   "source": [
    "class CNN(nn.Module):\n",
    "    def __init__(self, C, W, H, K, S): # Channel, width, height, kerel_size, stride\n",
    "        super(CNN, self).__init__()\n",
    "        self.conv1 = nn.Conv2d(C, 32, kernel_size=K, stride=S)\n",
    "        self.bn1 = nn.BatchNorm2d(32)\n",
    "        self.conv2 = nn.Conv2d(32, 64, kernel_size=K, stride=S)\n",
    "        self.bn2 = nn.BatchNorm2d(64)\n",
    "        self.conv3 = nn.Conv2d(64, 128, kernel_size=K, stride=S)\n",
    "        self.bn3 = nn.BatchNorm2d(128)\n",
    "        \n",
    "        def conv2d_size_out(size, kernel_size=K, stride=S):\n",
    "            print((size - (kernel_size - 1) - 1) // stride + 1)\n",
    "            return (size - (kernel_size - 1) - 1) // stride + 1\n",
    "        \n",
    "        convw = conv2d_size_out(W, K, S)\n",
    "        convw = conv2d_size_out(convw, K, S)\n",
    "        convw = conv2d_size_out(convw, K, S)\n",
    "        \n",
    "        self.linear_input_size = convw * convw * 128\n",
    "        self.fc = nn.Linear(self.linear_input_size, 10)\n",
    "        \n",
    "    def forward(self, x):\n",
    "        x = F.relu(self.bn1(self.conv1(x)))\n",
    "        x = F.relu(self.bn2(self.conv2(x)))\n",
    "        x = F.relu(self.bn3(self.conv3(x)))\n",
    "        x = x.view(x.size(0), -1) # (batch_size, flatten_size)\n",
    "        x = F.relu(self.fc(x))\n",
    "        return F.log_softmax(x)\n",
    "        "
   ]
  },
  {
   "cell_type": "code",
   "execution_count": 174,
   "metadata": {},
   "outputs": [
    {
     "name": "stdout",
     "output_type": "stream",
     "text": [
      "cuda\n",
      "13\n",
      "6\n",
      "2\n"
     ]
    }
   ],
   "source": [
    "device = 'cuda' if torch.cuda.is_available() else 'cpu'\n",
    "print(device)\n",
    "torch.manual_seed(42)\n",
    "cnn = CNN(C=1, W=28, H=28, K=3, S=2).to(device)\n",
    "loss_func = nn.CrossEntropyLoss()\n",
    "lr = 0.0005\n",
    "optimizer = optim.Adam(cnn.parameters(), lr=lr)\n",
    "batch_size = 1024\n",
    "train_loader = DataLoader(dataset=train_dataset, batch_size=batch_size, shuffle=True)\n",
    "test_loader = DataLoader(dataset=test_dataset, batch_size=batch_size, shuffle=True)\n",
    "print_interval = 1\n",
    "epochs = 20"
   ]
  },
  {
   "cell_type": "code",
   "execution_count": 175,
   "metadata": {},
   "outputs": [
    {
     "name": "stdout",
     "output_type": "stream",
     "text": [
      "98250\n"
     ]
    }
   ],
   "source": [
    "total_params = sum(p.numel() for p in cnn.parameters())\n",
    "print(total_params)"
   ]
  },
  {
   "cell_type": "code",
   "execution_count": 176,
   "metadata": {},
   "outputs": [
    {
     "name": "stderr",
     "output_type": "stream",
     "text": [
      "C:\\Users\\ye200\\AppData\\Local\\Temp\\ipykernel_43564\\2978515042.py:28: UserWarning: Implicit dimension choice for log_softmax has been deprecated. Change the call to include dim=X as an argument.\n",
      "  return F.log_softmax(x)\n"
     ]
    },
    {
     "name": "stdout",
     "output_type": "stream",
     "text": [
      "Train Epoch: 1 | Batch Status: 0/60000                 (0% | Loss: 2.338116\n",
      "Train Epoch: 2 | Batch Status: 0/60000                 (0% | Loss: 0.457169\n",
      "Train Epoch: 3 | Batch Status: 0/60000                 (0% | Loss: 0.409045\n",
      "Train Epoch: 4 | Batch Status: 0/60000                 (0% | Loss: 0.347496\n",
      "Train Epoch: 5 | Batch Status: 0/60000                 (0% | Loss: 0.071366\n",
      "Train Epoch: 6 | Batch Status: 0/60000                 (0% | Loss: 0.046133\n",
      "Train Epoch: 7 | Batch Status: 0/60000                 (0% | Loss: 0.032610\n",
      "Train Epoch: 8 | Batch Status: 0/60000                 (0% | Loss: 0.020855\n",
      "Train Epoch: 9 | Batch Status: 0/60000                 (0% | Loss: 0.024076\n",
      "Train Epoch: 10 | Batch Status: 0/60000                 (0% | Loss: 0.014273\n",
      "Train Epoch: 11 | Batch Status: 0/60000                 (0% | Loss: 0.017208\n",
      "Train Epoch: 12 | Batch Status: 0/60000                 (0% | Loss: 0.014141\n",
      "Train Epoch: 13 | Batch Status: 0/60000                 (0% | Loss: 0.011432\n",
      "Train Epoch: 14 | Batch Status: 0/60000                 (0% | Loss: 0.010237\n",
      "Train Epoch: 15 | Batch Status: 0/60000                 (0% | Loss: 0.007913\n",
      "Train Epoch: 16 | Batch Status: 0/60000                 (0% | Loss: 0.007357\n",
      "Train Epoch: 17 | Batch Status: 0/60000                 (0% | Loss: 0.006414\n",
      "Train Epoch: 18 | Batch Status: 0/60000                 (0% | Loss: 0.004952\n",
      "Train Epoch: 19 | Batch Status: 0/60000                 (0% | Loss: 0.004755\n",
      "Train Epoch: 20 | Batch Status: 0/60000                 (0% | Loss: 0.003587\n"
     ]
    }
   ],
   "source": [
    "epoch_loss_list = train(device, cnn, optimizer, loss_func, train_loader, epochs, print_interval)"
   ]
  },
  {
   "cell_type": "code",
   "execution_count": 177,
   "metadata": {},
   "outputs": [
    {
     "data": {
      "text/plain": [
       "<matplotlib.legend.Legend at 0x2c7d9896b80>"
      ]
     },
     "execution_count": 177,
     "metadata": {},
     "output_type": "execute_result"
    },
    {
     "data": {
      "image/png": "[encoded data removed]",
      "text/plain": [
       "<Figure size 800x600 with 1 Axes>"
      ]
     },
     "metadata": {},
     "output_type": "display_data"
    }
   ],
   "source": [
    "epochs_range = np.arange(epochs)\n",
    "plt.figure(figsize=(8,6))\n",
    "plt.yscale('linear')\n",
    "plt.plot(epochs_range, epoch_loss_list, color='orange')\n",
    "plt.title('Visualization of loss')\n",
    "plt.legend(['loss'], loc = 'best')"
   ]
  },
  {
   "cell_type": "code",
   "execution_count": 178,
   "metadata": {},
   "outputs": [
    {
     "name": "stderr",
     "output_type": "stream",
     "text": [
      "C:\\Users\\ye200\\AppData\\Local\\Temp\\ipykernel_43564\\2978515042.py:28: UserWarning: Implicit dimension choice for log_softmax has been deprecated. Change the call to include dim=X as an argument.\n",
      "  return F.log_softmax(x)\n"
     ]
    },
    {
     "name": "stdout",
     "output_type": "stream",
     "text": [
      "=======================\n",
      " Test set: Average loss: 0.3749, Accuracy: 0.988\n"
     ]
    }
   ],
   "source": [
    "test(device, cnn, loss_func, test_loader)\n"
   ]
  },
  {
   "cell_type": "code",
   "execution_count": 180,
   "metadata": {},
   "outputs": [
    {
     "name": "stdout",
     "output_type": "stream",
     "text": [
      "torch.Size([1, 28, 28])\n",
      "7\n",
      "torch.Size([1, 28, 28]) 7\n",
      "torch.Size([1, 28, 28]) 2\n",
      "torch.Size([1, 28, 28]) 1\n",
      "torch.Size([1, 28, 28]) 0\n",
      "torch.Size([1, 28, 28]) 4\n",
      "torch.Size([1, 28, 28]) 1\n",
      "torch.Size([1, 28, 28]) 4\n",
      "torch.Size([1, 28, 28]) 9\n",
      "torch.Size([1, 28, 28]) 5\n",
      "torch.Size([1, 28, 28]) 9\n"
     ]
    },
    {
     "data": {
      "image/png": "[encoded data removed]",
      "text/plain": [
       "<Figure size 1000x400 with 10 Axes>"
      ]
     },
     "metadata": {},
     "output_type": "display_data"
    }
   ],
   "source": [
    "# Visualizing test data\n",
    "test_image, test_label = test_dataset[0]\n",
    "print(test_image.shape)\n",
    "print(test_label)\n",
    "plt.figure(figsize=(10, 4))\n",
    "rows=2\n",
    "cols=5\n",
    "test_imgs = []\n",
    "for i, xy in enumerate(test_dataset):\n",
    "    img = xy[0]\n",
    "    label = xy[1]\n",
    "    print(img.shape, label)\n",
    "    test_imgs.append(img)\n",
    "    img = img.permute(1, 2, 0)\n",
    "    ary = img.numpy()\n",
    "    plt.subplot(rows, cols, i+1)\n",
    "    plt.title(label)\n",
    "    plt.xticks([])  \n",
    "    plt.yticks([]) \n",
    "    plt.imshow(ary, cmap='gray')\n",
    "    if i+1 == 10:\n",
    "        break\n",
    "plt.show()"
   ]
  },
  {
   "cell_type": "code",
   "execution_count": 179,
   "metadata": {},
   "outputs": [
    {
     "name": "stderr",
     "output_type": "stream",
     "text": [
      "C:\\Users\\ye200\\AppData\\Local\\Temp\\ipykernel_43564\\2978515042.py:28: UserWarning: Implicit dimension choice for log_softmax has been deprecated. Change the call to include dim=X as an argument.\n",
      "  return F.log_softmax(x)\n"
     ]
    },
    {
     "data": {
      "text/plain": [
       "tensor([7, 2, 1, 0, 4, 1, 4, 9, 5, 9], device='cuda:0')"
      ]
     },
     "execution_count": 179,
     "metadata": {},
     "output_type": "execute_result"
    }
   ],
   "source": [
    "output = cnn(test_imgs_tensor.to(device))\n",
    "index = torch.argmax(output, dim=-1)\n",
    "index"
   ]
  },
  {
   "attachments": {},
   "cell_type": "markdown",
   "metadata": {},
   "source": [
    "# Summary\n",
    "결국 본질적으로 CNN을 학습하는 것도 비선형함수를 근사하는 것입니다. 네트워크의 구조와 연산방식이 달라서 기존의 MLP보다 더 효율적입니다. CNN은 나중에 Deepmind에서 출판한 DQN 논문에서 Atari 게임들을 학습하는데 사용됩니다. "
   ]
  },
  {
   "cell_type": "markdown",
   "metadata": {},
   "source": []
  }
 ],
 "metadata": {
  "kernelspec": {
   "display_name": "rllab",
   "language": "python",
   "name": "python3"
  },
  "language_info": {
   "codemirror_mode": {
    "name": "ipython",
    "version": 3
   },
   "file_extension": ".py",
   "mimetype": "text/x-python",
   "name": "python",
   "nbconvert_exporter": "python",
   "pygments_lexer": "ipython3",
   "version": "3.9.16"
  },
  "orig_nbformat": 4,
  "vscode": {
   "interpreter": {
    "hash": "5c6276770e9c5a685155d297a75ee9fe2216c271da1ff18b89edbaa80fe1643b"
   }
  }
 },
 "nbformat": 4,
 "nbformat_minor": 2
}
