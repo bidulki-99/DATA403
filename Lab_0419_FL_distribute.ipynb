{
 "cells": [
  {
   "cell_type": "markdown",
   "metadata": {
    "id": "5aQKQMJTJBPH"
   },
   "source": [
    "# <b>FrozenLake 4x4 Environment</b>\n",
    "\n",
    "In this colab notebook, we'll implement an agent <b>that plays FrozenLake.</b>\n",
    "\n",
    "![alt text](http://simoninithomas.com/drlc/Qlearning/frozenlake4x4.png)\n",
    "\n",
    "The goal of this game is <b>to go from the starting state (S) to the goal state (G)</b> by walking only on frozen tiles (F) and avoid holes (H). However, the ice is slippery, **so you won't always move in the direction you intend (stochastic environment)**\n",
    "\n",
    "Reference: https://github.com/simoninithomas/Deep_reinforcement_learning_Course"
   ]
  },
  {
   "cell_type": "markdown",
   "metadata": {
    "id": "54AIvDov_7aa"
   },
   "source": [
    "## Step 0: Install the dependencies on Google Colab"
   ]
  },
  {
   "cell_type": "code",
   "execution_count": 2,
   "metadata": {
    "colab": {
     "base_uri": "https://localhost:8080/"
    },
    "executionInfo": {
     "elapsed": 16605,
     "status": "ok",
     "timestamp": 1679358338582,
     "user": {
      "displayName": "Changhee Joo",
      "userId": "02021308844152533101"
     },
     "user_tz": -540
    },
    "id": "gxxpHDIs_lvg",
    "outputId": "50d815c7-ae9f-451e-f33b-3f4d88eb6655"
   },
   "outputs": [
    {
     "name": "stdout",
     "output_type": "stream",
     "text": [
      "Looking in indexes: https://pypi.org/simple, https://us-python.pkg.dev/colab-wheels/public/simple/\n",
      "Requirement already satisfied: numpy in /usr/local/lib/python3.9/dist-packages (1.22.4)\n",
      "Looking in indexes: https://pypi.org/simple, https://us-python.pkg.dev/colab-wheels/public/simple/\n",
      "Requirement already satisfied: gym==0.19.0 in /usr/local/lib/python3.9/dist-packages (0.19.0)\n",
      "Requirement already satisfied: numpy>=1.18.0 in /usr/local/lib/python3.9/dist-packages (from gym==0.19.0) (1.22.4)\n",
      "Requirement already satisfied: cloudpickle<1.7.0,>=1.2.0 in /usr/local/lib/python3.9/dist-packages (from gym==0.19.0) (1.6.0)\n",
      "Looking in indexes: https://pypi.org/simple, https://us-python.pkg.dev/colab-wheels/public/simple/\n",
      "Requirement already satisfied: tqdm in /usr/local/lib/python3.9/dist-packages (4.65.0)\n"
     ]
    }
   ],
   "source": [
    "#!pip install numpy\n",
    "#!pip install gym==0.19.0\n",
    "#!pip install gym\n",
    "#!pip install tqdm"
   ]
  },
  {
   "cell_type": "markdown",
   "metadata": {
    "id": "G9qH33L_QoBk"
   },
   "source": [
    "## Step 1: Import the dependencies 📚\n",
    "We use 4 libraries:\n",
    "- `numpy` for Q-table\n",
    "- `random` for random number generation\n",
    "- `OpenAI Gym` for FrozenLake Environment\n",
    "- `tqdm` for visualizing loop progress\n",
    "- `matplotlib` for graph visualization"
   ]
  },
  {
   "cell_type": "code",
   "execution_count": 1,
   "metadata": {
    "executionInfo": {
     "elapsed": 594,
     "status": "ok",
     "timestamp": 1679358343965,
     "user": {
      "displayName": "Changhee Joo",
      "userId": "02021308844152533101"
     },
     "user_tz": -540
    },
    "id": "oU8zRXv8QHlm"
   },
   "outputs": [],
   "source": [
    "import gym\n",
    "import random\n",
    "import numpy as np\n",
    "from tqdm import tqdm\n",
    "import matplotlib.pyplot as plt"
   ]
  },
  {
   "cell_type": "markdown",
   "metadata": {
    "id": "0fz-X3HTQueX"
   },
   "source": [
    "## Step 2: Create the environment 🎮\n",
    "- Here we'll create the FrozenLake 4x4 environment.\n",
    "- We can see the map via <b>env.render()</b>"
   ]
  },
  {
   "cell_type": "code",
   "execution_count": 2,
   "metadata": {
    "colab": {
     "base_uri": "https://localhost:8080/"
    },
    "executionInfo": {
     "elapsed": 1189,
     "status": "ok",
     "timestamp": 1679358347465,
     "user": {
      "displayName": "Changhee Joo",
      "userId": "02021308844152533101"
     },
     "user_tz": -540
    },
    "id": "mh9jBR_cQ5_a",
    "outputId": "f0500d1a-39b0-4f17-b0d0-6fa7cca5d038"
   },
   "outputs": [
    {
     "name": "stdout",
     "output_type": "stream",
     "text": [
      "There are total 16 states\n",
      "There are total 4 actions\n",
      "\n",
      "\u001b[41mS\u001b[0mFFF\n",
      "FHFH\n",
      "FFFH\n",
      "HFFG\n"
     ]
    }
   ],
   "source": [
    "env = gym.make(\"FrozenLake-v1\")\n",
    "\n",
    "print('There are total {} states'.format(env.observation_space.n))\n",
    "print('There are total {} actions'.format(env.action_space.n))\n",
    "\n",
    "env.render()"
   ]
  },
  {
   "cell_type": "markdown",
   "metadata": {
    "id": "8wi7762WBnL3"
   },
   "source": [
    "  - Now we apply some random actions, and see what environment returns!\n"
   ]
  },
  {
   "cell_type": "code",
   "execution_count": 3,
   "metadata": {
    "colab": {
     "base_uri": "https://localhost:8080/"
    },
    "executionInfo": {
     "elapsed": 275,
     "status": "ok",
     "timestamp": 1679358350763,
     "user": {
      "displayName": "Changhee Joo",
      "userId": "02021308844152533101"
     },
     "user_tz": -540
    },
    "id": "hP8PaCFQBm9V",
    "outputId": "bbf938a1-0e96-4d80-c1f7-e5219f49c868"
   },
   "outputs": [
    {
     "name": "stdout",
     "output_type": "stream",
     "text": [
      "initial state:  0\n",
      "\n",
      "\u001b[41mS\u001b[0mFFF\n",
      "FHFH\n",
      "FFFH\n",
      "HFFG\n",
      "random action:  0\n",
      "next state: 0, reward: 0.0, game ended: False\n",
      "  (Left)\n",
      "\u001b[41mS\u001b[0mFFF\n",
      "FHFH\n",
      "FFFH\n",
      "HFFG\n"
     ]
    }
   ],
   "source": [
    "state = env.reset()\n",
    "print('initial state: ', state)\n",
    "env.render()\n",
    "action = random.randint(0, 3)\n",
    "print('random action: ', action)\n",
    "next_state, reward, done, _ = env.step(action)\n",
    "print('next state: {}, reward: {}, game ended: {}'.format(next_state, reward, done))\n",
    "env.render()"
   ]
  },
  {
   "cell_type": "markdown",
   "metadata": {
    "id": "JEtXMldxQ7uw"
   },
   "source": [
    "## Step 3: Recall preview Learning in Monte-Carlo: 🗄️\n",
    "### Step 3-1: Create empty Q-table\n",
    "  - <b>Q-table:</b> used to record value of action given state"
   ]
  },
  {
   "cell_type": "code",
   "execution_count": 4,
   "metadata": {
    "colab": {
     "base_uri": "https://localhost:8080/"
    },
    "executionInfo": {
     "elapsed": 542,
     "status": "ok",
     "timestamp": 1679358353497,
     "user": {
      "displayName": "Changhee Joo",
      "userId": "02021308844152533101"
     },
     "user_tz": -540
    },
    "id": "17XBPCecAsZG",
    "outputId": "596053ec-9100-4300-87cc-860a115f6102"
   },
   "outputs": [
    {
     "name": "stdout",
     "output_type": "stream",
     "text": [
      "[[0. 0. 0. 0.]\n",
      " [0. 0. 0. 0.]\n",
      " [0. 0. 0. 0.]\n",
      " [0. 0. 0. 0.]\n",
      " [0. 0. 0. 0.]\n",
      " [0. 0. 0. 0.]\n",
      " [0. 0. 0. 0.]\n",
      " [0. 0. 0. 0.]\n",
      " [0. 0. 0. 0.]\n",
      " [0. 0. 0. 0.]\n",
      " [0. 0. 0. 0.]\n",
      " [0. 0. 0. 0.]\n",
      " [0. 0. 0. 0.]\n",
      " [0. 0. 0. 0.]\n",
      " [0. 0. 0. 0.]\n",
      " [0. 0. 0. 0.]]\n"
     ]
    }
   ],
   "source": [
    "# state space, action space\n",
    "nS, nA = env.observation_space.n, env.action_space.n\n",
    "# create empty Q-table\n",
    "Q = np.zeros((nS, nA), dtype=np.float64)\n",
    "print(Q)"
   ]
  },
  {
   "cell_type": "markdown",
   "metadata": {
    "id": "WEGeWKKsAu7X"
   },
   "source": [
    "### Step 3-2: set hyperparameters ⚙️\n",
    "- Here, we'll specify the hyperparameters\n",
    "  - `max_steps`: maximum number of steps that agent can take in each episode\n",
    "  - `n_episodes`: total number of episodes that agent will play to learn Q-table\n",
    "  - `𝛼`: learning rate; balancing old Q-value and new Q-value\n",
    "  - `𝛾`: gamma, discount rate\n",
    "- There are some parameters about exploration:\n",
    "  - `epsilon`: exploration rate, decay over episodes"
   ]
  },
  {
   "cell_type": "code",
   "execution_count": 5,
   "metadata": {
    "executionInfo": {
     "elapsed": 322,
     "status": "ok",
     "timestamp": 1679358357620,
     "user": {
      "displayName": "Changhee Joo",
      "userId": "02021308844152533101"
     },
     "user_tz": -540
    },
    "id": "FJhPxx7UAunE"
   },
   "outputs": [],
   "source": [
    "## in each episode, max step is 100\n",
    "max_steps = 100\n",
    "## we will run total 10,000 episodes\n",
    "n_episodes = 100000\n",
    "\n",
    "gamma = 1.0\n",
    "\n",
    "def decay_schedule(max_value, min_value, decay_ratio, steps, log_start=-2, log_base=10):\n",
    "    decay_steps = int(steps * decay_ratio)\n",
    "    rem_steps = steps - decay_steps\n",
    "    values = np.logspace(log_start, 0, decay_steps, base=log_base, endpoint=True)[::-1]\n",
    "    values = (values - values.min()) / (values.max() - values.min())\n",
    "    values = (max_value - min_value) * values + min_value\n",
    "    values = np.pad(values, (0, rem_steps), 'edge')\n",
    "    return values\n",
    "\n",
    "# exploration rate, epsilon\n",
    "max_epsilon = 1.0\n",
    "min_epsilon = 0.01\n",
    "epsilon_decay_ratio = 0.9\n",
    "epsilons = decay_schedule(max_epsilon, min_epsilon, epsilon_decay_ratio, n_episodes)\n",
    "\n",
    "# learning rate, alphas:\n",
    "max_alpha = 0.7\n",
    "min_alpha = 0.1\n",
    "alpha_decay_ratio = 0.9\n",
    "alphas = decay_schedule(max_alpha, min_alpha, alpha_decay_ratio, n_episodes)"
   ]
  },
  {
   "cell_type": "markdown",
   "metadata": {
    "id": "ZpHdYKHG-23y"
   },
   "source": [
    "## Step 4: Learn Until Converge 🧠\n",
    "### step 4-1: SARSA\n",
    "SARSA is an abbreviation of State-Action-Reward-State-Action.\n",
    "\n",
    "![alt_text](https://img1.daumcdn.net/thumb/R1280x0/?scode=mtistory2&fname=https%3A%2F%2Fblog.kakaocdn.net%2Fdn%2Fb06Fqy%2FbtqFNOZ84N8%2F1y0yu0IVuHpec9wzd7LHM0%2Fimg.png)"
   ]
  },
  {
   "cell_type": "code",
   "execution_count": 7,
   "metadata": {
    "colab": {
     "base_uri": "https://localhost:8080/"
    },
    "executionInfo": {
     "elapsed": 20197,
     "status": "ok",
     "timestamp": 1679358383345,
     "user": {
      "displayName": "Changhee Joo",
      "userId": "02021308844152533101"
     },
     "user_tz": -540
    },
    "id": "3xLrEB1b-HSG",
    "outputId": "f46ec351-81ce-48df-eb7a-edb85624d0eb"
   },
   "outputs": [
    {
     "name": "stderr",
     "output_type": "stream",
     "text": [
      "                                                                                                                       "
     ]
    },
    {
     "name": "stdout",
     "output_type": "stream",
     "text": [
      "Learned Q-table:\n",
      "[[0.03057896 0.02779553 0.02877719 0.02856985]\n",
      " [0.01786376 0.01408097 0.01212931 0.02677273]\n",
      " [0.03199842 0.0222253  0.02681433 0.02168413]\n",
      " [0.01454176 0.0197265  0.01708465 0.02173883]\n",
      " [0.02760323 0.02794022 0.02578476 0.02425828]\n",
      " [0.         0.         0.         0.        ]\n",
      " [0.04188801 0.10213541 0.04064354 0.01356947]\n",
      " [0.         0.         0.         0.        ]\n",
      " [0.01723857 0.04580742 0.03962778 0.05363448]\n",
      " [0.16418019 0.16945715 0.17686413 0.05320024]\n",
      " [0.23516387 0.20409509 0.21146264 0.04657688]\n",
      " [0.         0.         0.         0.        ]\n",
      " [0.         0.         0.         0.        ]\n",
      " [0.15813369 0.40671886 0.43684337 0.30120493]\n",
      " [0.47414785 0.64744584 0.73149147 0.5298076 ]\n",
      " [0.         0.         0.         0.        ]]\n",
      "Learned Value of states:\n",
      "[0.11572152 0.07084678 0.10272217 0.07309175 0.10558647 0.\n",
      " 0.19823642 0.         0.15630826 0.56370171 0.69729848 0.\n",
      " 0.         1.30290085 2.38289276 0.        ]\n"
     ]
    },
    {
     "name": "stderr",
     "output_type": "stream",
     "text": [
      "\r"
     ]
    }
   ],
   "source": [
    "# q-table for SARSA\n",
    "sarsa_Q = np.zeros((nS, nA))\n",
    "\n",
    "# record episode rewards\n",
    "sarsa_epi_rew = []\n",
    "\n",
    "# play n_episodes\n",
    "for e in tqdm(range(n_episodes), leave=False):\n",
    "    # Reset the environment\n",
    "    state = env.reset()\n",
    "    done = False\n",
    "    \n",
    "    # take initial action using epsilon-greedy        \n",
    "    if random.random() < epsilons[e]:\n",
    "        action = random.randint(0, 3)\n",
    "    else:\n",
    "        action = np.argmax(sarsa_Q[state])\n",
    "\n",
    "    for step in range(max_steps):\n",
    "        \n",
    "        # Take the action (a) and observe the outcome state(s') and reward (r)\n",
    "        next_state, reward, done, _ = env.step(action)\n",
    "\n",
    "        # sarsa_Q[next_state,:] all the actions we can take from new state\n",
    "        # sample next_action using epsilon-greedy        \n",
    "        if random.random() < epsilons[e]:\n",
    "            next_action = random.randint(0, 3)\n",
    "        else:\n",
    "            next_action = np.argmax(sarsa_Q[state])\n",
    "        \n",
    "        # Update Q-table\n",
    "        sarsa_Q[state][action] = sarsa_Q[state][action] \\\n",
    "        + alphas[e] * (reward + gamma * sarsa_Q[next_state][next_action] - sarsa_Q[state][action])\n",
    "\n",
    "        # state transition\n",
    "        state = next_state\n",
    "        action = next_action\n",
    "\n",
    "        # If done: finish episode\n",
    "        if done: \n",
    "            break\n",
    "        \n",
    "    # append episode reward for performance visualization\n",
    "    sarsa_epi_rew.append(reward)\n",
    "    \n",
    "\n",
    "print('Learned Q-table:')\n",
    "print(sarsa_Q)\n",
    "print('Learned Value of states:')\n",
    "print(np.sum(sarsa_Q, axis=1))"
   ]
  },
  {
   "cell_type": "code",
   "execution_count": 8,
   "metadata": {
    "colab": {
     "base_uri": "https://localhost:8080/",
     "height": 623
    },
    "executionInfo": {
     "elapsed": 2335,
     "status": "ok",
     "timestamp": 1679358388504,
     "user": {
      "displayName": "Changhee Joo",
      "userId": "02021308844152533101"
     },
     "user_tz": -540
    },
    "id": "WTpLvzMoIS7Z",
    "outputId": "a1e324a3-111a-4609-b162-11ad40f280ec"
   },
   "outputs": [
    {
     "data": {
      "image/png": "[encoded data removed]",
      "text/plain": [
       "<Figure size 1000x500 with 1 Axes>"
      ]
     },
     "metadata": {},
     "output_type": "display_data"
    },
    {
     "data": {
      "image/png": "[encoded data removed]",
      "text/plain": [
       "<Figure size 1000x500 with 1 Axes>"
      ]
     },
     "metadata": {},
     "output_type": "display_data"
    }
   ],
   "source": [
    "# success rate of recent [window_size] games\n",
    "window_size = 100\n",
    "plt.figure(figsize=(10, 5))\n",
    "plt.plot([np.mean(sarsa_epi_rew[:window_size]) for i in range(window_size)] + [np.mean(sarsa_epi_rew[i - window_size:i]) for i in range(window_size, len(sarsa_epi_rew))], label='recent {} game success ratio'.format(window_size))\n",
    "plt.legend()\n",
    "plt.show()\n",
    "plt.close()\n",
    "\n",
    "plt.figure(figsize=(10, 5))\n",
    "plt.plot(alphas, label='learning rates')\n",
    "plt.plot(epsilons, label='exploration rates')\n",
    "plt.legend()\n",
    "plt.show()\n",
    "plt.close()"
   ]
  },
  {
   "cell_type": "markdown",
   "metadata": {
    "id": "R5czk9qTBQIU"
   },
   "source": [
    "## Step 5: Play with learnt Q-table! 👾\n",
    "- <b>Exploitation:</b> follow the Q-table\n",
    "\n",
    "### step 5-1: play with SARSA Q-table:"
   ]
  },
  {
   "cell_type": "code",
   "execution_count": 25,
   "metadata": {
    "colab": {
     "base_uri": "https://localhost:8080/"
    },
    "executionInfo": {
     "elapsed": 274,
     "status": "ok",
     "timestamp": 1679358414417,
     "user": {
      "displayName": "Changhee Joo",
      "userId": "02021308844152533101"
     },
     "user_tz": -540
    },
    "id": "Bt8UsREaBNkJ",
    "outputId": "4dd4bbdd-deb5-46c6-e2bb-ca420b243d17"
   },
   "outputs": [
    {
     "name": "stdout",
     "output_type": "stream",
     "text": [
      "****************************************************\n",
      "EPISODE  0\n",
      "  (Right)\n",
      "SFFF\n",
      "F\u001b[41mH\u001b[0mFH\n",
      "FFFH\n",
      "HFFG\n",
      "We fell into a hole ☠️\n",
      "Number of steps 6\n",
      "****************************************************\n",
      "EPISODE  1\n",
      "  (Down)\n",
      "SFFF\n",
      "F\u001b[41mH\u001b[0mFH\n",
      "FFFH\n",
      "HFFG\n",
      "We fell into a hole ☠️\n",
      "Number of steps 14\n",
      "****************************************************\n",
      "EPISODE  2\n",
      "  (Down)\n",
      "SFFF\n",
      "F\u001b[41mH\u001b[0mFH\n",
      "FFFH\n",
      "HFFG\n",
      "We fell into a hole ☠️\n",
      "Number of steps 4\n",
      "****************************************************\n",
      "EPISODE  3\n",
      "  (Right)\n",
      "SFFF\n",
      "FHFH\n",
      "FFFH\n",
      "HFF\u001b[41mG\u001b[0m\n",
      "We reached our Goal 🏆\n",
      "Number of steps 11\n",
      "****************************************************\n",
      "EPISODE  4\n",
      "  (Right)\n",
      "SFFF\n",
      "FHFH\n",
      "FFFH\n",
      "HFF\u001b[41mG\u001b[0m\n",
      "We reached our Goal 🏆\n",
      "Number of steps 19\n"
     ]
    }
   ],
   "source": [
    "for episode in range(5):\n",
    "  state = env.reset()\n",
    "  done = False\n",
    "  print(\"****************************************************\")\n",
    "  print(\"EPISODE \", episode)\n",
    "\n",
    "  for step in range(max_steps):\n",
    "    # Take the action (index) that have the maximum expected future reward given that state\n",
    "    action = np.argmax(sarsa_Q[state])\n",
    "      \n",
    "    next_state, reward, done, info = env.step(action)\n",
    "    \n",
    "    if done:\n",
    "      # Here, we decide to only print the last state (to see if our agent is on the goal or fall into an hole)\n",
    "      env.render()\n",
    "      if next_state == 15:\n",
    "          print(\"We reached our Goal 🏆\")\n",
    "      else:\n",
    "          print(\"We fell into a hole ☠️\")\n",
    "      \n",
    "      # We print the number of step it took.\n",
    "      print(\"Number of steps\", step)\n",
    "      \n",
    "      break\n",
    "    state = next_state\n",
    "env.close()"
   ]
  }
 ],
 "metadata": {
  "colab": {
   "provenance": [
    {
     "file_id": "https://github.com/simoninithomas/Deep_reinforcement_learning_Course/blob/master/Q_Learning_with_FrozenLakev2.ipynb",
     "timestamp": 1641174099278
    }
   ]
  },
  "kernelspec": {
   "display_name": "Python 3 (ipykernel)",
   "language": "python",
   "name": "python3"
  },
  "language_info": {
   "codemirror_mode": {
    "name": "ipython",
    "version": 3
   },
   "file_extension": ".py",
   "mimetype": "text/x-python",
   "name": "python",
   "nbconvert_exporter": "python",
   "pygments_lexer": "ipython3",
   "version": "3.8.16"
  }
 },
 "nbformat": 4,
 "nbformat_minor": 1
}
