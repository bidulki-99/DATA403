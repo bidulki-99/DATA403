{
 "cells": [
  {
   "cell_type": "markdown",
   "metadata": {
    "id": "5aQKQMJTJBPH"
   },
   "source": [
    "# <b>FrozenLake 4x4 Environment</b>\n",
    "\n",
    "In this colab notebook, we'll implement an agent <b>that plays FrozenLake.</b>\n",
    "\n",
    "![alt text](http://simoninithomas.com/drlc/Qlearning/frozenlake4x4.png)\n",
    "\n",
    "The goal of this game is <b>to go from the starting state (S) to the goal state (G)</b> by walking only on frozen tiles (F) and avoid holes (H). However, the ice is slippery, **so you won't always move in the direction you intend (stochastic environment)**\n",
    "\n",
    "Reference:\n",
    "- Grokking - Deep Reinforcement Learning\n"
   ]
  },
  {
   "cell_type": "markdown",
   "metadata": {
    "id": "54AIvDov_7aa"
   },
   "source": [
    "## Step 0: Install the dependencies on Google Colab"
   ]
  },
  {
   "cell_type": "code",
   "execution_count": 4,
   "metadata": {
    "colab": {
     "base_uri": "https://localhost:8080/"
    },
    "id": "gxxpHDIs_lvg",
    "outputId": "0ddd92f6-74f1-4baf-9fd6-c0e10420fc20"
   },
   "outputs": [
    {
     "name": "stdout",
     "output_type": "stream",
     "text": [
      "Requirement already satisfied: numpy in c:\\anaconda3\\envs\\rllab\\lib\\site-packages (1.24.2)\n",
      "Requirement already satisfied: gym==0.19.0 in c:\\anaconda3\\envs\\rllab\\lib\\site-packages (0.19.0)\n",
      "Requirement already satisfied: numpy>=1.18.0 in c:\\anaconda3\\envs\\rllab\\lib\\site-packages (from gym==0.19.0) (1.24.2)\n",
      "Requirement already satisfied: cloudpickle<1.7.0,>=1.2.0 in c:\\anaconda3\\envs\\rllab\\lib\\site-packages (from gym==0.19.0) (1.6.0)\n",
      "Requirement already satisfied: tqdm in c:\\anaconda3\\envs\\rllab\\lib\\site-packages (4.65.0)\n",
      "Requirement already satisfied: colorama in c:\\anaconda3\\envs\\rllab\\lib\\site-packages (from tqdm) (0.4.6)\n",
      "Collecting scipy\n",
      "  Downloading scipy-1.10.1-cp38-cp38-win_amd64.whl (42.2 MB)\n",
      "     ---------------------------------------- 0.0/42.2 MB ? eta -:--:--\n",
      "      --------------------------------------- 0.5/42.2 MB 11.1 MB/s eta 0:00:04\n",
      "     - -------------------------------------- 1.4/42.2 MB 15.3 MB/s eta 0:00:03\n",
      "     -- ------------------------------------- 2.2/42.2 MB 15.5 MB/s eta 0:00:03\n",
      "     --- ------------------------------------ 3.3/42.2 MB 17.5 MB/s eta 0:00:03\n",
      "     --- ------------------------------------ 4.0/42.2 MB 16.9 MB/s eta 0:00:03\n",
      "     ---- ----------------------------------- 5.2/42.2 MB 18.3 MB/s eta 0:00:03\n",
      "     ---- ----------------------------------- 5.2/42.2 MB 18.5 MB/s eta 0:00:03\n",
      "     ---- ----------------------------------- 5.2/42.2 MB 18.5 MB/s eta 0:00:03\n",
      "     ----- ---------------------------------- 5.3/42.2 MB 13.6 MB/s eta 0:00:03\n",
      "     ----- ---------------------------------- 5.3/42.2 MB 13.6 MB/s eta 0:00:03\n",
      "     ----- ---------------------------------- 5.4/42.2 MB 11.1 MB/s eta 0:00:04\n",
      "     ----- ---------------------------------- 5.5/42.2 MB 9.7 MB/s eta 0:00:04\n",
      "     ----- ---------------------------------- 5.6/42.2 MB 9.1 MB/s eta 0:00:05\n",
      "     ----- ---------------------------------- 6.0/42.2 MB 8.7 MB/s eta 0:00:05\n",
      "     ------ --------------------------------- 7.0/42.2 MB 9.3 MB/s eta 0:00:04\n",
      "     ------- -------------------------------- 7.9/42.2 MB 10.0 MB/s eta 0:00:04\n",
      "     -------- ------------------------------- 8.6/42.2 MB 10.3 MB/s eta 0:00:04\n",
      "     -------- ------------------------------- 9.1/42.2 MB 10.2 MB/s eta 0:00:04\n",
      "     --------- ------------------------------ 9.6/42.2 MB 10.3 MB/s eta 0:00:04\n",
      "     --------- ----------------------------- 10.2/42.2 MB 10.3 MB/s eta 0:00:04\n",
      "     --------- ----------------------------- 10.6/42.2 MB 10.7 MB/s eta 0:00:03\n",
      "     ---------- ---------------------------- 10.9/42.2 MB 10.1 MB/s eta 0:00:04\n",
      "     ---------- ---------------------------- 11.2/42.2 MB 10.1 MB/s eta 0:00:04\n",
      "     ---------- ----------------------------- 11.6/42.2 MB 9.5 MB/s eta 0:00:04\n",
      "     ----------- ---------------------------- 12.5/42.2 MB 9.6 MB/s eta 0:00:04\n",
      "     ------------ --------------------------- 12.9/42.2 MB 9.4 MB/s eta 0:00:04\n",
      "     ------------ --------------------------- 13.1/42.2 MB 9.1 MB/s eta 0:00:04\n",
      "     ------------ --------------------------- 13.4/42.2 MB 8.7 MB/s eta 0:00:04\n",
      "     ------------ --------------------------- 13.5/42.2 MB 8.6 MB/s eta 0:00:04\n",
      "     ------------- -------------------------- 13.8/42.2 MB 8.3 MB/s eta 0:00:04\n",
      "     ------------- -------------------------- 14.2/42.2 MB 8.1 MB/s eta 0:00:04\n",
      "     ------------- -------------------------- 14.7/42.2 MB 7.8 MB/s eta 0:00:04\n",
      "     -------------- ------------------------- 15.1/42.2 MB 7.6 MB/s eta 0:00:04\n",
      "     -------------- ------------------------- 15.3/42.2 MB 7.4 MB/s eta 0:00:04\n",
      "     -------------- ------------------------- 15.6/42.2 MB 8.4 MB/s eta 0:00:04\n",
      "     --------------- ------------------------ 16.0/42.2 MB 9.4 MB/s eta 0:00:03\n",
      "     --------------- ------------------------ 16.3/42.2 MB 9.6 MB/s eta 0:00:03\n",
      "     --------------- ------------------------ 16.8/42.2 MB 9.1 MB/s eta 0:00:03\n",
      "     ---------------- ----------------------- 17.6/42.2 MB 9.1 MB/s eta 0:00:03\n",
      "     ----------------- ---------------------- 18.3/42.2 MB 9.1 MB/s eta 0:00:03\n",
      "     ----------------- ---------------------- 18.6/42.2 MB 8.8 MB/s eta 0:00:03\n",
      "     ------------------ --------------------- 19.0/42.2 MB 9.0 MB/s eta 0:00:03\n",
      "     ------------------ --------------------- 19.3/42.2 MB 8.7 MB/s eta 0:00:03\n",
      "     ------------------ --------------------- 20.0/42.2 MB 8.7 MB/s eta 0:00:03\n",
      "     ------------------- -------------------- 20.6/42.2 MB 8.7 MB/s eta 0:00:03\n",
      "     -------------------- ------------------- 21.3/42.2 MB 9.1 MB/s eta 0:00:03\n",
      "     -------------------- ------------------- 21.7/42.2 MB 9.1 MB/s eta 0:00:03\n",
      "     -------------------- ------------------- 21.9/42.2 MB 8.8 MB/s eta 0:00:03\n",
      "     -------------------- ------------------- 22.1/42.2 MB 8.5 MB/s eta 0:00:03\n",
      "     --------------------- ------------------ 22.2/42.2 MB 8.3 MB/s eta 0:00:03\n",
      "     --------------------- ------------------ 22.3/42.2 MB 8.2 MB/s eta 0:00:03\n",
      "     --------------------- ------------------ 22.3/42.2 MB 7.7 MB/s eta 0:00:03\n",
      "     --------------------- ------------------ 22.4/42.2 MB 7.4 MB/s eta 0:00:03\n",
      "     --------------------- ------------------ 22.5/42.2 MB 7.3 MB/s eta 0:00:03\n",
      "     --------------------- ------------------ 22.7/42.2 MB 7.1 MB/s eta 0:00:03\n",
      "     --------------------- ------------------ 23.2/42.2 MB 7.2 MB/s eta 0:00:03\n",
      "     ---------------------- ----------------- 23.7/42.2 MB 7.4 MB/s eta 0:00:03\n",
      "     ---------------------- ----------------- 24.1/42.2 MB 7.6 MB/s eta 0:00:03\n",
      "     ----------------------- ---------------- 24.6/42.2 MB 7.8 MB/s eta 0:00:03\n",
      "     ----------------------- ---------------- 24.8/42.2 MB 7.8 MB/s eta 0:00:03\n",
      "     ----------------------- ---------------- 25.3/42.2 MB 7.7 MB/s eta 0:00:03\n",
      "     ------------------------ --------------- 25.9/42.2 MB 8.0 MB/s eta 0:00:03\n",
      "     ------------------------- -------------- 26.4/42.2 MB 8.0 MB/s eta 0:00:02\n",
      "     ------------------------- -------------- 26.7/42.2 MB 7.9 MB/s eta 0:00:02\n",
      "     ------------------------- -------------- 27.1/42.2 MB 7.8 MB/s eta 0:00:02\n",
      "     ------------------------- -------------- 27.3/42.2 MB 7.6 MB/s eta 0:00:02\n",
      "     -------------------------- ------------- 27.6/42.2 MB 7.4 MB/s eta 0:00:02\n",
      "     -------------------------- ------------- 27.7/42.2 MB 7.3 MB/s eta 0:00:02\n",
      "     -------------------------- ------------- 27.7/42.2 MB 7.3 MB/s eta 0:00:02\n",
      "     -------------------------- ------------- 27.7/42.2 MB 6.9 MB/s eta 0:00:03\n",
      "     -------------------------- ------------- 27.7/42.2 MB 6.9 MB/s eta 0:00:03\n",
      "     -------------------------- ------------- 27.8/42.2 MB 6.5 MB/s eta 0:00:03\n",
      "     -------------------------- ------------- 27.9/42.2 MB 6.2 MB/s eta 0:00:03\n",
      "     -------------------------- ------------- 27.9/42.2 MB 6.1 MB/s eta 0:00:03\n",
      "     -------------------------- ------------- 28.0/42.2 MB 6.0 MB/s eta 0:00:03\n",
      "     -------------------------- ------------- 28.2/42.2 MB 5.8 MB/s eta 0:00:03\n",
      "     --------------------------- ------------ 28.6/42.2 MB 5.8 MB/s eta 0:00:03\n",
      "     --------------------------- ------------ 29.0/42.2 MB 5.7 MB/s eta 0:00:03\n",
      "     --------------------------- ------------ 29.2/42.2 MB 5.6 MB/s eta 0:00:03\n",
      "     --------------------------- ------------ 29.5/42.2 MB 5.6 MB/s eta 0:00:03\n",
      "     ---------------------------- ----------- 29.7/42.2 MB 5.5 MB/s eta 0:00:03\n",
      "     ---------------------------- ----------- 30.1/42.2 MB 5.5 MB/s eta 0:00:03\n",
      "     ---------------------------- ----------- 30.4/42.2 MB 5.4 MB/s eta 0:00:03\n",
      "     ----------------------------- ---------- 30.9/42.2 MB 5.4 MB/s eta 0:00:03\n",
      "     ----------------------------- ---------- 31.3/42.2 MB 5.3 MB/s eta 0:00:03\n",
      "     ------------------------------ --------- 31.7/42.2 MB 5.3 MB/s eta 0:00:02\n",
      "     ------------------------------ --------- 32.0/42.2 MB 5.3 MB/s eta 0:00:02\n",
      "     ------------------------------ --------- 32.0/42.2 MB 5.3 MB/s eta 0:00:02\n",
      "     ------------------------------ --------- 32.0/42.2 MB 5.1 MB/s eta 0:00:02\n",
      "     ------------------------------ --------- 32.0/42.2 MB 5.1 MB/s eta 0:00:02\n",
      "     ------------------------------ --------- 32.0/42.2 MB 5.1 MB/s eta 0:00:02\n",
      "     ------------------------------ --------- 32.1/42.2 MB 4.9 MB/s eta 0:00:03\n",
      "     ------------------------------ --------- 32.1/42.2 MB 4.7 MB/s eta 0:00:03\n",
      "     ------------------------------ --------- 32.1/42.2 MB 4.5 MB/s eta 0:00:03\n",
      "     ------------------------------ --------- 32.1/42.2 MB 4.4 MB/s eta 0:00:03\n",
      "     ------------------------------ --------- 32.3/42.2 MB 4.4 MB/s eta 0:00:03\n",
      "     ------------------------------ --------- 32.6/42.2 MB 4.7 MB/s eta 0:00:03\n",
      "     ------------------------------- -------- 32.9/42.2 MB 4.9 MB/s eta 0:00:02\n",
      "     ------------------------------- -------- 33.3/42.2 MB 4.8 MB/s eta 0:00:02\n",
      "     ------------------------------- -------- 33.6/42.2 MB 4.8 MB/s eta 0:00:02\n",
      "     -------------------------------- ------- 34.0/42.2 MB 4.8 MB/s eta 0:00:02\n",
      "     -------------------------------- ------- 34.4/42.2 MB 4.7 MB/s eta 0:00:02\n",
      "     --------------------------------- ------ 34.9/42.2 MB 4.7 MB/s eta 0:00:02\n",
      "     --------------------------------- ------ 35.2/42.2 MB 4.8 MB/s eta 0:00:02\n",
      "     --------------------------------- ------ 35.6/42.2 MB 4.8 MB/s eta 0:00:02\n",
      "     ---------------------------------- ----- 36.1/42.2 MB 4.8 MB/s eta 0:00:02\n",
      "     ---------------------------------- ----- 36.7/42.2 MB 4.8 MB/s eta 0:00:02\n",
      "     ----------------------------------- ---- 37.1/42.2 MB 4.8 MB/s eta 0:00:02\n",
      "     ----------------------------------- ---- 37.2/42.2 MB 4.7 MB/s eta 0:00:02\n",
      "     ----------------------------------- ---- 37.4/42.2 MB 4.7 MB/s eta 0:00:02\n",
      "     ----------------------------------- ---- 37.5/42.2 MB 4.7 MB/s eta 0:00:02\n",
      "     ----------------------------------- ---- 37.7/42.2 MB 4.6 MB/s eta 0:00:01\n",
      "     ----------------------------------- ---- 37.8/42.2 MB 4.6 MB/s eta 0:00:01\n",
      "     ----------------------------------- ---- 37.9/42.2 MB 4.5 MB/s eta 0:00:01\n",
      "     ------------------------------------ --- 38.0/42.2 MB 4.9 MB/s eta 0:00:01\n",
      "     ------------------------------------ --- 38.1/42.2 MB 4.9 MB/s eta 0:00:01\n",
      "     ------------------------------------ --- 38.3/42.2 MB 5.0 MB/s eta 0:00:01\n",
      "     ------------------------------------ --- 38.3/42.2 MB 5.0 MB/s eta 0:00:01\n",
      "     ------------------------------------ --- 38.4/42.2 MB 4.9 MB/s eta 0:00:01\n",
      "     ------------------------------------ --- 38.9/42.2 MB 5.0 MB/s eta 0:00:01\n",
      "     ------------------------------------- -- 39.2/42.2 MB 5.0 MB/s eta 0:00:01\n",
      "     ------------------------------------- -- 39.4/42.2 MB 5.0 MB/s eta 0:00:01\n",
      "     ------------------------------------- -- 39.7/42.2 MB 4.9 MB/s eta 0:00:01\n",
      "     ------------------------------------- -- 40.0/42.2 MB 4.9 MB/s eta 0:00:01\n",
      "     -------------------------------------- - 40.3/42.2 MB 4.9 MB/s eta 0:00:01\n",
      "     -------------------------------------- - 40.7/42.2 MB 4.8 MB/s eta 0:00:01\n",
      "     -------------------------------------- - 40.7/42.2 MB 4.8 MB/s eta 0:00:01\n",
      "     -------------------------------------- - 40.8/42.2 MB 4.6 MB/s eta 0:00:01\n",
      "     -------------------------------------- - 40.9/42.2 MB 4.6 MB/s eta 0:00:01\n",
      "     -------------------------------------- - 41.0/42.2 MB 4.5 MB/s eta 0:00:01\n",
      "     -------------------------------------- - 41.1/42.2 MB 4.5 MB/s eta 0:00:01\n",
      "     -------------------------------------- - 41.1/42.2 MB 4.4 MB/s eta 0:00:01\n",
      "     ---------------------------------------  41.2/42.2 MB 4.3 MB/s eta 0:00:01\n",
      "     ---------------------------------------  41.2/42.2 MB 4.2 MB/s eta 0:00:01\n",
      "     ---------------------------------------  41.3/42.2 MB 4.1 MB/s eta 0:00:01\n",
      "     ---------------------------------------  41.4/42.2 MB 4.1 MB/s eta 0:00:01\n",
      "     ---------------------------------------  41.5/42.2 MB 4.0 MB/s eta 0:00:01\n",
      "     ---------------------------------------  42.0/42.2 MB 4.0 MB/s eta 0:00:01\n",
      "     ---------------------------------------  42.2/42.2 MB 3.9 MB/s eta 0:00:01\n",
      "     ---------------------------------------  42.2/42.2 MB 3.9 MB/s eta 0:00:01\n",
      "     ---------------------------------------  42.2/42.2 MB 3.9 MB/s eta 0:00:01\n",
      "     ---------------------------------------  42.2/42.2 MB 3.9 MB/s eta 0:00:01\n",
      "     ---------------------------------------  42.2/42.2 MB 3.9 MB/s eta 0:00:01\n",
      "     ---------------------------------------- 42.2/42.2 MB 3.5 MB/s eta 0:00:00\n",
      "Requirement already satisfied: numpy<1.27.0,>=1.19.5 in c:\\anaconda3\\envs\\rllab\\lib\\site-packages (from scipy) (1.24.2)\n",
      "Installing collected packages: scipy\n",
      "Successfully installed scipy-1.10.1\n"
     ]
    }
   ],
   "source": [
    "# !pip install setuptools==65.5.0\n",
    "!pip install numpy\n",
    "!pip install gym==0.19.0\n",
    "#!pip install gym\n",
    "!pip install tqdm\n",
    "!pip install scipy"
   ]
  },
  {
   "cell_type": "markdown",
   "metadata": {
    "id": "G9qH33L_QoBk"
   },
   "source": [
    "## Step 1: Import the dependencies 📚\n",
    "We use 4 libraries:\n",
    "- `numpy` for Q-table\n",
    "- `random` for random number generation\n",
    "- `OpenAI Gym` for FrozenLake Environment\n",
    "- `tqdm` for visualizing loop progress\n",
    "- `matplotlib` for graph visualization"
   ]
  },
  {
   "cell_type": "code",
   "execution_count": 2,
   "metadata": {
    "id": "oU8zRXv8QHlm"
   },
   "outputs": [],
   "source": [
    "import gym\n",
    "import random\n",
    "import numpy as np\n",
    "from tqdm import tqdm\n",
    "import matplotlib.pyplot as plt"
   ]
  },
  {
   "cell_type": "markdown",
   "metadata": {
    "id": "0fz-X3HTQueX"
   },
   "source": [
    "## Step 2: Create the environment 🎮\n",
    "- Here we'll create the FrozenLake 4x4 environment.\n",
    "- We can see the map via <b>env.render()</b>"
   ]
  },
  {
   "cell_type": "code",
   "execution_count": 5,
   "metadata": {
    "colab": {
     "base_uri": "https://localhost:8080/"
    },
    "id": "mh9jBR_cQ5_a",
    "outputId": "1db24a33-8f10-4198-97aa-9818b2d537ae"
   },
   "outputs": [
    {
     "name": "stdout",
     "output_type": "stream",
     "text": [
      "There are total 16 states\n",
      "There are total 4 actions\n",
      "\n",
      "\u001b[41mS\u001b[0mFFF\n",
      "FHFH\n",
      "FFFH\n",
      "HFFG\n"
     ]
    }
   ],
   "source": [
    "env = gym.make(\"FrozenLake-v1\")\n",
    "\n",
    "print('There are total {} states'.format(env.observation_space.n))\n",
    "print('There are total {} actions'.format(env.action_space.n))\n",
    "\n",
    "env.render()"
   ]
  },
  {
   "cell_type": "markdown",
   "metadata": {
    "id": "6q4ScCn0_hOl"
   },
   "source": [
    "  - Now we apply some random actions, and see what environment returns!"
   ]
  },
  {
   "cell_type": "code",
   "execution_count": 6,
   "metadata": {
    "colab": {
     "base_uri": "https://localhost:8080/"
    },
    "id": "351Xn8dOZMqX",
    "outputId": "a6155374-4b3e-4b76-af4d-678dd1f2f9f6"
   },
   "outputs": [
    {
     "name": "stdout",
     "output_type": "stream",
     "text": [
      "initial state:  0\n",
      "\n",
      "\u001b[41mS\u001b[0mFFF\n",
      "FHFH\n",
      "FFFH\n",
      "HFFG\n",
      "random action:  1\n",
      "next state: 0, reward: 0.0, game ended: False\n",
      "  (Down)\n",
      "\u001b[41mS\u001b[0mFFF\n",
      "FHFH\n",
      "FFFH\n",
      "HFFG\n"
     ]
    }
   ],
   "source": [
    "state = env.reset()\n",
    "print('initial state: ', state)\n",
    "env.render()\n",
    "action = random.randint(0, 3)\n",
    "print('random action: ', action)\n",
    "next_state, reward, done, _ = env.step(action)\n",
    "print('next state: {}, reward: {}, game ended: {}'.format(next_state, reward, done))\n",
    "env.render()"
   ]
  },
  {
   "cell_type": "markdown",
   "metadata": {
    "id": "JEtXMldxQ7uw"
   },
   "source": [
    "## Step 3: Preview Learning 🗄️\n",
    "Now, we'll iterate overall learning process once.\n",
    "- There are some hyperparameters used in learning process:\n",
    "  - `n_episodes`: total number of episodes that agent will play to learn Q-table\n",
    "  - `𝛼`: learning rate; balancing old Q-value and new Q-value\n",
    "  - `max_steps`: maximum number of steps that agent can take in each episode\n",
    "  - `𝛾`: gamma, discount rate\n",
    "- There are some parameters about exploration:\n",
    "  - `epsilon`: exploration rate\n",
    "\n",
    "### Step 3-1: Create empty Q-table\n",
    "  - <b>Q-table:</b> used to record value of action given state\n",
    "\n",
    "### Step 3-2: define generate trajectory function\n",
    "  - <b>generate_trajectory:</b> returns a set of experience; each experience has a form of (state, action, reward, next_state, done)"
   ]
  },
  {
   "cell_type": "code",
   "execution_count": 7,
   "metadata": {
    "colab": {
     "base_uri": "https://localhost:8080/"
    },
    "id": "Uc0xDVd_Q-C8",
    "outputId": "c2c7e7a2-1cbc-4ff9-d1a7-e2af89970719"
   },
   "outputs": [
    {
     "name": "stdout",
     "output_type": "stream",
     "text": [
      "Empty Q-table:  [[0. 0. 0. 0.]\n",
      " [0. 0. 0. 0.]\n",
      " [0. 0. 0. 0.]\n",
      " [0. 0. 0. 0.]\n",
      " [0. 0. 0. 0.]\n",
      " [0. 0. 0. 0.]\n",
      " [0. 0. 0. 0.]\n",
      " [0. 0. 0. 0.]\n",
      " [0. 0. 0. 0.]\n",
      " [0. 0. 0. 0.]\n",
      " [0. 0. 0. 0.]\n",
      " [0. 0. 0. 0.]\n",
      " [0. 0. 0. 0.]\n",
      " [0. 0. 0. 0.]\n",
      " [0. 0. 0. 0.]\n",
      " [0. 0. 0. 0.]]\n",
      "trajectory:\n",
      "[[0. 2. 0. 4. 0.]\n",
      " [4. 1. 0. 5. 1.]]\n"
     ]
    }
   ],
   "source": [
    "nS, nA = env.observation_space.n, env.action_space.n\n",
    "Q = np.zeros((nS, nA), dtype=np.float64)\n",
    "print('Empty Q-table: ', Q)\n",
    "epsilon = 1\n",
    "\n",
    "def generate_trajectory(Q, epsilon, env, max_steps=100):\n",
    "    done, trajectory = False, []\n",
    "    while not done:\n",
    "        state = env.reset()\n",
    "        for t in range(max_steps):\n",
    "            # epsilon-greedy\n",
    "            if random.random() < epsilon:\n",
    "                action = random.randint(0, 3)\n",
    "            else:\n",
    "                action = np.argmax(Q[state])\n",
    "            next_state, reward, done, _ = env.step(action)\n",
    "            experience = (state, action, reward, next_state, done)\n",
    "            trajectory.append(experience)\n",
    "            if done:\n",
    "                break\n",
    "            if t >= max_steps - 1:\n",
    "                trajectory = []\n",
    "                break\n",
    "            state = next_state\n",
    "    return np.array(trajectory)\n",
    "\n",
    "trajectory = generate_trajectory(Q, epsilon, env, max_steps=100)\n",
    "print('trajectory:')\n",
    "print(trajectory)"
   ]
  },
  {
   "cell_type": "markdown",
   "metadata": {
    "id": "9vCovwxcuS86"
   },
   "source": [
    "### Step 3-3: set hyperparameters ⚙️\n",
    "- Here, we'll specify the hyperparameters\n",
    "  - `max_steps`: maximum number of steps that agent can take in each episode\n",
    "  - `n_episodes`: total number of episodes that agent will play to learn Q-table\n",
    "  - `𝛾`: gamma, discount rate. `discounts` contains squares of `𝛾`.\n",
    "  - `𝛼`: learning rate; balancing old Q-value and new Q-value\n",
    "- There are some parameters about exploration:\n",
    "  - `epsilon`: exploration rate, decay over episodes"
   ]
  },
  {
   "cell_type": "code",
   "execution_count": 8,
   "metadata": {
    "id": "ZuSLcgTmoLQe"
   },
   "outputs": [],
   "source": [
    "# some parameters; will explained later with details.\n",
    "## in each episode, max step is 100\n",
    "max_steps = 100\n",
    "## we will total run 10,000 episodes\n",
    "n_episodes = 10000\n",
    "\n",
    "def decay_schedule(max_value, min_value, decay_ratio, steps, log_start=-2, log_base=10):\n",
    "    decay_steps = int(steps * decay_ratio)\n",
    "    rem_steps = steps - decay_steps\n",
    "    values = np.logspace(log_start, 0, decay_steps, base=log_base, endpoint=True)[::-1]\n",
    "    values = (values - values.min()) / (values.max() - values.min())\n",
    "    values = (max_value - min_value) * values + min_value\n",
    "    values = np.pad(values, (0, rem_steps), 'edge')\n",
    "    return values\n",
    "\n",
    "## discount rate gamma\n",
    "gamma = 1.0\n",
    "discounts = np.logspace(0, max_steps, num=max_steps, base=gamma, endpoint=False) \n",
    "\n",
    "## learning rate, alpha\n",
    "max_alpha = 0.5\n",
    "min_alpha = 0.01\n",
    "alpha_decay_ratio = 0.5\n",
    "alphas = decay_schedule(max_alpha, min_alpha, alpha_decay_ratio, n_episodes)"
   ]
  },
  {
   "cell_type": "markdown",
   "metadata": {
    "id": "vbe96w6oiaxd"
   },
   "source": [
    "## Step 4: Learn Until Converge 🧠\n",
    "### here we use Monte-Carlo method:\n",
    "\n",
    "![monte-carlo.png](data:image/png;base64,iVBORw0KGgoAAAANSUhEUgAAAbgAAAArCAYAAAAKT53qAAAAAXNSR0IArs4c6QAAAARnQU1BAACxjwv8YQUAAAAJcEhZcwAADsQAAA7EAZUrDhsAABM6SURBVHhe7Z0JvFXT98C36UeRocEQkbGSpHyEyBCFDIlkKCWEzJk16E+JqEgipCR9MoVEIUSZQ4YkCilTyCyz/d/f9fbunnfeOe/d9+59et3P+n4+t3v2Pvede87ea6+91tpr31azDqMoiqIoBcbq/l1RFEVRCgqd4BRFUZSCRCc4RVEUpSDRCU5RFEUpSHSCUxRFUQoSneAURVGUgkQnOEVRFKUg0QlOURRFKUh0glMURVEKEp3gFEVRlIJEJzhFURSlINEJTlEURSlIdIJTVho//PCDP6p6/PXXX2b58uW+tGpQldsTquL9/f333+bXX3/1pcKkKstF0r3lc+yt8X8Of1xuvvzySzN37lzz2WefmTXXXNPUqFHDnynOvHnzzMKFC+VztWvXNmuttZY/UzX48ccfzdNPP20effRRs2TJErPpppua6tWrm1deecVsscUW/lPl49VXX5XXeuutZzbYYANfW/h8+umn5qmnnpK2oy132GEHs9pqq/mzGSZMmGDWWGMNU7duXV+T4YMPPjAPPfSQefnll02tWrVECS1dutRstNFG/hO58cADD0i/bLjhhr6mJNxzv379zF577bVS5fXnn382M2bMMC+88IJ55513zGabbWbWXXddfzbDxx9/bCZNmmRatGjhazJwDZ6Z6/zyyy9mm222yUm24yxevFj6vHHjxr4mmQcffFC+v169er5m5cJ/pNK/f3+z3377if7KBmTxvffeM0888YToDJQxMkz9k08+KfJemfz555/mueeeMzNnzhTdy33XqVPHny1JfJz9888/5t577zXPPPOM+fbbb822225r3nzzzcRxmAu5yERexx7/XU5FcROWnTJlinUDxbZq1crXFue7776zDRs2tM2bN7euUa2bmf2Z3Pj666/9UW48/vjj9sADD7TTp0+3//77r/3pp5/syJEjba9evexJJ53kP1V+nDKxTnjsww8/7GsKG/q5S5cudvz48dYpVKmjTWnb77//XsqBDz/80I4aNcqXinPzzTdL+zvFYZ11Z6+++mrbrFkz+8UXX/hP5AZy4ya2rPpl/vz59rzzzvOl/55hw4bZCy64wC5atEjKtMHBBx8sshXFKS17+eWXW6dkfU2Gt956y5511lny3Jx3itm2bdvWDh8+3H8id4488kh7wgkn+FI6jK9jjz1WxlhV4LbbbrPOmPKl0kEenS9gnWFku3fvbu+8807rjA6R4zZt2tjddtvNnnHGGf7TlQP3esQRR9hZs2ZJmXsaMGCAyMgff/whdVHi4ww5ad++/Qr54fy5555rDzroICnnk1xlIl9jL6cJLjBw4EBbrVq1RGFBkZx66qn25JNP9jX54dJLL/VHFYcJt2bNmtZ5Hb4mA0ohlwkOjj76aOs8EV8qXJxFa3fZZRfrPC5fk+Hiiy+2Z555pi8V0bFjx8QByd937drVl4pAMTdq1MiXcufaa6+1m2++ub3lllt8TekgZ85i9qX/BmeliyJDecV57bXX7JZbblnMULzpppvEmIjDdXbffXfrLGRfUwRGBxNfPnBei3UekN1///19Telw/+ecc44vZce4ceP8Uf746KOPslagn3zyid11112l3V966SVfm+G+++7j/9S0zjPyNfkHI3GTTTaRSTXOaaedZnv06OFLGeLjDF0c/xxG0yGHHOJL+SFfMpGPsZeXNThCPUcddZRxVo2vyYBLjIucT7gmLnouuI43buI1zvoxTnB9bQanmBNDa+UlH9eoyhCicZaatOMee+zhazMQZiB0Fnj//felvf/3v//5mgz333+/adCggS8VQfjFGRq+lBuEjJs3by7fT3g9G5yFa8aOHetLpfPbb7+Zxx57zJcqjvNajbNsTd++fX1NBqdoJVw7e/ZsX2MkXOYmLV/K8MYbb4icx0OazmI3TZo08aWKQ7jMTZTGTcZZt6fzdIybXERusuXFF1/0R/njnnvuMccdd5wvpUM/dO7c2cyZM8dMnDjR7Lnnnv5MhkMPPdSss846xil0X5N/+vTpI33GeIpDmBXdS9g5kDTO3GQmshOFkDch2nyRT5koz9hLI29JJkwWd999t8SiA8R2GZBJfPPNN9Ipzvoxd911lwxEcBa7dJibvWVtjBjt4MGDjZvl5fyCBQuM84zM22+/bYYOHSqv8Le833777XLNESNGlLpQyb05y8w0a9bM1xRnq622EsENEG93FpAoH+4xQJyZe0WxERPne5ctW+bPFofBwiDh/saMGSOduqozaNAged40ZcEaAYPq999/l/IjjzxidtxxRzmOwxrbHXfcIWtFUTlylrY/qji0PesObdq0kTXWbAcfaxOseUTvJw3kOVeDBrlGxjCwklh99dXlxVonIEMYfElgeHI9560a5wH4WmOctSzXyBWUT/fu3UVJZtue4DwR8+yzz/pS/kHeGGeMMfouidLkMIrzjo3z2kyHDh1My5YtfW1xMCAYBxtvvLGvyT/cb5quQkb57smTJ/ua5Odr166d6Cn6Hz0aOP/88/1R7uRTJsoz9lLxnlxOsG5CLJU1J9ewvtZaNznJ++mnn14sRMnaHWsJIe5KuIB1AUIqXMdNPtYpO+uUnXVWsazvuA6UsAznCSnWqlVL1hR4AfFlXOLXX39dyryXFgNmnYfHTwpPxiEEcf3118vxvHnzrJv85L6Adycg9rDDDrPOarKdOnWyTojkHCHK6FoP55yVJcfEzwkhOCtbyqsq9DlhvzRuuOEGCQkGDj/8cOsE2ZeKs2TJEtu4cWPplxo1akh75WvtzRlfK9ayCJk640WOs4H143fffdeXknEGm/Q38pkLrKXxfWl8/vnn0j4hVMZz9ezZU46TYHmAz7sJTcKVziDzZ3Jj8eLF1hmmckwYie/Idn39mmuusVdccYUvlQ0huGx5/vnnRcaccSxlQnLOOJXjsFzAmK1du7Ycl8XOO+8sz7YylxoI03MPznj3NSVxnl2xUGPaOKPP3IQs13OTkKxD5ovKkIlsxl5p5M2Dw3J1k9iKMCXeE5mISZAhQ5gkZF2S1UUoyjW2XGennXYSi7Nhw4bi+mPZYyW5wS3ng/VJ6DOEP8m6cxPhCo+Rd7I3g3cXJ4RtCCuVxfrrry8vaNSokTwXljFwf2ROkTHI/eKdRT2/wLRp0+QzTslIGc+mS5cuplevXlJeFcELx4No3bq1rykJmWXhmQHrmsytJMjqIxQ0ffp045SavLvJyJ8tYurUqf4oe5ALMrXwygHr8quvvpLjKHjjSdYi/Rv12uNgeWLh43khT8h+aa/gzSZB5ugBBxzgSyUhHFmtWrUVIUbuK609AY+YyMKQIUPku9u3b2+cYenPpj9zWRDiQ34BjxjiFjvZhsHTjFJae+Jpx9uL+4vXOd3l/yIDWYFEEvBYw3glbDh69GiJCoQxz3ejc8qC7+EZoFWrVvIeICOcF3LEi7EdbcdZs2aZUaNG+VJuEGZE76V56hA/lzbOunXrJmOW/nMTougfZ1T5s0VUpkyUd4yVNfbKIm8THNB4PAAPxaBPU3zE1FEyUZyVL6GAKNF4NxNZaYqBkCOTDa55eLEumLYHhLUYIPU6DYQUnLcp6erOizPjxo2TWHH8XogjlwbPHE/F5ZlZFypNcKsypKZD/fr15T0Oyg3F0rt3b19TpDSS0vODIiQtmPUkFPKwYcOM88SlHubPny/h7PKCksdguu666+TlLMLE8MlFF12UmC5es2ZNue8kkIWBAweKksNAY90smxdrFUnQpmntCTw/IVu2OQD3lbQNJTqxkKqNIqMvmEAw/AJpz1waXIflA5YHaE+2IEC8TQcMGJC4x4z2TNt7xlJEvK1Yb4zXMd7jMJE1bdq02PYHQl8odAyDtm3bSl2aDMZBZhibGOJsbwqgoHl21sXQY7yuuuqqFeMB4rKbBOvWnTp1WvFKU+T0LzKxaNEiX1MSlltwDAJJz8gaHNAmrCvijLAENH78+GIGQ2XKRGljLE1W0sZeVogflyOEKAOEfgYNGrQiPAnxEGXLli3t2LFjfamIs88+W15AqJJbc4IkZdhuu+1WuKqEsghRAinphP1GjBhhneUrddlAKGnvvfdOzaRyE5ikAgNpuLwCLVq0EBeczCYgIy/ce5RoiJJQXTxbiXAKoddVFZ6ffgphYfqNvgk4a7pE6jRhZGdU+FIGZCYOWZWhzWgrZIhrOqNA6rKBeyM1PgpbQ5zBJGFtIPvXDUrJBI2G2APt2rVbEVpOgusQpiVcmCuknF9yySW+VJTBF+6TMBkh4SB3gOz169fPlzIktScQXmf7RVnPnAZ9zN/FIezllJocEx4cM2aMrVevnoxzxlIU6qLjqSyyDVEef/zxJcJchHKdoi8W5nKenm3QoIEvlY6bDERWnPL1NRnIwkb+2QYVWLBggcg8IXa2Tk2YMMGfKQnZx8hneP2RkFkcIFOdTM4AIXH6AkipJwRN2n8gaZwhoyyNREEP1qlTxy5btqxSZaKsa6fJRFljryxy9uDcNSRUFTjllFPM8OHDxbUM8BleARYhowuKWJVsZO3atauUw2ejfxM9JmQZMm4IDeC+k3iCZRr12JwiS7WK+BsWobFekrK0sJSPOeYY+V4SV0488USp514JTcCUKVPknc9E7y9KqA/3F/X8aAPCuqsqWIhOqYh1TNiLtiSDiuw9LFraeOTIkf7TRWy99dZibUZhwZu+ikMfEM6GffbZRyw8ytHNzG7iE289CTY4EzImHB4FixvLPMgtsopH1KNHDwnhxeF+Q3gzCULmJBrxQwFJnmF56NmzpyTD4CWwSZfrkTCBjOIpIjNRyzypPYGM1GCxB4iuINN4BGnPzHjBCndKy9cUh3sI4zRKNHGH8CAZtbzIgF177bWlPoCnw33nG2Qknp1LNiEeXdS7wStAT6SN2Sh4ochKkMMA/eMUthxHsyedIW6cQS+yR/+RYZwGSSAspYRXUmZxwBk9ch8sxRCBcBOihASJHFx22WUy3rbffnv/6WS5YLnGGdq+VATLPowH2qQyZaKsMZYmE2WNvTJxnVxhmFlJ5Khbt651jSwWCLM5lhRgaTJru44UK4djLAVgAy/7fKZNmyabDUnkgKVLl0q5evXq4l25BrL9+/cXi6hbt26S5AEsnrMRlkXSYJWwAdJNRHby5MnWDXDrFI7UlwaJBx06dLBXXnmlJHzgmQ0ZMkSsqwD7MdifhcXGnhySX/gevAq8AzewrBtAYiEFr/PWW2+19evXFwsk7F3h2lijeBA33nijWCxx63ZVg/6k/ZzQSt/wrHjoeDNYh3GrFC8EbzYK7UlyBTJBgg5yRZtPmjTJf6KIJk2a+KMM/J0b2CWSO+gnkipIEoha79yfU/KybxOPMPQzCS3RPg9wXRbws4H75hlyZfDgweL9I99Y59wbz8l4ircnCRPxjbokZeH5Io8s+pO0RVJV3759i/190jO7iVSSD9xE6muKYN8cY51xGPVU8YZ69+5t3aQp/R4sdjxLvjOJzp07W6fQfKlssvXgeG76FhlCryBXtB/tww9SRPdpoqNI2MkG2hDPmYQH5JK+IEkOOSaZI+6RsC+Rz+cbolUkFKEH0XXIMnoHXQNR7yxpnKHj+vTpI14ubUEkxDkksg8tUJkykTbGIEkmyjP20shpgssVOoSQVlw5ZQsCnQSCG9z3bKFT2CyLkk66H+6VyTdQ3utH4f5W9YktDpmwU6dOtXPmzJFJHZzlJ8o6CqEefuUgSlA0y5cvl8E0c+bMEtlXhDhQXhDfbOss2QrLUKBp06byHr82Rkx5Jq2kUFZFQLZRKCgyNn2HsCQb5+PPinKgrQOECMPm7rlz54oR5ix9KUdJe2aMFvoyF5hAUGaEyaIbzRlH5clghfL+QghZ2tHxRYg3ZFUGULpMgNlCm5PRixGDUVyavCGnGODcQ1LoLlfIPp8xY4ZMUoTsyV4E58XJOySNsyAjGDkYPchX+NWhQGXKRNq102SivGMviZU6wSmFB8oE7xtrDety4cKF/kwGJj0s6/KAIcRgHj16tKxLRWG9J1fY5oHSw8uOcuGFF670n5ZissASbt26deJPbDGRDB061JeyJ+2Z8UhCpKWisHUGz2fixIm+pggiNSFtP1uik3e+QKkyceZqGCVBZAojD89z9uzZvrZywFNmHR9PJ/4rQBUZZ5UpE2nXTpOJfIw9neCUvMPPnBEeJEyUBJMg4dnyesFYxHGFhMdY3kGcBPeUFE6Nh2VWBigXjIXS9o4RpoqGYrMh6Zkp89z5gPBpFCIgST8/trIgKpDP3+SM8l9FaEgYIly67777ltjTW5FxVpkykXTtNJnI19hbjX/8cpyi/GewT8cpGEkMqIo4pSDJM/zk0KoAw5ifROvYsaOvqXqQhEPCTzzpZGVCejt7CqPbAAqJqj7OkmQin2NPJzhFURSlIMnrRm9FURRFqSroBKcoiqIUJDrBKYqiKAWJTnCKoihKQaITnKIoilKQ6ASnKIqiFCQ6wSmKoigFiU5wiqIoSkGiE5yiKIpSkOgEpyiKohQkOsEpiqIoBYlOcIqiKEpBohOcoiiKUoAY8/+f3H7PdUfZwQAAAABJRU5ErkJggg==)"
   ]
  },
  {
   "cell_type": "code",
   "execution_count": 44,
   "metadata": {
    "colab": {
     "base_uri": "https://localhost:8080/"
    },
    "id": "17XBPCecAsZG",
    "outputId": "c87071ae-12ec-422b-ad0f-c0c6d1f20842"
   },
   "outputs": [
    {
     "name": "stderr",
     "output_type": "stream",
     "text": [
      "                                                                                                                       "
     ]
    },
    {
     "name": "stdout",
     "output_type": "stream",
     "text": [
      "Learned Q-table:\n",
      "[[7.01981629e-01 5.63386106e-01 5.32767222e-01 5.06632962e-01]\n",
      " [1.70564753e-01 1.95233676e-01 1.29473884e-01 4.30846723e-01]\n",
      " [3.69854298e-01 2.23231486e-01 2.00451843e-01 2.64052659e-01]\n",
      " [4.51248744e-02 4.85285189e-07 2.22696663e-02 1.98864075e-01]\n",
      " [7.03122214e-01 4.30733077e-01 3.55380506e-01 3.51404801e-01]\n",
      " [0.00000000e+00 0.00000000e+00 0.00000000e+00 0.00000000e+00]\n",
      " [1.75724889e-01 1.00704096e-01 3.00650771e-01 5.62236632e-02]\n",
      " [0.00000000e+00 0.00000000e+00 0.00000000e+00 0.00000000e+00]\n",
      " [3.52468253e-01 3.60167123e-01 3.71296474e-01 7.21570440e-01]\n",
      " [3.90242451e-01 7.28667493e-01 3.89453948e-01 3.69953875e-01]\n",
      " [6.51710621e-01 3.76126313e-01 3.03449791e-01 2.24818508e-01]\n",
      " [0.00000000e+00 0.00000000e+00 0.00000000e+00 0.00000000e+00]\n",
      " [0.00000000e+00 0.00000000e+00 0.00000000e+00 0.00000000e+00]\n",
      " [3.49627926e-01 3.71823462e-01 7.64584455e-01 4.10921143e-01]\n",
      " [5.79014087e-01 8.70068761e-01 7.55923997e-01 6.91740376e-01]\n",
      " [0.00000000e+00 0.00000000e+00 0.00000000e+00 0.00000000e+00]]\n",
      "Learned Value of states:\n",
      "[2.30476792 0.92611904 1.05759029 0.2662591  1.8406406  0.\n",
      " 0.63330342 0.         1.80550229 1.87831777 1.55610523 0.\n",
      " 0.         1.89695699 2.89674722 0.        ]\n"
     ]
    },
    {
     "name": "stderr",
     "output_type": "stream",
     "text": [
      "\r"
     ]
    }
   ],
   "source": [
    "# recall other parameters\n",
    "## state space, action space\n",
    "nS, nA = env.observation_space.n, env.action_space.n\n",
    "## create empty Q-table\n",
    "Q = np.zeros((nS, nA), dtype=np.float64)\n",
    "\n",
    "## in each episode, max step is 100\n",
    "max_steps = 100\n",
    "## we will total run 10,000 episodes\n",
    "n_episodes = 10000\n",
    "\n",
    "## discount rate, gamma\n",
    "gamma = 1.0\n",
    "discounts = np.logspace(0, max_steps, num=max_steps, base=gamma, endpoint=False) \n",
    "\n",
    "# exploration rate, epsilon\n",
    "max_epsilon = 1.0\n",
    "min_epsilon = 0.01\n",
    "epsilon_decay_ratio = 0.9\n",
    "epsilons = decay_schedule(max_epsilon, min_epsilon, epsilon_decay_ratio, n_episodes)\n",
    "\n",
    "# learning rate, alphas:\n",
    "max_alpha = 0.7\n",
    "min_alpha = 0.01\n",
    "alpha_decay_ratio = 0.5\n",
    "alphas = decay_schedule(max_alpha, min_alpha, alpha_decay_ratio, n_episodes)\n",
    "\n",
    "# we will not update same state twice in same trajectory\n",
    "first_visit = True\n",
    "\n",
    "# record episode rewards\n",
    "epi_rew = []\n",
    "for e in tqdm(range(n_episodes), leave=False):\n",
    "    trajectory = generate_trajectory(Q, epsilons[e], env, max_steps)\n",
    "    epi_rew.append(trajectory[-1][2])\n",
    "    visited = np.zeros((nS, nA), dtype=bool)\n",
    "    for t, (state, action, reward, _, _) in enumerate(trajectory):\n",
    "        state = int(state)\n",
    "        action = int(action)\n",
    "        if visited[state][action] and first_visit:\n",
    "            continue\n",
    "        visited[state][action] = True\n",
    "        \n",
    "        n_steps = len(trajectory[t:])\n",
    "        G = np.sum(discounts[:n_steps] * trajectory[t:, 2])\n",
    "        ############# Update Q-table #############\n",
    "        Q[state][action] = Q[state][action] + alphas[e] * (G - Q[state][action])\n",
    "\n",
    "print('Learned Q-table:')\n",
    "print(Q)\n",
    "print('Learned Value of states:')\n",
    "print(np.sum(Q, axis=1))"
   ]
  },
  {
   "cell_type": "code",
   "execution_count": 45,
   "metadata": {
    "colab": {
     "base_uri": "https://localhost:8080/",
     "height": 873
    },
    "id": "NH3YoZm3DPZI",
    "outputId": "d265f031-9ab0-4fda-a75d-b0e19ada920f"
   },
   "outputs": [
    {
     "data": {
      "image/png": "[encoded data removed]",
      "text/plain": [
       "<Figure size 1000x500 with 1 Axes>"
      ]
     },
     "metadata": {},
     "output_type": "display_data"
    },
    {
     "data": {
      "image/png": "[encoded data removed]",
      "text/plain": [
       "<Figure size 1000x500 with 1 Axes>"
      ]
     },
     "metadata": {},
     "output_type": "display_data"
    }
   ],
   "source": [
    "plt.figure(figsize=(10, 5))\n",
    "plt.plot([np.mean(epi_rew[:100]) for i in range(100)] + [np.mean(epi_rew[i - 100:i]) for i in range(100, len(epi_rew))], label='recent 100 game success ratio')\n",
    "plt.legend()\n",
    "plt.show()\n",
    "plt.close()\n",
    "\n",
    "plt.figure(figsize=(10, 5))\n",
    "plt.plot(alphas, label='learning rates')\n",
    "plt.plot(epsilons, label='exploration rates')\n",
    "plt.legend()\n",
    "plt.show()\n",
    "plt.close()"
   ]
  },
  {
   "cell_type": "markdown",
   "metadata": {
    "id": "R5czk9qTBQIU"
   },
   "source": [
    "## Step 5: Play with learnt Q-table! 👾\n",
    "- <b>Exploitation:</b> follow the Q-table"
   ]
  },
  {
   "cell_type": "code",
   "execution_count": 52,
   "metadata": {
    "colab": {
     "base_uri": "https://localhost:8080/"
    },
    "id": "Bt8UsREaBNkJ",
    "outputId": "ed7d3c0e-7490-44c2-ba83-47c091704a1f"
   },
   "outputs": [
    {
     "name": "stdout",
     "output_type": "stream",
     "text": [
      "****************************************************\n",
      "EPISODE  0\n",
      "  (Down)\n",
      "SFFF\n",
      "FHFH\n",
      "FFFH\n",
      "HFF\u001b[41mG\u001b[0m\n",
      "We reached our Goal 🏆\n",
      "Number of steps 83\n",
      "****************************************************\n",
      "EPISODE  1\n",
      "  (Down)\n",
      "SFFF\n",
      "FHFH\n",
      "FFFH\n",
      "HFF\u001b[41mG\u001b[0m\n",
      "We reached our Goal 🏆\n",
      "Number of steps 5\n",
      "****************************************************\n",
      "EPISODE  2\n",
      "  (Down)\n",
      "SFFF\n",
      "FHFH\n",
      "FFFH\n",
      "HFF\u001b[41mG\u001b[0m\n",
      "We reached our Goal 🏆\n",
      "Number of steps 15\n",
      "****************************************************\n",
      "EPISODE  3\n",
      "  (Down)\n",
      "SFFF\n",
      "FHFH\n",
      "FFFH\n",
      "HFF\u001b[41mG\u001b[0m\n",
      "We reached our Goal 🏆\n",
      "Number of steps 25\n",
      "****************************************************\n",
      "EPISODE  4\n",
      "  (Down)\n",
      "SFFF\n",
      "FHFH\n",
      "FFFH\n",
      "HFF\u001b[41mG\u001b[0m\n",
      "We reached our Goal 🏆\n",
      "Number of steps 10\n"
     ]
    }
   ],
   "source": [
    "for episode in range(5):\n",
    "    state = env.reset()\n",
    "    done = False\n",
    "    print(\"****************************************************\")\n",
    "    print(\"EPISODE \", episode)\n",
    "\n",
    "    for step in range(max_steps):\n",
    "        # Take the action (index) that have the maximum expected future reward given that state\n",
    "        action = np.argmax(Q[state])\n",
    "\n",
    "        next_state, reward, done, info = env.step(action)\n",
    "\n",
    "        if done:\n",
    "            # Here, we decide to only print the last state (to see if our agent is on the goal or fall into an hole)\n",
    "            env.render()\n",
    "            if next_state == 15:\n",
    "                print(\"We reached our Goal 🏆\")\n",
    "            else:\n",
    "                print(\"We fell into a hole ☠️\")\n",
    "\n",
    "            # We print the number of step it took.\n",
    "            print(\"Number of steps\", step)\n",
    "\n",
    "            break\n",
    "        state = next_state\n",
    "env.close()"
   ]
  },
  {
   "cell_type": "code",
   "execution_count": null,
   "metadata": {
    "id": "pbA6Rq4O1qmT"
   },
   "outputs": [],
   "source": []
  }
 ],
 "metadata": {
  "colab": {
   "provenance": []
  },
  "kernelspec": {
   "display_name": "Python 3 (ipykernel)",
   "language": "python",
   "name": "python3"
  },
  "language_info": {
   "codemirror_mode": {
    "name": "ipython",
    "version": 3
   },
   "file_extension": ".py",
   "mimetype": "text/x-python",
   "name": "python",
   "nbconvert_exporter": "python",
   "pygments_lexer": "ipython3",
   "version": "3.8.16"
  }
 },
 "nbformat": 4,
 "nbformat_minor": 1
}
