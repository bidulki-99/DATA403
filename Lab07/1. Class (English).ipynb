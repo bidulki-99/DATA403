{
 "cells": [
  {
   "attachments": {},
   "cell_type": "markdown",
   "metadata": {},
   "source": [
    "# Pytorch Basic  \n",
    "\n",
    "Writer: KukJin Kim. kukjinkim@korea.ac.kr  \n",
    "\n",
    "In today's and next week's practice session, we will learn Pytorch, one of the deep learning frameworks for project.\n",
    "The contents were organized assuming that the students did not take the deep learning lecture. Only the required contents has been compressed to a minimum.\n",
    "If you don't know anything, feel free to ask the TAs anytime :)\n"
   ]
  },
  {
   "attachments": {},
   "cell_type": "markdown",
   "metadata": {},
   "source": [
    "# Contents\n",
    "- Class Review <-\n",
    "- Tensor, Tensor Manipulation\n",
    "- Dataset, DataLoader\n",
    "- Regresseion \n",
    "- Clasification"
   ]
  },
  {
   "attachments": {},
   "cell_type": "markdown",
   "metadata": {},
   "source": [
    "## 1. Class Review\n",
    "    - Member, Instance\n",
    "    - Member access operator\n",
    "    - Constructor\n",
    "    - Method (member function)\n",
    "    - Inheritance\n",
    "\n",
    "\n",
    "Before we proceed with the pytorch, let's review about how Python deals with Class.\n",
    "Only when you understand Class, you can do reverse engineering a particular library.\n",
    "Furthermore, you can understand in detail the internal operations of deep learning frameworks such as pytorch, jax, and tensorflow.\n",
    "\n",
    "![](2023-04-17-14-21-59.png)\n",
    "\n",
    "#### 1.1  Member, Instance\n",
    "What is a class? Its origin is the structure of C. A structure is a method for managing variables of different data types in a single logical unit.\n",
    "A class is an extension of a structure. A kind of framework or design used to create objects in object-oriented programming. Conceptually, it's like the bread mold.\n",
    "Let's make our own FishBread class.\n"
   ]
  },
  {
   "cell_type": "code",
   "execution_count": 14,
   "metadata": {},
   "outputs": [],
   "source": [
    "class FishBread:\n",
    "    flavor=None\n",
    "    price=None\n",
    "    amount=None"
   ]
  },
  {
   "attachments": {},
   "cell_type": "markdown",
   "metadata": {},
   "source": [
    "At this time, variables such as `flavor, price, and amount` are called **member variables** and expressed as members within the `Person` class.  \n",
    "In other words, member variables are variables defined within the class.  \n",
    "Now that you've made a fish-shaped bun mold, you can make fish-shaped bun. The Objects which is created through a class are called **instances**.  "
   ]
  },
  {
   "cell_type": "code",
   "execution_count": 9,
   "metadata": {},
   "outputs": [],
   "source": [
    "red_bean = FishBread() \n",
    "cream_puffs = FishBread()\n"
   ]
  },
  {
   "attachments": {},
   "cell_type": "markdown",
   "metadata": {},
   "source": [
    "You can create an instance by parentheses with the class name `class_name()` as shown above.  \n",
    "The member access operator now lets you see what the members inside the instance have.  \n",
    "`.` Point symbol is member access operator. You can access the member in the same way as `instance.member`."
   ]
  },
  {
   "cell_type": "code",
   "execution_count": 10,
   "metadata": {},
   "outputs": [
    {
     "name": "stdout",
     "output_type": "stream",
     "text": [
      "None None None\n",
      "None None None\n"
     ]
    }
   ],
   "source": [
    "print(red_bean.flavor, red_bean.price, red_bean.amount)\n",
    "print(cream_puffs.flavor, cream_puffs.price, cream_puffs.amount)\n"
   ]
  },
  {
   "attachments": {},
   "cell_type": "markdown",
   "metadata": {},
   "source": [
    "#### 1.2 Modify member variable with member access operator\n",
    "However, when defining the `FishBread` class for the first time, each member was assigned as None, so the result appears to be None.  \n",
    "The member access operator allows you to change the value of an internal variable directly."
   ]
  },
  {
   "cell_type": "code",
   "execution_count": 13,
   "metadata": {},
   "outputs": [
    {
     "name": "stdout",
     "output_type": "stream",
     "text": [
      "red_bean 1000 3\n",
      "cream_puffs 1000 2\n"
     ]
    }
   ],
   "source": [
    "red_bean.flavor = 'red_bean'\n",
    "red_bean.price = 1000\n",
    "red_bean.amount = 3\n",
    "\n",
    "cream_puffs.flavor = 'cream_puffs'\n",
    "cream_puffs.price = 1000\n",
    "cream_puffs.amount = 2\n",
    "\n",
    "print(red_bean.flavor, red_bean.price, red_bean.amount)\n",
    "print(cream_puffs.flavor, cream_puffs.price, cream_puffs.amount)"
   ]
  },
  {
   "attachments": {},
   "cell_type": "markdown",
   "metadata": {},
   "source": [
    "#### 1.3 Constructor\n",
    "However, it is a very tedious task to create an instance every time and to access the members of the variable one by one and assign the value of the variable.  \n",
    "To simplify this, there is a constructor that assigns variable values at the time the instance is created.  \n",
    "In Python, a method or member function means a function defined within a class.  \n",
    "Constructors are called when you create an instance. Within the class, the constructor is defined with the keyword `__init__`.  \n",
    "Let's redefine the `FishBread` class.  \n"
   ]
  },
  {
   "cell_type": "code",
   "execution_count": 18,
   "metadata": {},
   "outputs": [],
   "source": [
    "class FishBread:\n",
    "    def __init__(self, flavor, price, amount):\n",
    "        self.flavor=flavor\n",
    "        self.price=price\n",
    "        self.amount=amount"
   ]
  },
  {
   "attachments": {},
   "cell_type": "markdown",
   "metadata": {},
   "source": [
    "The keyword `self`, which we have never seen before, appeared in the first argument of the function and in the body of the function.  \n",
    "This is a reserved keyword that makes methods or variables containing `self` belong to members of the current class.  \n",
    "You can simply assign values to member variables through constructors, as in the code below.  "
   ]
  },
  {
   "cell_type": "code",
   "execution_count": 21,
   "metadata": {},
   "outputs": [
    {
     "name": "stdout",
     "output_type": "stream",
     "text": [
      "red_bean 1000 3\n",
      "cream_puffs 1500 2\n"
     ]
    }
   ],
   "source": [
    "red_bean = FishBread('red_bean', 1000, 3)\n",
    "cream_puffs = FishBread('cream_puffs', 1500, 2)\n",
    "print(red_bean.flavor, red_bean.price, red_bean.amount)\n",
    "print(cream_puffs.flavor, cream_puffs.price, cream_puffs.amount)\n"
   ]
  },
  {
   "attachments": {},
   "cell_type": "markdown",
   "metadata": {},
   "source": [
    "#### 1.4.1 Method (member function)\n",
    "\n",
    "Let's wrote the some Class below to represent the people in the classroom as objects.  \n",
    "Classrooms can have professors, teaching assistants, and several students. Imagine a situation where you are building a database based on people's information."
   ]
  },
  {
   "cell_type": "code",
   "execution_count": 1,
   "metadata": {},
   "outputs": [],
   "source": [
    "class Person:\n",
    "    def __init__(self, _id, name, gender, position):\n",
    "        self._id=_id\n",
    "        self.name=name\n",
    "        self.gender=gender\n",
    "        self.position=position\n",
    "        "
   ]
  },
  {
   "cell_type": "code",
   "execution_count": 2,
   "metadata": {},
   "outputs": [],
   "source": [
    "p1 = Person(1111, 'richard sutton', 'male', 'professor')\n",
    "p2 = Person(1112, 'pieter abbeel', 'male', 'student')\n",
    "p3 = Person(1113, 'david silver', 'male', 'student')\n",
    "p4 = Person(1114, 'sergey levine', 'male', 'student')\n",
    "p5 = Person(1115, 'chelsea finn', 'female', 'student')\n",
    "p6 = Person(1116, 'John Schulman', 'male', 'student')\n",
    "\n",
    "database_2010 = [p1, p2, p3, p4, p5, p6]"
   ]
  },
  {
   "attachments": {},
   "cell_type": "markdown",
   "metadata": {},
   "source": [
    "As time passed, there were changes in `position` of people, and a situation arose where the data had to be modified. Everyone has to become a professor and we need to update their positions.  \n",
    "You can access the database by accessing member variables as follows.\n",
    "\n"
   ]
  },
  {
   "cell_type": "code",
   "execution_count": 3,
   "metadata": {},
   "outputs": [],
   "source": [
    "p2.position = 'professor'\n",
    "p3.position = 'professor'\n",
    "p4.position = 'professor'\n",
    "p5.position = 'professor'\n",
    "p6.position = 'professor'\n"
   ]
  },
  {
   "cell_type": "code",
   "execution_count": 4,
   "metadata": {},
   "outputs": [
    {
     "name": "stdout",
     "output_type": "stream",
     "text": [
      "1111 richard sutton male professor\n",
      "1112 pieter abbeel male professor\n",
      "1113 david silver male professor\n",
      "1114 sergey levine male professor\n",
      "1115 chelsea finn female professor\n",
      "1116 John Schulman male professor\n"
     ]
    }
   ],
   "source": [
    "for person in database_2010:\n",
    "    print(person._id, person.name, person.gender, person.position)"
   ]
  },
  {
   "attachments": {},
   "cell_type": "markdown",
   "metadata": {},
   "source": [
    "However, it is very cumbersome to manually access, modify, and delete data and check the data using the member access operator.  \n",
    "Instead, implement methods and use for or while statements to reduce code repetition and increase reusability."
   ]
  },
  {
   "cell_type": "code",
   "execution_count": 3,
   "metadata": {},
   "outputs": [
    {
     "name": "stdout",
     "output_type": "stream",
     "text": [
      "before: (1111, 'richard sutton', 'male', 'professor')\n",
      "after: (1111, 'richard sutton', 'male', 'professor')\n",
      "\n",
      "before: (1112, 'pieter abbeel', 'male', 'student')\n",
      "after: (1112, 'pieter abbeel', 'male', 'professor')\n",
      "\n",
      "before: (1113, 'david silver', 'male', 'student')\n",
      "after: (1113, 'david silver', 'male', 'professor')\n",
      "\n",
      "before: (1114, 'sergey levine', 'male', 'student')\n",
      "after: (1114, 'sergey levine', 'male', 'professor')\n",
      "\n",
      "before: (1115, 'chelsea finn', 'female', 'student')\n",
      "after: (1115, 'chelsea finn', 'female', 'professor')\n",
      "\n",
      "before: (1116, 'John Schulman', 'male', 'student')\n",
      "after: (1116, 'John Schulman', 'male', 'professor')\n",
      "\n"
     ]
    }
   ],
   "source": [
    "class Person:\n",
    "    def __init__(self, _id, name, gender, position):\n",
    "        self._id=_id\n",
    "        self.name=name\n",
    "        self.gender=gender\n",
    "        self.position=position\n",
    "        \n",
    "    def set_position(self, position):\n",
    "        self.position = position\n",
    "    \n",
    "    def get_information(self):\n",
    "        return self._id, self.name, self.gender, self.position\n",
    "    \n",
    "p1 = Person(1111, 'richard sutton', 'male', 'professor')\n",
    "p2 = Person(1112, 'pieter abbeel', 'male', 'student')\n",
    "p3 = Person(1113, 'david silver', 'male', 'student')\n",
    "p4 = Person(1114, 'sergey levine', 'male', 'student')\n",
    "p5 = Person(1115, 'chelsea finn', 'female', 'student')\n",
    "p6 = Person(1116, 'John Schulman', 'male', 'student')\n",
    "\n",
    "database_2010 = [p1, p2, p3, p4, p5, p6]\n",
    "    \n",
    "for person in database_2010:\n",
    "    print(f\"before: {person.get_information()}\")\n",
    "    person.set_position('professor')\n",
    "    print(f\"after: {person.get_information()}\")\n",
    "    print()\n",
    "    \n",
    "    \n",
    "        "
   ]
  },
  {
   "attachments": {},
   "cell_type": "markdown",
   "metadata": {},
   "source": [
    "### 1.4.2 Special method\n",
    "In the method described above, the user arbitrarily named the function and implemented the function.  \n",
    "Python has a wide variety of special methods, such as: In deep learning, the most important methods used by frameworks are `__init__` and `__call__`."
   ]
  },
  {
   "cell_type": "code",
   "execution_count": 16,
   "metadata": {},
   "outputs": [
    {
     "data": {
      "text/plain": [
       "['__class__',\n",
       " '__delattr__',\n",
       " '__dir__',\n",
       " '__doc__',\n",
       " '__eq__',\n",
       " '__format__',\n",
       " '__ge__',\n",
       " '__getattribute__',\n",
       " '__gt__',\n",
       " '__hash__',\n",
       " '__init__',\n",
       " '__init_subclass__',\n",
       " '__le__',\n",
       " '__lt__',\n",
       " '__ne__',\n",
       " '__new__',\n",
       " '__reduce__',\n",
       " '__reduce_ex__',\n",
       " '__repr__',\n",
       " '__setattr__',\n",
       " '__sizeof__',\n",
       " '__str__',\n",
       " '__subclasshook__']"
      ]
     },
     "execution_count": 16,
     "metadata": {},
     "output_type": "execute_result"
    }
   ],
   "source": [
    "dir(object)"
   ]
  },
  {
   "attachments": {},
   "cell_type": "markdown",
   "metadata": {},
   "source": [
    "- `__init__`(self[, ...]): A constructor method that initializes an object\n",
    "- `__call__`(self, *args, **kwargs): Method called when calling an object like a function\n",
    "- `__del__`(self): destructor method called when an object is deleted\n",
    "- `__str__`(self): Method called when an object is expressed as a string\n",
    "- `__repr__`(self): method called when expressing an object as an official string\n",
    "- `__len__`(self): method called when returning the length of an object\n",
    "- `__getitem__`(self, key): Method called when a specific element of an object is retrieved\n",
    "- `__setitem__`(self, key, value): Method called when setting a specific element of an object\n",
    "- `__add__`(self, other): Method called when adding an object to another object\n",
    "- `__sub__`(self, other): Method called when an object is sub-subtracted from another object\n",
    "- `__mul__`(self, other): method called when multiplying an object with another object\n",
    "- `__eq__`(self, other): method called when checking whether an object is equal to another object\n"
   ]
  },
  {
   "attachments": {},
   "cell_type": "markdown",
   "metadata": {},
   "source": [
    "```Python\n",
    "for person in database_2010:\n",
    "    print(f\"before: {person.get_information()}\")\n",
    "    person.set_position('professor')\n",
    "    print(f\"after: {person.get_information()}\")\n",
    "    print()\n",
    "```\n",
    "Let's say you want to reduce the repeated use of get_information() in the loop above. You can simply replace `person.get_information()` with `person()` with the `__call__` function.\n",
    "This means calling an instance and is often used in pytorch in the form output = model(input)."
   ]
  },
  {
   "cell_type": "code",
   "execution_count": 13,
   "metadata": {},
   "outputs": [
    {
     "name": "stdout",
     "output_type": "stream",
     "text": [
      "before: (1111, 'richard sutton', 'male', 'professor')\n",
      "after: (1111, 'richard sutton', 'male', 'professor')\n",
      "\n",
      "before: (1112, 'pieter abbeel', 'male', 'student')\n",
      "after: (1112, 'pieter abbeel', 'male', 'professor')\n",
      "\n",
      "before: (1113, 'david silver', 'male', 'student')\n",
      "after: (1113, 'david silver', 'male', 'professor')\n",
      "\n",
      "before: (1114, 'sergey levine', 'male', 'student')\n",
      "after: (1114, 'sergey levine', 'male', 'professor')\n",
      "\n",
      "before: (1115, 'chelsea finn', 'female', 'student')\n",
      "after: (1115, 'chelsea finn', 'female', 'professor')\n",
      "\n",
      "before: (1116, 'John Schulman', 'male', 'student')\n",
      "after: (1116, 'John Schulman', 'male', 'professor')\n",
      "\n"
     ]
    }
   ],
   "source": [
    "class Person:\n",
    "    def __init__(self, _id, name, gender, position):\n",
    "        self._id=_id\n",
    "        self.name=name\n",
    "        self.gender=gender\n",
    "        self.position=position\n",
    "    \n",
    "    def __call__(self):\n",
    "        return self.get_information()\n",
    "        \n",
    "    def set_position(self, position):\n",
    "        self.position = position\n",
    "    \n",
    "    def get_information(self):\n",
    "        return self._id, self.name, self.gender, self.position\n",
    "    \n",
    "p1 = Person(1111, 'richard sutton', 'male', 'professor')\n",
    "p2 = Person(1112, 'pieter abbeel', 'male', 'student')\n",
    "p3 = Person(1113, 'david silver', 'male', 'student')\n",
    "p4 = Person(1114, 'sergey levine', 'male', 'student')\n",
    "p5 = Person(1115, 'chelsea finn', 'female', 'student')\n",
    "p6 = Person(1116, 'John Schulman', 'male', 'student')\n",
    "\n",
    "database_2010 = [p1, p2, p3, p4, p5, p6]\n",
    "    \n",
    "for person in database_2010:\n",
    "    print(f\"before: {person()}\")\n",
    "    person.set_position('professor')\n",
    "    print(f\"after: {person()}\")\n",
    "    print()"
   ]
  },
  {
   "attachments": {},
   "cell_type": "markdown",
   "metadata": {},
   "source": [
    "#### 1.5 Inheritance) \n",
    "Inheritance is an object-oriented programming concept that utilizes the concept of parents and children. Inheritance makes code more reusable.  \n",
    "The way using inheritance is the form like `ChildClass(ParaentClass):`."
   ]
  },
  {
   "attachments": {},
   "cell_type": "markdown",
   "metadata": {},
   "source": [
    "In Python, `method overriding` refers to redefining and using parent class methods in child classes.  \n",
    "You can override the method by inheriting the animal class from the dog class as shown below."
   ]
  },
  {
   "cell_type": "code",
   "execution_count": 5,
   "metadata": {},
   "outputs": [
    {
     "name": "stdout",
     "output_type": "stream",
     "text": [
      "The animal moves.\n",
      "The dog moves.\n"
     ]
    }
   ],
   "source": [
    "class Animal:\n",
    "    def move(self):\n",
    "        print(\"The animal moves.\")\n",
    "\n",
    "class Dog(Animal):\n",
    "    def move(self): # method overriding\n",
    "        print(\"The dog moves.\")\n",
    "\n",
    "animal = Animal()\n",
    "animal.move()\n",
    "dog = Dog()\n",
    "dog.move()\n"
   ]
  },
  {
   "attachments": {},
   "cell_type": "markdown",
   "metadata": {},
   "source": [
    "To create a class that represents a 3D point, we first defined the `Point2D` class as shown below."
   ]
  },
  {
   "cell_type": "code",
   "execution_count": 6,
   "metadata": {},
   "outputs": [
    {
     "name": "stdout",
     "output_type": "stream",
     "text": [
      "(1, -1)\n",
      "(0, 0)\n"
     ]
    }
   ],
   "source": [
    "class Point2D:\n",
    "    def __init__(self, x, y):\n",
    "        self.__x = x\n",
    "        self.__y = y\n",
    "        \n",
    "    def __str__(self):\n",
    "        msg = f\"({self.__x}, {self.__y})\"\n",
    "        return msg\n",
    "    \n",
    "    def set_coord(self, x, y):\n",
    "        self.__x = x\n",
    "        self.__y = y\n",
    "    \n",
    "    def get_x(self):\n",
    "        return self.__x\n",
    "    \n",
    "    def get_y(self):\n",
    "        return self.__y\n",
    "    \n",
    "    def get_coord(self):\n",
    "        return (self.__x, self.__y)\n",
    "    \n",
    "    # 매직 메소드를 통한 연산자 오버로딩\n",
    "    def __add__(self, other):\n",
    "        self.__x = self.__x + other.__x\n",
    "        self.__y = self.__y + other.__y\n",
    "        return self\n",
    "\n",
    "pt = Point2D(1, -1)\n",
    "pt2 = Point2D(-1, 1)\n",
    "print(pt)\n",
    "pt3 = pt + pt2\n",
    "print(pt)"
   ]
  },
  {
   "attachments": {},
   "cell_type": "markdown",
   "metadata": {},
   "source": [
    "You can create a `Point3D` class while reusing the methods of the parent class by overriding the constructors and methods as shown below.  \n",
    "`super()` is a method that calls the parent class."
   ]
  },
  {
   "cell_type": "code",
   "execution_count": 30,
   "metadata": {},
   "outputs": [
    {
     "name": "stdout",
     "output_type": "stream",
     "text": [
      "(1, 1, 1)\n",
      "(1, 1, 0)\n"
     ]
    }
   ],
   "source": [
    "class Point3D(Point2D):\n",
    "    def __init__(self, x, y, z):\n",
    "        super().__init__(x, y)\n",
    "        self.__z = z\n",
    "    \n",
    "    def get_z(self):\n",
    "        return self.__z\n",
    "\n",
    "    def set_coord(self, x, y, z):\n",
    "        super().set_coord(x, y)\n",
    "        self.__z = z\n",
    "        \n",
    "    def get_coord(self):\n",
    "        return (super().get_coord(), self.__z)\n",
    "    \n",
    "    def __str__(self):\n",
    "        msg = f\"({self.get_x()}, {self.get_y()}, {self.__z})\"\n",
    "        return msg\n",
    "    \n",
    "    def __add__(self, other):\n",
    "        self.__x = self.get_x() + other.get_x()\n",
    "        self.__y = self.get_y() + other.get_y()\n",
    "        self.__z = self.get_z() + other.get_z()\n",
    "        return self\n",
    "    \n",
    "pt = Point3D(1, 1, 1)\n",
    "print(pt)\n",
    "pt2 = Point3D(-1, -1, -1)\n",
    "pt3 = pt + pt2\n",
    "print(pt3)"
   ]
  },
  {
   "attachments": {},
   "cell_type": "markdown",
   "metadata": {},
   "source": [
    "# Pop Quiz  \n",
    "Policy $\\pi(a|s) $ represents the probability distribution of an agent's action given a state.  \n",
    "Let's implement a simple Policy Class for our Policy Gradient Method, which we'll learn about later.  \n",
    "Previously in Lab3, Policy was defined by creating a Q-value table as shown below.  \n",
    "```Python\n",
    "class Policy:\n",
    "    def __init__(self, env): # Q-table\n",
    "        self.state_action_table = [\n",
    "            [0.0 for _ in range(env.action_space.n)] for _ in range(env.observation_space.n)\n",
    "            ]\n",
    "        self.action_space = env.action_space\n",
    "    \n",
    "    def get_action(self, state, explore=True, epsilon=0.1): # epsilon-greedy\n",
    "        if explore and random.uniform(0,1) < epsilon:\n",
    "            return self.action_space.sample()\n",
    "        return np.argmax(self.state_action_table[state])\n",
    "\n",
    "```\n",
    "\n"
   ]
  },
  {
   "attachments": {},
   "cell_type": "markdown",
   "metadata": {},
   "source": [
    "This time, let's implement a policy that transforms the state given as input differently than before.  \n",
    "First, implement the Softmax function using `np.sum` and `np.exp` as shown below.\n"
   ]
  },
  {
   "attachments": {},
   "cell_type": "markdown",
   "metadata": {},
   "source": [
    "![](2023-04-25-20-47-38.png)"
   ]
  },
  {
   "cell_type": "code",
   "execution_count": 7,
   "metadata": {},
   "outputs": [],
   "source": [
    "import numpy as np\n",
    "\n",
    "def softmax(x):\n",
    "    pass"
   ]
  },
  {
   "attachments": {},
   "cell_type": "markdown",
   "metadata": {},
   "source": [
    "The next thing we need to implement is the `Policy` class. Use numpy to implement a class that satisfies the following description!\n",
    "#### Policy class requirements\n",
    "- `__init__(self, state_dim, act_dim)`:\n",
    "   - Function: Receives state_dimension and action_dimension as input and stores them as member variables.\n",
    "   - A random matrix with the shape of [aciton_dim, state_dim] is generated and stored in self.weight. (Hint. Use the `np.random.normal` method)\n",
    "- `__call__(self, state)`:\n",
    "   - Function: internally calls `get_dist()` and returns the result.\n",
    "\n",
    "- `get_dist(self, state)`:\n",
    "   - This function takes state as input and returns distribution.\n",
    "   - Obtain a transformed vector through matrix multiplication of self.weight and state. Matrix multiplication is computed in the same way as `mat3 = mat1 @ mat2` .\n",
    "   - Apply the softmax function to the calculated vector to obtain and return the probability distribution `dist`.\n",
    "  \n",
    "- `get_action(self, dist)`:\n",
    "   - Function: Take distribution as input, sample action_index and return.\n",
    "   - Get index_list using `np.arange(action_dim)`.\n",
    "   - Return action_index via `np.random.choice(index_list, size=1, replace=True, p=dist)`."
   ]
  },
  {
   "cell_type": "code",
   "execution_count": 7,
   "metadata": {},
   "outputs": [],
   "source": [
    "class Policy:\n",
    "    def __init__(self, obs_dim, act_dim):\n",
    "        pass\n",
    "    \n",
    "    def get_dist(self, state):\n",
    "        pass\n",
    "    \n",
    "    def __call__(self, state):\n",
    "        pass\n",
    "    \n",
    "    def get_action(self, dist):\n",
    "        pass"
   ]
  },
  {
   "cell_type": "code",
   "execution_count": 8,
   "metadata": {},
   "outputs": [],
   "source": [
    "obs_dim = 8\n",
    "act_dim = 4\n",
    "policy = Policy(obs_dim, act_dim)\n",
    "\n",
    "state = np.random.random(8)\n",
    "dist = policy(state)\n",
    "action = policy.get_action(dist)\n",
    "print(action)"
   ]
  },
  {
   "cell_type": "code",
   "execution_count": null,
   "metadata": {},
   "outputs": [],
   "source": []
  }
 ],
 "metadata": {
  "kernelspec": {
   "display_name": "minerl",
   "language": "python",
   "name": "python3"
  },
  "language_info": {
   "codemirror_mode": {
    "name": "ipython",
    "version": 3
   },
   "file_extension": ".py",
   "mimetype": "text/x-python",
   "name": "python",
   "nbconvert_exporter": "python",
   "pygments_lexer": "ipython3",
   "version": "3.7.11"
  },
  "orig_nbformat": 4,
  "vscode": {
   "interpreter": {
    "hash": "266dbc1b53b3a75132c42213de358c469c42e7e8486df6091cb08cba7b9be0d5"
   }
  }
 },
 "nbformat": 4,
 "nbformat_minor": 2
}
