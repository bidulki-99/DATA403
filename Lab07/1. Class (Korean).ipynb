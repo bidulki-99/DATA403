{
 "cells": [
  {
   "cell_type": "markdown",
   "metadata": {},
   "source": [
    "# Pytorch Basic  \n",
    "\n",
    "작성자: 김국진 kukjinkim@korea.ac.kr  \n",
    "\n",
    "\n",
    "금일 및 다음주 실습 시간에는 심층강화학습 및 프로젝트 진행을 위해서 딥러닝 프레임워크 중 하나인 Pytorch를 배울 것입니다.  \n",
    "실습파일을 작성할 때, 딥러닝 강의를 수강하지 않았다고 가정하고 내용을 구성했습니다. 필요한 내용만 최소한으로 압축하여 담았습니다.  \n",
    "모르는게 있으시다면 언제든지 조교들에게 질문해주세요 :)  \n"
   ]
  },
  {
   "cell_type": "markdown",
   "metadata": {},
   "source": [
    "# Contents\n",
    "- Class Review <-\n",
    "- Tensor, Tensor Manipulation\n",
    "- Dataset, DataLoader\n",
    "- Regresseion \n",
    "- Clasification"
   ]
  },
  {
   "cell_type": "markdown",
   "metadata": {},
   "source": [
    "## 1. Class Review\n",
    "    - 멤버, 인스턴스\n",
    "    - 멤버접근 연산자\n",
    "    - 생성자\n",
    "    - 메소드 (멤버함수)\n",
    "    - 상속\n",
    "\n",
    "\n",
    "pytorch 진행에 앞서서 파이썬에서 어떻게 Class를 다루는지 살펴보겠습니다.  \n",
    "Class를 이해해야만 특정 라이브러리의 리버스엔지니어링을 할 수 있습니다.  \n",
    "더 나아가 pytorch, jax, tensorflow 등 딥러닝 프레임워크의 내부동작 원리를 자세히 이해할 수 있습니다. \n",
    "\n",
    "![](2023-04-17-14-21-59.png)\n",
    "\n",
    "#### 1.1 멤버와 인스턴스\n",
    "클래스가 무엇일까요? 그 기원은 C의 구조체입니다. 구조체는 서로 다른 데이터 타입의 변수들을 하나의 논리적 단위로 묶어서 관리하기 위한 방법입니다.  \n",
    "클래스는 구조체를 확장시킨 것입니다. 객체 지향 프로그래밍에서 객체를 생성하는데 사용되는 일종의 틀이나 설계도입니다. 개념적으로는 그림의 붕어빵틀에 해당합니다.  \n",
    "붕어빵 클래스를 직접 만들어봅시다. \n",
    "\n"
   ]
  },
  {
   "cell_type": "code",
   "execution_count": 1,
   "metadata": {},
   "outputs": [],
   "source": [
    "class FishBread:\n",
    "    flavor=None\n",
    "    price=None\n",
    "    amount=None"
   ]
  },
  {
   "cell_type": "markdown",
   "metadata": {},
   "source": [
    "이때, `flavor, price, amount` 과 같은 변수들을 **멤버변수** 라고 부르고 `Person` 클래스 내의 멤버들이라고 표현합니다.  \n",
    "즉, 멤버변수는 클래스 내에 정의된 변수들인 것입니다.   \n",
    "이제 붕어빵 틀을 만들었으니, 붕어빵을 만들 수 있습니다. 클래스를 통해 생성된 객체를 **인스턴스** 라고 부릅니다."
   ]
  },
  {
   "cell_type": "code",
   "execution_count": 2,
   "metadata": {},
   "outputs": [],
   "source": [
    "red_bean = FishBread() # 팥빵\n",
    "cream_puffs = FishBread() # 슈크림빵\n"
   ]
  },
  {
   "cell_type": "markdown",
   "metadata": {},
   "source": [
    "위와 같이 `clas_name()` 클래스이름과 괄호를 통해 인스턴스를 생성할 수 있습니다.  \n",
    "이제 멤버접근 연산자를 통해 인스턴스 내부의 멤버들이 무슨 값을 가지고 있는지 살펴볼 수 있습니다.   \n",
    "`.` 점 기호가 멤버접근 연산자입니다. `instance.member`와 같은 식으로 멤버에 접근할 수 있습니다.  "
   ]
  },
  {
   "cell_type": "code",
   "execution_count": 3,
   "metadata": {},
   "outputs": [
    {
     "name": "stdout",
     "output_type": "stream",
     "text": [
      "None None None\n",
      "None None None\n"
     ]
    }
   ],
   "source": [
    "print(red_bean.flavor, red_bean.price, red_bean.amount)\n",
    "print(cream_puffs.flavor, cream_puffs.price, cream_puffs.amount)\n"
   ]
  },
  {
   "cell_type": "markdown",
   "metadata": {},
   "source": [
    "#### 1.2 멤버접근 연산자와 변수 값 수정\n",
    "그러나, 처음 `FishBread` 클래스를 정의할 때 각 멤버들을 None으로 할당했기 때문에 None으로 결과가 나오는 모습입니다.  \n",
    "멤버접근 연산자를 통해 내부변수의 값을 직접 변경할 수 있습니다. "
   ]
  },
  {
   "cell_type": "code",
   "execution_count": 4,
   "metadata": {},
   "outputs": [
    {
     "name": "stdout",
     "output_type": "stream",
     "text": [
      "red_bean 1000 3\n",
      "cream_puffs 1000 2\n"
     ]
    }
   ],
   "source": [
    "red_bean.flavor = 'red_bean'\n",
    "red_bean.price = 1000\n",
    "red_bean.amount = 3\n",
    "\n",
    "cream_puffs.flavor = 'cream_puffs'\n",
    "cream_puffs.price = 1000\n",
    "cream_puffs.amount = 2\n",
    "\n",
    "print(red_bean.flavor, red_bean.price, red_bean.amount)\n",
    "print(cream_puffs.flavor, cream_puffs.price, cream_puffs.amount)"
   ]
  },
  {
   "cell_type": "markdown",
   "metadata": {},
   "source": [
    "#### 1.3 생성자 \n",
    "그런데 매 번 인스턴스를 생성하고 일일이 변수의 멤버들에 접근해서 변수의 값을 할당하는 것은 매우 귀찮은 작업입니다.  \n",
    "이를 단순화하기 위해 인스턴스가 생성되는 시점에 변수값을 할당해주는 생성자가 존재합니다.  \n",
    "파이썬에서 메소드 또는 멤버함수는 클래스 내에 정의된 함수를 뜻합니다.  \n",
    "생성자는 그 중에서도 특별 메소드로 인스턴스 생성시 호출됩니다. 클래스 내에서 `__init__`  이라는 키워드로 기능이 정의됩니다.  \n",
    "`FishBread` 클래스를 다시 정의해봅시다.  \n"
   ]
  },
  {
   "cell_type": "code",
   "execution_count": 5,
   "metadata": {},
   "outputs": [],
   "source": [
    "class FishBread:\n",
    "    def __init__(self, flavor, price, amount):\n",
    "        self.flavor=flavor\n",
    "        self.price=price\n",
    "        self.amount=amount"
   ]
  },
  {
   "cell_type": "markdown",
   "metadata": {},
   "source": [
    "이전에 본 적없는 `self` 라는 키워드가 함수의 첫 번째 인자와 함수내용에 등장했습니다.  \n",
    "이는 `self`가 포함된 메소드나 변수가 현재 클래스의 멤버들에 속하게금 만드는 예약어입니다.  \n",
    "아래 코드처럼 생성자를 통해 멤버변수에 값을 간단하게 할당할 수 있습니다. "
   ]
  },
  {
   "cell_type": "code",
   "execution_count": 6,
   "metadata": {},
   "outputs": [
    {
     "name": "stdout",
     "output_type": "stream",
     "text": [
      "red_bean 1000 3\n",
      "cream_puffs 1500 2\n"
     ]
    }
   ],
   "source": [
    "red_bean = FishBread('red_bean', 1000, 3)\n",
    "cream_puffs = FishBread('cream_puffs', 1500, 2)\n",
    "print(red_bean.flavor, red_bean.price, red_bean.amount)\n",
    "print(cream_puffs.flavor, cream_puffs.price, cream_puffs.amount)\n"
   ]
  },
  {
   "cell_type": "markdown",
   "metadata": {},
   "source": [
    "#### 1.4 (1) 메소드 (멤버함수) \n",
    "\n",
    "강의실에 있는 사람들을 객체로 표현하기 위해 아래와 같은 클래스를 작성했습니다.  \n",
    "강의실에는 교수, 조교와 여러 학생이 존재할 수 있습니다. 사람들의 정보를 토대로 데이터베이스를 구축하는 상황을 가정해보겠습니다.  "
   ]
  },
  {
   "cell_type": "code",
   "execution_count": 7,
   "metadata": {},
   "outputs": [],
   "source": [
    "class Person:\n",
    "    def __init__(self, _id, name, gender, position):\n",
    "        self._id=_id\n",
    "        self.name=name\n",
    "        self.gender=gender\n",
    "        self.position=position\n",
    "        "
   ]
  },
  {
   "cell_type": "code",
   "execution_count": 8,
   "metadata": {},
   "outputs": [],
   "source": [
    "p1 = Person(1111, 'richard sutton', 'male', 'professor')\n",
    "p2 = Person(1112, 'pieter abbeel', 'male', 'student')\n",
    "p3 = Person(1113, 'david silver', 'male', 'student')\n",
    "p4 = Person(1114, 'sergey levine', 'male', 'student')\n",
    "p5 = Person(1115, 'chelsea finn', 'female', 'student')\n",
    "p6 = Person(1116, 'John Schulman', 'male', 'student')\n",
    "\n",
    "database_2010 = [p1, p2, p3, p4, p5, p6]"
   ]
  },
  {
   "cell_type": "markdown",
   "metadata": {},
   "source": [
    "시간이 흘러 `position` 에 변화가 생겨서 데이터를 수정을 해야하는 상황이 생겼습니다. 모든 사람이 교수가 되어서 position을 업데이트 해야합니다.  \n",
    "아래와 같이 멤버변수에 접근해서 데이터베이스를 접근할 수 있습니다.  \n",
    "\n"
   ]
  },
  {
   "cell_type": "code",
   "execution_count": 9,
   "metadata": {},
   "outputs": [],
   "source": [
    "p2.position = 'professor'\n",
    "p3.position = 'professor'\n",
    "p4.position = 'professor'\n",
    "p5.position = 'professor'\n",
    "p6.position = 'professor'\n"
   ]
  },
  {
   "cell_type": "code",
   "execution_count": 10,
   "metadata": {},
   "outputs": [
    {
     "name": "stdout",
     "output_type": "stream",
     "text": [
      "1111 richard sutton male professor\n",
      "1112 pieter abbeel male professor\n",
      "1113 david silver male professor\n",
      "1114 sergey levine male professor\n",
      "1115 chelsea finn female professor\n",
      "1116 John Schulman male professor\n"
     ]
    }
   ],
   "source": [
    "for person in database_2010:\n",
    "    print(person._id, person.name, person.gender, person.position)"
   ]
  },
  {
   "cell_type": "markdown",
   "metadata": {},
   "source": [
    "하지만 마찬가지로 멤버접근 연산자를 사용하는 방식으로 일일이 데이터 접근, 수정 및 삭제를 하고 데이터를 확인하는 작업은 매우 번거롭습니다.  \n",
    "대신에 메소드를 구현해서 for문 또는 while문을 사용하면 코드의 반복을 줄이고 재사용성을 높일 수 있습니다. "
   ]
  },
  {
   "cell_type": "code",
   "execution_count": 11,
   "metadata": {},
   "outputs": [
    {
     "name": "stdout",
     "output_type": "stream",
     "text": [
      "before: (1111, 'richard sutton', 'male', 'professor')\n",
      "after: (1111, 'richard sutton', 'male', 'professor')\n",
      "\n",
      "before: (1112, 'pieter abbeel', 'male', 'student')\n",
      "after: (1112, 'pieter abbeel', 'male', 'professor')\n",
      "\n",
      "before: (1113, 'david silver', 'male', 'student')\n",
      "after: (1113, 'david silver', 'male', 'professor')\n",
      "\n",
      "before: (1114, 'sergey levine', 'male', 'student')\n",
      "after: (1114, 'sergey levine', 'male', 'professor')\n",
      "\n",
      "before: (1115, 'chelsea finn', 'female', 'student')\n",
      "after: (1115, 'chelsea finn', 'female', 'professor')\n",
      "\n",
      "before: (1116, 'John Schulman', 'male', 'student')\n",
      "after: (1116, 'John Schulman', 'male', 'professor')\n",
      "\n"
     ]
    }
   ],
   "source": [
    "class Person:\n",
    "    def __init__(self, _id, name, gender, position):\n",
    "        self._id=_id\n",
    "        self.name=name\n",
    "        self.gender=gender\n",
    "        self.position=position\n",
    "        \n",
    "    def set_position(self, position):\n",
    "        self.position = position\n",
    "    \n",
    "    def get_information(self):\n",
    "        return self._id, self.name, self.gender, self.position\n",
    "    \n",
    "p1 = Person(1111, 'richard sutton', 'male', 'professor')\n",
    "p2 = Person(1112, 'pieter abbeel', 'male', 'student')\n",
    "p3 = Person(1113, 'david silver', 'male', 'student')\n",
    "p4 = Person(1114, 'sergey levine', 'male', 'student')\n",
    "p5 = Person(1115, 'chelsea finn', 'female', 'student')\n",
    "p6 = Person(1116, 'John Schulman', 'male', 'student')\n",
    "\n",
    "database_2010 = [p1, p2, p3, p4, p5, p6]\n",
    "    \n",
    "for person in database_2010:\n",
    "    print(f\"before: {person.get_information()}\")\n",
    "    person.set_position('professor')\n",
    "    print(f\"after: {person.get_information()}\")\n",
    "    print()\n",
    "    \n",
    "    \n",
    "        "
   ]
  },
  {
   "cell_type": "markdown",
   "metadata": {},
   "source": [
    "### 1.4 (2) 특별 메소드  \n",
    "앞서서 설명한 메소드는 사용자가 함수의 이름을 임의로 정하고 기능을 구현했습니다.  \n",
    "파이썬에는 아래와 같이 매우 다양한 특별 메소드들이 존재합니다. 딥러닝에서 프레임워크에서 사용되는 가장 중요한 메소드는 `__init__`과 `__call__`입니다. "
   ]
  },
  {
   "cell_type": "code",
   "execution_count": 12,
   "metadata": {},
   "outputs": [
    {
     "data": {
      "text/plain": [
       "['__class__',\n",
       " '__delattr__',\n",
       " '__dir__',\n",
       " '__doc__',\n",
       " '__eq__',\n",
       " '__format__',\n",
       " '__ge__',\n",
       " '__getattribute__',\n",
       " '__gt__',\n",
       " '__hash__',\n",
       " '__init__',\n",
       " '__init_subclass__',\n",
       " '__le__',\n",
       " '__lt__',\n",
       " '__ne__',\n",
       " '__new__',\n",
       " '__reduce__',\n",
       " '__reduce_ex__',\n",
       " '__repr__',\n",
       " '__setattr__',\n",
       " '__sizeof__',\n",
       " '__str__',\n",
       " '__subclasshook__']"
      ]
     },
     "execution_count": 12,
     "metadata": {},
     "output_type": "execute_result"
    }
   ],
   "source": [
    "dir(object)"
   ]
  },
  {
   "cell_type": "markdown",
   "metadata": {},
   "source": [
    "- `__init__`(self[, ...]): 객체를 초기화하는 생성자 메소드  \n",
    "- `__call__`(self, *args, **kwargs): 객체를 함수처럼 호출할 때 호출되는 메소드  \n",
    "- `__del__`(self): 객체를 삭제할 때 호출되는 소멸자 메소드  \n",
    "- `__str__`(self): 객체를 문자열로 표현할 때 호출되는 메소드  \n",
    "- `__repr__`(self): 객체를 나타내는 공식적인 문자열로 표현할 때 호출되는 메소드  \n",
    "- `__len__`(self): 객체의 길이를 반환할 때 호출되는 메소드  \n",
    "- `__getitem__`(self, key): 객체의 특정 요소를 가져올 때 호출되는 메소드  \n",
    "- `__setitem__`(self, key, value): 객체의 특정 요소를 설정할 때 호출되는 메소드  \n",
    "- `__add__`(self, other): 객체와 다른 객체를 더할 때 호출되는 메소드  \n",
    "- `__sub__`(self, other): 객체에서 다른 객체를 뺄 때 호출되는 메소드  \n",
    "- `__mul__`(self, other): 객체와 다른 객체를 곱할 때 호출되는 메소드  \n",
    "- `__eq__`(self, other): 객체와 다른 객체가 같은지 확인할 때 호출되는 메소드  \n"
   ]
  },
  {
   "cell_type": "markdown",
   "metadata": {},
   "source": [
    "```Python\n",
    "for person in database_2010:\n",
    "    print(f\"before: {person.get_information()}\")\n",
    "    person.set_position('professor')\n",
    "    print(f\"after: {person.get_information()}\")\n",
    "    print()\n",
    "```\n",
    "위의 반복문에서 get_information()을 반복해서 사용하는 것을 줄이고 싶다고 가정해보겠습니다. `__call__` 함수로 `person.get_information()`를 `person()`으로 간단하게 바꿀 수 있습니다.   \n",
    "이는 인스턴스를 호출하는 것을 의미하며 pytorch에서 output = model(input) 형태로 자주 사용됩니다. "
   ]
  },
  {
   "cell_type": "code",
   "execution_count": 13,
   "metadata": {},
   "outputs": [
    {
     "name": "stdout",
     "output_type": "stream",
     "text": [
      "before: (1111, 'richard sutton', 'male', 'professor')\n",
      "after: (1111, 'richard sutton', 'male', 'professor')\n",
      "\n",
      "before: (1112, 'pieter abbeel', 'male', 'student')\n",
      "after: (1112, 'pieter abbeel', 'male', 'professor')\n",
      "\n",
      "before: (1113, 'david silver', 'male', 'student')\n",
      "after: (1113, 'david silver', 'male', 'professor')\n",
      "\n",
      "before: (1114, 'sergey levine', 'male', 'student')\n",
      "after: (1114, 'sergey levine', 'male', 'professor')\n",
      "\n",
      "before: (1115, 'chelsea finn', 'female', 'student')\n",
      "after: (1115, 'chelsea finn', 'female', 'professor')\n",
      "\n",
      "before: (1116, 'John Schulman', 'male', 'student')\n",
      "after: (1116, 'John Schulman', 'male', 'professor')\n",
      "\n"
     ]
    }
   ],
   "source": [
    "class Person:\n",
    "    def __init__(self, _id, name, gender, position):\n",
    "        self._id=_id\n",
    "        self.name=name\n",
    "        self.gender=gender\n",
    "        self.position=position\n",
    "    \n",
    "    def __call__(self):\n",
    "        return self.get_information()\n",
    "        \n",
    "    def set_position(self, position):\n",
    "        self.position = position\n",
    "    \n",
    "    def get_information(self):\n",
    "        return self._id, self.name, self.gender, self.position\n",
    "    \n",
    "p1 = Person(1111, 'richard sutton', 'male', 'professor')\n",
    "p2 = Person(1112, 'pieter abbeel', 'male', 'student')\n",
    "p3 = Person(1113, 'david silver', 'male', 'student')\n",
    "p4 = Person(1114, 'sergey levine', 'male', 'student')\n",
    "p5 = Person(1115, 'chelsea finn', 'female', 'student')\n",
    "p6 = Person(1116, 'John Schulman', 'male', 'student')\n",
    "\n",
    "database_2010 = [p1, p2, p3, p4, p5, p6]\n",
    "    \n",
    "for person in database_2010:\n",
    "    print(f\"before: {person()}\")\n",
    "    person.set_position('professor')\n",
    "    print(f\"after: {person()}\")\n",
    "    print()"
   ]
  },
  {
   "cell_type": "markdown",
   "metadata": {},
   "source": [
    "#### 1.5 상속 (inheritance)  \n",
    "상속은 부모와 자식의 개념을 활용하는 객체지향 프로그래밍의 개념입니다. 상속을 통해 코드의 재활용성을 높일 수 있습니다.  \n",
    "상속을 사용하는 문법은 `ChildClass(ParaentClass):`와 같은 형식입니다."
   ]
  },
  {
   "cell_type": "markdown",
   "metadata": {},
   "source": [
    "파이썬에서 `메소드 오버라이딩`은 부모클래스의 메소드를 자식 클래스에서 재정의해서 사용하는 것을 말합니다.  \n",
    "아래와 같이 동물 클래스를 개 클래스에서 상속받아 메소드 오버라이딩 할 수 있습니다.  "
   ]
  },
  {
   "cell_type": "code",
   "execution_count": 14,
   "metadata": {},
   "outputs": [
    {
     "name": "stdout",
     "output_type": "stream",
     "text": [
      "동물이 움직입니다.\n",
      "강아지가 달립니다.\n"
     ]
    }
   ],
   "source": [
    "class Animal:\n",
    "    def move(self):\n",
    "        print(\"동물이 움직입니다.\")\n",
    "\n",
    "class Dog(Animal):\n",
    "    def move(self): # method overriding\n",
    "        print(\"강아지가 달립니다.\")\n",
    "\n",
    "animal = Animal()\n",
    "animal.move()\n",
    "dog = Dog()\n",
    "dog.move()\n"
   ]
  },
  {
   "cell_type": "markdown",
   "metadata": {},
   "source": [
    "3차원 점을 표현하는 클래스를 만들기 위해 아래와 같이 먼저 `Point2D` 클래스를 정의했습니다.  "
   ]
  },
  {
   "cell_type": "code",
   "execution_count": 45,
   "metadata": {},
   "outputs": [
    {
     "name": "stdout",
     "output_type": "stream",
     "text": [
      "(1, -1)\n",
      "(0, 0)\n"
     ]
    }
   ],
   "source": [
    "class Point2D:\n",
    "    def __init__(self, x, y):\n",
    "        self.__x = x\n",
    "        self.__y = y\n",
    "        \n",
    "    def __str__(self):\n",
    "        msg = f\"({self.__x}, {self.__y})\"\n",
    "        return msg\n",
    "    \n",
    "    def set_coord(self, x, y):\n",
    "        self.__x = x\n",
    "        self.__y = y\n",
    "    \n",
    "    def get_x(self):\n",
    "        return self.__x\n",
    "    \n",
    "    def get_y(self):\n",
    "        return self.__y\n",
    "    \n",
    "    def get_coord(self):\n",
    "        return (self.__x, self.__y)\n",
    "    \n",
    "    # 매직 메소드를 통한 연산자 오버로딩\n",
    "    def __add__(self, other):\n",
    "        self.__x = self.__x + other.__x\n",
    "        self.__y = self.__y + other.__y\n",
    "        return self\n",
    "\n",
    "pt = Point2D(1, -1)\n",
    "pt2 = Point2D(-1, 1)\n",
    "print(pt)\n",
    "pt3 = pt + pt2\n",
    "print(pt)"
   ]
  },
  {
   "cell_type": "markdown",
   "metadata": {},
   "source": [
    "아래와 같이 생성자와 메소드들을 오버라이딩해서 부모 클래스의 메소드를 재활용하면서 `Point3D` 클래스를 만들 수 있습니다.  \n",
    "`super()`는 부모 클래스를 호출하는 메소드입니다. "
   ]
  },
  {
   "cell_type": "code",
   "execution_count": 46,
   "metadata": {},
   "outputs": [
    {
     "name": "stdout",
     "output_type": "stream",
     "text": [
      "(1, 1, 1)\n",
      "(1, 1, 0)\n"
     ]
    }
   ],
   "source": [
    "class Point3D(Point2D):\n",
    "    def __init__(self, x, y, z):\n",
    "        super().__init__(x, y)\n",
    "        self.__z = z\n",
    "    \n",
    "    def get_z(self):\n",
    "        return self.__z\n",
    "\n",
    "    def set_coord(self, x, y, z):\n",
    "        super().set_coord(x, y)\n",
    "        self.__z = z\n",
    "        \n",
    "    def get_coord(self):\n",
    "        return (super().get_coord(), self.__z)\n",
    "    \n",
    "    def __str__(self):\n",
    "        msg = f\"({self.get_x()}, {self.get_y()}, {self.__z})\"\n",
    "        return msg\n",
    "    \n",
    "    def __add__(self, other):\n",
    "        self.__x = self.get_x() + other.get_x()\n",
    "        self.__y = self.get_y() + other.get_y()\n",
    "        self.__z = self.get_z() + other.get_z()\n",
    "        return self\n",
    "    \n",
    "pt = Point3D(1, 1, 1)\n",
    "print(pt)\n",
    "pt2 = Point3D(-1, -1, -1)\n",
    "pt3 = pt + pt2\n",
    "print(pt3)"
   ]
  },
  {
   "cell_type": "markdown",
   "metadata": {},
   "source": [
    "# Pop Quiz  \n",
    "Policy $\\pi(a|s) $는 상태가 주어졌을 때, 에이전트의 행동에 대한 확률분포를 표현합니다.  \n",
    "나중에 배울 Policy Gradient Method를 위해 간단한 Policy Class를 구현해봅시다.  \n",
    "이전의 Lab03에서는 Policy를 아래와 같이 Q-value 테이블을 만들어서 정의했습니다.  \n",
    "```Python\n",
    "class Policy:\n",
    "    def __init__(self, env): # Q-table\n",
    "        self.state_action_table = [\n",
    "            [0.0 for _ in range(env.action_space.n)] for _ in range(env.observation_space.n)\n",
    "            ]\n",
    "        self.action_space = env.action_space\n",
    "    \n",
    "    def get_action(self, state, explore=True, epsilon=0.1): # epsilon-greedy\n",
    "        if explore and random.uniform(0,1) < epsilon:\n",
    "            return self.action_space.sample()\n",
    "        return np.argmax(self.state_action_table[state])\n",
    "\n",
    "```\n",
    "\n"
   ]
  },
  {
   "cell_type": "markdown",
   "metadata": {},
   "source": [
    "이번에는 전과 다르게 입력으로 주어진 상태를 변환하는 어떤 Policy를 구현해봅시다.  \n",
    "먼저 아래와 같이 `np.sum`과 `np.exp`를 활용해서 Softmax function을 구현해보세요. \n",
    "\n"
   ]
  },
  {
   "cell_type": "markdown",
   "metadata": {},
   "source": [
    "![](2023-04-25-20-47-38.png)"
   ]
  },
  {
   "cell_type": "code",
   "execution_count": 23,
   "metadata": {},
   "outputs": [],
   "source": [
    "import numpy as np\n",
    "\n",
    "def softmax(x):\n",
    "    y = np.exp(x)\n",
    "    f_x = y / np.sum(np.exp(x))\n",
    "    return f_x"
   ]
  },
  {
   "cell_type": "code",
   "execution_count": 24,
   "metadata": {},
   "outputs": [
    {
     "data": {
      "text/plain": [
       "array([0.02019046, 0.90253769, 0.04966053, 0.01108076, 0.01653055])"
      ]
     },
     "execution_count": 24,
     "metadata": {},
     "output_type": "execute_result"
    }
   ],
   "source": [
    "softmax([1.3, 5.1, 2.2, 0.7, 1.1])"
   ]
  },
  {
   "cell_type": "markdown",
   "metadata": {},
   "source": [
    "다음으로 구현해야할 것은 `Policy` 클래스입니다. numpy를 활용해 다음의 기능들을 만족하는 Class를 구현해보세요!  \n",
    "#### Policy class requirements\n",
    "- `__init__(self, state_dim, act_dim)`: \n",
    "  - 기능: state_dimension과 action_dimension을 입력으로 받아서 멤버변수로 저장합니다. \n",
    "  - [aciton_dim, state_dim]의 모양을 가지는 random matrix를 self.weight에 저장합니다. (Hint. `np.random.normal` 메소드를 활용하세요)  \n",
    "- `__call__(self, state)`:  \n",
    "  - 기능: get_dist()를 내부적으로 호출하고 그 결과를 리턴합니다.  \n",
    "\n",
    "- `get_dist(self, state)`:\n",
    "  - 이 함수는 state를 입력받아서 distribution을 리턴합니다.   \n",
    "  - self.weight와 state를 행렬곱을 통해 변환된 벡터를 얻습니다. 행렬곱은 `mat3 = mat1 @ mat2` 와 같은 방식으로 계산됩니다. \n",
    "  - 계산된 벡터를 softmax 함수를 적용해서 확률분포 `dist`을 얻고 리턴합니다.   \n",
    "  \n",
    "- `get_action(self, dist)`: \n",
    "  - 기능: distribution을 입력받아서 action_index를 샘플링하고 리턴합니다. \n",
    "  - `np.arange(action_dim)`을 이용해서 index_list를 얻습니다.\n",
    "  - `np.random.choice(index_list, size=1, replace=True, p=dist)`를 통해 action_index를 리턴합니다. "
   ]
  },
  {
   "cell_type": "code",
   "execution_count": 32,
   "metadata": {},
   "outputs": [],
   "source": [
    "class Policy:\n",
    "    def __init__(self, obs_dim, act_dim):\n",
    "        self.obs_dim = obs_dim\n",
    "        self.act_dim = act_dim\n",
    "        self.weight = np.random.normal(size=(obs_dim, act_dim))\n",
    "    \n",
    "    def get_dist(self, state):\n",
    "        x = self.weight.T @ state\n",
    "        dist = softmax(x)\n",
    "        return dist\n",
    "    \n",
    "    def __call__(self, state):\n",
    "        return self.get_dist(state)\n",
    "    \n",
    "    def get_action(self, dist):\n",
    "        index_list = np.arange(self.act_dim)\n",
    "        action_index = np.random.choice(index_list, size=1, replace=True, p=dist)\n",
    "        return action_index"
   ]
  },
  {
   "cell_type": "code",
   "execution_count": 44,
   "metadata": {},
   "outputs": [
    {
     "name": "stdout",
     "output_type": "stream",
     "text": [
      "[2]\n"
     ]
    }
   ],
   "source": [
    "obs_dim = 8\n",
    "act_dim = 4\n",
    "policy = Policy(obs_dim, act_dim)\n",
    "\n",
    "state = np.random.random(8)\n",
    "dist = policy(state)\n",
    "action = policy.get_action(dist)\n",
    "print(action)"
   ]
  },
  {
   "cell_type": "code",
   "execution_count": null,
   "metadata": {},
   "outputs": [],
   "source": []
  }
 ],
 "metadata": {
  "kernelspec": {
   "display_name": "Python 3 (ipykernel)",
   "language": "python",
   "name": "python3"
  },
  "language_info": {
   "codemirror_mode": {
    "name": "ipython",
    "version": 3
   },
   "file_extension": ".py",
   "mimetype": "text/x-python",
   "name": "python",
   "nbconvert_exporter": "python",
   "pygments_lexer": "ipython3",
   "version": "3.8.16"
  },
  "vscode": {
   "interpreter": {
    "hash": "266dbc1b53b3a75132c42213de358c469c42e7e8486df6091cb08cba7b9be0d5"
   }
  }
 },
 "nbformat": 4,
 "nbformat_minor": 2
}
