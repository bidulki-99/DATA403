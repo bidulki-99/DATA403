{
 "cells": [
  {
   "cell_type": "code",
   "execution_count": 1,
   "id": "b53e3495",
   "metadata": {},
   "outputs": [],
   "source": [
    "import random\n",
    "import numpy as np"
   ]
  },
  {
   "cell_type": "markdown",
   "id": "ac249674",
   "metadata": {},
   "source": [
    "# Environment: Grid World"
   ]
  },
  {
   "cell_type": "code",
   "execution_count": 2,
   "id": "643ed749",
   "metadata": {},
   "outputs": [],
   "source": [
    "class GridWorld():\n",
    "    def __init__(self): # Set initial point\n",
    "        self.x=0\n",
    "        self.y=0\n",
    "        \n",
    "    def step(self, action): # Move according to the selected action & Get reward\n",
    "        if action==0:\n",
    "            self.move_left()\n",
    "        elif action==1:\n",
    "            self.move_right()\n",
    "        elif action==2:\n",
    "            self.move_up()\n",
    "        elif action==3:\n",
    "            self.move_down()\n",
    "            \n",
    "        reward = -1 # Get reward -1 for each step\n",
    "        done = self.is_done() # When we reach (3,3), done becomes true\n",
    "        \n",
    "        return (self.x, self.y), reward, done # Retrun (state, reward, whether the game is finished or not)\n",
    "    \n",
    "    def move_left(self):\n",
    "        self.y -= 1\n",
    "        if self.y < 0:\n",
    "            self.y = 0\n",
    "            \n",
    "    def move_right(self):\n",
    "        self.y += 1\n",
    "        if self.y > 3:\n",
    "            self.y = 3\n",
    "            \n",
    "    def move_up(self):\n",
    "        self.x -= 1\n",
    "        if self.x < 0:\n",
    "            self.x = 0\n",
    "        \n",
    "    def move_down(self):\n",
    "        self.x += 1\n",
    "        if self.x > 3:\n",
    "            self.x = 3\n",
    "\n",
    "        \n",
    "    def is_done(self): # When we reach (3,3), done becomes true\n",
    "        if self.x==3 and self.y==3:\n",
    "            return True\n",
    "        else:\n",
    "            return False\n",
    "        \n",
    "    def get_state(self): # Return current position\n",
    "        return (self.x, self.y)\n",
    "    \n",
    "    def reset(self):\n",
    "        self.x=0\n",
    "        self.y=0\n",
    "        return (self.x, self.y)"
   ]
  },
  {
   "cell_type": "markdown",
   "id": "a0c360d3",
   "metadata": {},
   "source": [
    "# Agent: Random policy"
   ]
  },
  {
   "cell_type": "code",
   "execution_count": 3,
   "id": "a5484a65",
   "metadata": {},
   "outputs": [],
   "source": [
    "class Agent():\n",
    "    def __init__(self):\n",
    "        pass\n",
    "    \n",
    "    def random_action(self): # Unifomly random policy\n",
    "        rand = random.random()\n",
    "        if rand < 1/4:\n",
    "            action=0\n",
    "        elif rand < 1/2:\n",
    "            action=1\n",
    "        elif rand < 3/4:\n",
    "            action=2\n",
    "        else:\n",
    "            action=3\n",
    "        return action"
   ]
  },
  {
   "cell_type": "markdown",
   "id": "3a1d30a0",
   "metadata": {},
   "source": [
    "# Run Simulation"
   ]
  },
  {
   "cell_type": "code",
   "execution_count": 4,
   "id": "e39def37",
   "metadata": {},
   "outputs": [
    {
     "name": "stdout",
     "output_type": "stream",
     "text": [
      "[[-57.9  -56.01 -53.   -50.45]\n",
      " [-55.98 -53.17 -48.75 -44.26]\n",
      " [-52.84 -48.49 -40.11 -29.62]\n",
      " [-50.25 -44.06 -29.5    0.  ]]\n"
     ]
    }
   ],
   "source": [
    "def main():\n",
    "    env = GridWorld() # make GridWorld environment\n",
    "    agent = Agent() # Make an agent\n",
    "    value_f = [[0,0,0,0], [0,0,0,0], [0,0,0,0], [0,0,0,0]] # Initial value functions\n",
    "    gamma = 1 # discount factor\n",
    "    alpha = 0.001 # constant step size\n",
    "    \n",
    "    for e in range(50000): # Run 50000 episodes\n",
    "        done = False\n",
    "        while not done:\n",
    "            x_current, y_current = env.get_state() # get current state\n",
    "            action = agent.random_action() # agent selects an action\n",
    "            (x_next,y_next), reward, done = env.step(action) # get next state and reward\n",
    "            \n",
    "            #update value function at every step\n",
    "            value_f[x_current][y_current] = value_f[x_current][y_current] \\\n",
    "            + alpha * (reward + gamma * value_f[x_next][y_next] - value_f[x_current][y_current])\n",
    "        \n",
    "        env.reset() # Set initial position when an episode ended\n",
    "        \n",
    "\n",
    "        \n",
    "    #print data\n",
    "    np.set_printoptions(precision=2)\n",
    "    np.set_printoptions(suppress=True)\n",
    "    print(np.array(value_f))\n",
    "        \n",
    "        \n",
    "if __name__ == '__main__':\n",
    "    main()\n",
    "            \n",
    "            "
   ]
  },
  {
   "cell_type": "code",
   "execution_count": null,
   "id": "59fe6ca9",
   "metadata": {},
   "outputs": [],
   "source": []
  },
  {
   "cell_type": "code",
   "execution_count": null,
   "id": "eab689dc",
   "metadata": {},
   "outputs": [],
   "source": []
  }
 ],
 "metadata": {
  "kernelspec": {
   "display_name": "Python 3 (ipykernel)",
   "language": "python",
   "name": "python3"
  },
  "language_info": {
   "codemirror_mode": {
    "name": "ipython",
    "version": 3
   },
   "file_extension": ".py",
   "mimetype": "text/x-python",
   "name": "python",
   "nbconvert_exporter": "python",
   "pygments_lexer": "ipython3",
   "version": "3.8.16"
  }
 },
 "nbformat": 4,
 "nbformat_minor": 5
}
