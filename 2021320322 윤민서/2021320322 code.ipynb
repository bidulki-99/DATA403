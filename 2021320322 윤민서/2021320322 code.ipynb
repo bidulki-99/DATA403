{
  "cells": [
    {
      "cell_type": "markdown",
      "source": [
        "# Setting"
      ],
      "metadata": {
        "id": "fNUPj4n9A4vc"
      }
    },
    {
      "cell_type": "code",
      "source": [
        "from google.colab import drive\n",
        "drive.mount('/content/drive')"
      ],
      "metadata": {
        "colab": {
          "base_uri": "https://localhost:8080/"
        },
        "id": "M_nb8Je9DjyH",
        "outputId": "dbfad933-1976-48cd-fd49-418ed6249854"
      },
      "execution_count": null,
      "outputs": [
        {
          "output_type": "stream",
          "name": "stdout",
          "text": [
            "Mounted at /content/drive\n"
          ]
        }
      ]
    },
    {
      "cell_type": "code",
      "execution_count": null,
      "metadata": {
        "colab": {
          "base_uri": "https://localhost:8080/"
        },
        "id": "LK8_sG6XB7dD",
        "outputId": "4633686f-13d8-4def-fe9b-43700611e7cf"
      },
      "outputs": [
        {
          "output_type": "stream",
          "name": "stdout",
          "text": [
            "Looking in indexes: https://pypi.org/simple, https://us-python.pkg.dev/colab-wheels/public/simple/\n",
            "Collecting gymnasium\n",
            "  Downloading gymnasium-0.28.1-py3-none-any.whl (925 kB)\n",
            "\u001b[2K     \u001b[90m━━━━━━━━━━━━━━━━━━━━━━━━━━━━━━━━━━━━━━\u001b[0m \u001b[32m925.5/925.5 kB\u001b[0m \u001b[31m42.8 MB/s\u001b[0m eta \u001b[36m0:00:00\u001b[0m\n",
            "\u001b[?25hRequirement already satisfied: numpy>=1.21.0 in /usr/local/lib/python3.10/dist-packages (from gymnasium) (1.22.4)\n",
            "Collecting jax-jumpy>=1.0.0 (from gymnasium)\n",
            "  Downloading jax_jumpy-1.0.0-py3-none-any.whl (20 kB)\n",
            "Requirement already satisfied: cloudpickle>=1.2.0 in /usr/local/lib/python3.10/dist-packages (from gymnasium) (2.2.1)\n",
            "Requirement already satisfied: typing-extensions>=4.3.0 in /usr/local/lib/python3.10/dist-packages (from gymnasium) (4.5.0)\n",
            "Collecting farama-notifications>=0.0.1 (from gymnasium)\n",
            "  Downloading Farama_Notifications-0.0.4-py3-none-any.whl (2.5 kB)\n",
            "Installing collected packages: farama-notifications, jax-jumpy, gymnasium\n",
            "Successfully installed farama-notifications-0.0.4 gymnasium-0.28.1 jax-jumpy-1.0.0\n",
            "Looking in indexes: https://pypi.org/simple, https://us-python.pkg.dev/colab-wheels/public/simple/\n",
            "Requirement already satisfied: gymnasium[box2d] in /usr/local/lib/python3.10/dist-packages (0.28.1)\n",
            "Requirement already satisfied: numpy>=1.21.0 in /usr/local/lib/python3.10/dist-packages (from gymnasium[box2d]) (1.22.4)\n",
            "Requirement already satisfied: jax-jumpy>=1.0.0 in /usr/local/lib/python3.10/dist-packages (from gymnasium[box2d]) (1.0.0)\n",
            "Requirement already satisfied: cloudpickle>=1.2.0 in /usr/local/lib/python3.10/dist-packages (from gymnasium[box2d]) (2.2.1)\n",
            "Requirement already satisfied: typing-extensions>=4.3.0 in /usr/local/lib/python3.10/dist-packages (from gymnasium[box2d]) (4.5.0)\n",
            "Requirement already satisfied: farama-notifications>=0.0.1 in /usr/local/lib/python3.10/dist-packages (from gymnasium[box2d]) (0.0.4)\n",
            "Collecting box2d-py==2.3.5 (from gymnasium[box2d])\n",
            "  Downloading box2d-py-2.3.5.tar.gz (374 kB)\n",
            "\u001b[2K     \u001b[90m━━━━━━━━━━━━━━━━━━━━━━━━━━━━━━━━━━━━━━\u001b[0m \u001b[32m374.4/374.4 kB\u001b[0m \u001b[31m21.6 MB/s\u001b[0m eta \u001b[36m0:00:00\u001b[0m\n",
            "\u001b[?25h  Preparing metadata (setup.py) ... \u001b[?25l\u001b[?25hdone\n",
            "Collecting pygame==2.1.3 (from gymnasium[box2d])\n",
            "  Downloading pygame-2.1.3-cp310-cp310-manylinux_2_17_x86_64.manylinux2014_x86_64.whl (13.7 MB)\n",
            "\u001b[2K     \u001b[90m━━━━━━━━━━━━━━━━━━━━━━━━━━━━━━━━━━━━━━━━\u001b[0m \u001b[32m13.7/13.7 MB\u001b[0m \u001b[31m53.5 MB/s\u001b[0m eta \u001b[36m0:00:00\u001b[0m\n",
            "\u001b[?25hCollecting swig==4.* (from gymnasium[box2d])\n",
            "  Downloading swig-4.1.1-py2.py3-none-manylinux_2_5_x86_64.manylinux1_x86_64.whl (1.8 MB)\n",
            "\u001b[2K     \u001b[90m━━━━━━━━━━━━━━━━━━━━━━━━━━━━━━━━━━━━━━━━\u001b[0m \u001b[32m1.8/1.8 MB\u001b[0m \u001b[31m94.0 MB/s\u001b[0m eta \u001b[36m0:00:00\u001b[0m\n",
            "\u001b[?25hCollecting mujoco>=2.3.2 (from gymnasium[box2d])\n",
            "  Downloading mujoco-2.3.5-cp310-cp310-manylinux_2_17_x86_64.manylinux2014_x86_64.whl (4.3 MB)\n",
            "\u001b[2K     \u001b[90m━━━━━━━━━━━━━━━━━━━━━━━━━━━━━━━━━━━━━━━━\u001b[0m \u001b[32m4.3/4.3 MB\u001b[0m \u001b[31m68.3 MB/s\u001b[0m eta \u001b[36m0:00:00\u001b[0m\n",
            "\u001b[?25hRequirement already satisfied: imageio>=2.14.1 in /usr/local/lib/python3.10/dist-packages (from gymnasium[box2d]) (2.25.1)\n",
            "Collecting shimmy[atari]<1.0,>=0.1.0 (from gymnasium[box2d])\n",
            "  Downloading Shimmy-0.2.1-py3-none-any.whl (25 kB)\n",
            "Collecting autorom[accept-rom-license]~=0.4.2 (from gymnasium[box2d])\n",
            "  Downloading AutoROM-0.4.2-py3-none-any.whl (16 kB)\n",
            "Requirement already satisfied: click in /usr/local/lib/python3.10/dist-packages (from autorom[accept-rom-license]~=0.4.2->gymnasium[box2d]) (8.1.3)\n",
            "Requirement already satisfied: requests in /usr/local/lib/python3.10/dist-packages (from autorom[accept-rom-license]~=0.4.2->gymnasium[box2d]) (2.27.1)\n",
            "Requirement already satisfied: tqdm in /usr/local/lib/python3.10/dist-packages (from autorom[accept-rom-license]~=0.4.2->gymnasium[box2d]) (4.65.0)\n",
            "Collecting AutoROM.accept-rom-license (from autorom[accept-rom-license]~=0.4.2->gymnasium[box2d])\n",
            "  Downloading AutoROM.accept-rom-license-0.6.1.tar.gz (434 kB)\n",
            "\u001b[2K     \u001b[90m━━━━━━━━━━━━━━━━━━━━━━━━━━━━━━━━━━━━━━\u001b[0m \u001b[32m434.7/434.7 kB\u001b[0m \u001b[31m46.3 MB/s\u001b[0m eta \u001b[36m0:00:00\u001b[0m\n",
            "\u001b[?25h  Installing build dependencies ... \u001b[?25l\u001b[?25hdone\n",
            "  Getting requirements to build wheel ... \u001b[?25l\u001b[?25hdone\n",
            "  Preparing metadata (pyproject.toml) ... \u001b[?25l\u001b[?25hdone\n",
            "Requirement already satisfied: pillow>=8.3.2 in /usr/local/lib/python3.10/dist-packages (from imageio>=2.14.1->gymnasium[box2d]) (8.4.0)\n",
            "Requirement already satisfied: absl-py in /usr/local/lib/python3.10/dist-packages (from mujoco>=2.3.2->gymnasium[box2d]) (1.4.0)\n",
            "Collecting glfw (from mujoco>=2.3.2->gymnasium[box2d])\n",
            "  Downloading glfw-2.5.9-py2.py27.py3.py30.py31.py32.py33.py34.py35.py36.py37.py38-none-manylinux2014_x86_64.whl (207 kB)\n",
            "\u001b[2K     \u001b[90m━━━━━━━━━━━━━━━━━━━━━━━━━━━━━━━━━━━━━━\u001b[0m \u001b[32m207.8/207.8 kB\u001b[0m \u001b[31m25.4 MB/s\u001b[0m eta \u001b[36m0:00:00\u001b[0m\n",
            "\u001b[?25hRequirement already satisfied: pyopengl in /usr/local/lib/python3.10/dist-packages (from mujoco>=2.3.2->gymnasium[box2d]) (3.1.6)\n",
            "Collecting ale-py~=0.8.1 (from shimmy[atari]<1.0,>=0.1.0->gymnasium[box2d])\n",
            "  Downloading ale_py-0.8.1-cp310-cp310-manylinux_2_17_x86_64.manylinux2014_x86_64.whl (1.7 MB)\n",
            "\u001b[2K     \u001b[90m━━━━━━━━━━━━━━━━━━━━━━━━━━━━━━━━━━━━━━━━\u001b[0m \u001b[32m1.7/1.7 MB\u001b[0m \u001b[31m85.3 MB/s\u001b[0m eta \u001b[36m0:00:00\u001b[0m\n",
            "\u001b[?25hRequirement already satisfied: importlib-resources in /usr/local/lib/python3.10/dist-packages (from ale-py~=0.8.1->shimmy[atari]<1.0,>=0.1.0->gymnasium[box2d]) (5.12.0)\n",
            "Requirement already satisfied: urllib3<1.27,>=1.21.1 in /usr/local/lib/python3.10/dist-packages (from requests->autorom[accept-rom-license]~=0.4.2->gymnasium[box2d]) (1.26.15)\n",
            "Requirement already satisfied: certifi>=2017.4.17 in /usr/local/lib/python3.10/dist-packages (from requests->autorom[accept-rom-license]~=0.4.2->gymnasium[box2d]) (2022.12.7)\n",
            "Requirement already satisfied: charset-normalizer~=2.0.0 in /usr/local/lib/python3.10/dist-packages (from requests->autorom[accept-rom-license]~=0.4.2->gymnasium[box2d]) (2.0.12)\n",
            "Requirement already satisfied: idna<4,>=2.5 in /usr/local/lib/python3.10/dist-packages (from requests->autorom[accept-rom-license]~=0.4.2->gymnasium[box2d]) (3.4)\n",
            "Building wheels for collected packages: box2d-py, AutoROM.accept-rom-license\n",
            "  \u001b[1;31merror\u001b[0m: \u001b[1msubprocess-exited-with-error\u001b[0m\n",
            "  \n",
            "  \u001b[31m×\u001b[0m \u001b[32mpython setup.py bdist_wheel\u001b[0m did not run successfully.\n",
            "  \u001b[31m│\u001b[0m exit code: \u001b[1;36m1\u001b[0m\n",
            "  \u001b[31m╰─>\u001b[0m See above for output.\n",
            "  \n",
            "  \u001b[1;35mnote\u001b[0m: This error originates from a subprocess, and is likely not a problem with pip.\n",
            "  Building wheel for box2d-py (setup.py) ... \u001b[?25lerror\n",
            "\u001b[31m  ERROR: Failed building wheel for box2d-py\u001b[0m\u001b[31m\n",
            "\u001b[0m\u001b[?25h  Running setup.py clean for box2d-py\n",
            "  Building wheel for AutoROM.accept-rom-license (pyproject.toml) ... \u001b[?25l\u001b[?25hdone\n",
            "  Created wheel for AutoROM.accept-rom-license: filename=AutoROM.accept_rom_license-0.6.1-py3-none-any.whl size=446660 sha256=bb8be8f0120f6956ef17750736fd892de03bbee2f93d37ca58bb0b9de72c828a\n",
            "  Stored in directory: /root/.cache/pip/wheels/6b/1b/ef/a43ff1a2f1736d5711faa1ba4c1f61be1131b8899e6a057811\n",
            "Successfully built AutoROM.accept-rom-license\n",
            "Failed to build box2d-py\n",
            "\u001b[31mERROR: Could not build wheels for box2d-py, which is required to install pyproject.toml-based projects\u001b[0m\u001b[31m\n",
            "\u001b[0mLooking in indexes: https://pypi.org/simple, https://us-python.pkg.dev/colab-wheels/public/simple/\n",
            "Collecting omegaconf\n",
            "  Downloading omegaconf-2.3.0-py3-none-any.whl (79 kB)\n",
            "\u001b[2K     \u001b[90m━━━━━━━━━━━━━━━━━━━━━━━━━━━━━━━━━━━━━━━━\u001b[0m \u001b[32m79.5/79.5 kB\u001b[0m \u001b[31m11.1 MB/s\u001b[0m eta \u001b[36m0:00:00\u001b[0m\n",
            "\u001b[?25hCollecting hydra-core\n",
            "  Downloading hydra_core-1.3.2-py3-none-any.whl (154 kB)\n",
            "\u001b[2K     \u001b[90m━━━━━━━━━━━━━━━━━━━━━━━━━━━━━━━━━━━━━━\u001b[0m \u001b[32m154.5/154.5 kB\u001b[0m \u001b[31m22.3 MB/s\u001b[0m eta \u001b[36m0:00:00\u001b[0m\n",
            "\u001b[?25hCollecting antlr4-python3-runtime==4.9.* (from omegaconf)\n",
            "  Downloading antlr4-python3-runtime-4.9.3.tar.gz (117 kB)\n",
            "\u001b[2K     \u001b[90m━━━━━━━━━━━━━━━━━━━━━━━━━━━━━━━━━━━━━━\u001b[0m \u001b[32m117.0/117.0 kB\u001b[0m \u001b[31m17.1 MB/s\u001b[0m eta \u001b[36m0:00:00\u001b[0m\n",
            "\u001b[?25h  Preparing metadata (setup.py) ... \u001b[?25l\u001b[?25hdone\n",
            "Requirement already satisfied: PyYAML>=5.1.0 in /usr/local/lib/python3.10/dist-packages (from omegaconf) (6.0)\n",
            "Requirement already satisfied: packaging in /usr/local/lib/python3.10/dist-packages (from hydra-core) (23.1)\n",
            "Building wheels for collected packages: antlr4-python3-runtime\n",
            "  Building wheel for antlr4-python3-runtime (setup.py) ... \u001b[?25l\u001b[?25hdone\n",
            "  Created wheel for antlr4-python3-runtime: filename=antlr4_python3_runtime-4.9.3-py3-none-any.whl size=144554 sha256=ed7c1ed6d9995e24a94b41f4919a49f2dbffe3c8b0e8571ea43ea1fb9c7301e2\n",
            "  Stored in directory: /root/.cache/pip/wheels/12/93/dd/1f6a127edc45659556564c5730f6d4e300888f4bca2d4c5a88\n",
            "Successfully built antlr4-python3-runtime\n",
            "Installing collected packages: antlr4-python3-runtime, omegaconf, hydra-core\n",
            "Successfully installed antlr4-python3-runtime-4.9.3 hydra-core-1.3.2 omegaconf-2.3.0\n"
          ]
        },
        {
          "output_type": "display_data",
          "data": {
            "application/vnd.colab-display-data+json": {
              "pip_warning": {
                "packages": [
                  "pydevd_plugins"
                ]
              }
            }
          },
          "metadata": {}
        },
        {
          "output_type": "stream",
          "name": "stdout",
          "text": [
            "Looking in indexes: https://pypi.org/simple, https://us-python.pkg.dev/colab-wheels/public/simple/\n",
            "Requirement already satisfied: moviepy in /usr/local/lib/python3.10/dist-packages (1.0.3)\n",
            "Requirement already satisfied: decorator<5.0,>=4.0.2 in /usr/local/lib/python3.10/dist-packages (from moviepy) (4.4.2)\n",
            "Requirement already satisfied: tqdm<5.0,>=4.11.2 in /usr/local/lib/python3.10/dist-packages (from moviepy) (4.65.0)\n",
            "Requirement already satisfied: requests<3.0,>=2.8.1 in /usr/local/lib/python3.10/dist-packages (from moviepy) (2.27.1)\n",
            "Requirement already satisfied: proglog<=1.0.0 in /usr/local/lib/python3.10/dist-packages (from moviepy) (0.1.10)\n",
            "Requirement already satisfied: numpy>=1.17.3 in /usr/local/lib/python3.10/dist-packages (from moviepy) (1.22.4)\n",
            "Requirement already satisfied: imageio<3.0,>=2.5 in /usr/local/lib/python3.10/dist-packages (from moviepy) (2.25.1)\n",
            "Requirement already satisfied: imageio-ffmpeg>=0.2.0 in /usr/local/lib/python3.10/dist-packages (from moviepy) (0.4.8)\n",
            "Requirement already satisfied: pillow>=8.3.2 in /usr/local/lib/python3.10/dist-packages (from imageio<3.0,>=2.5->moviepy) (8.4.0)\n",
            "Requirement already satisfied: urllib3<1.27,>=1.21.1 in /usr/local/lib/python3.10/dist-packages (from requests<3.0,>=2.8.1->moviepy) (1.26.15)\n",
            "Requirement already satisfied: certifi>=2017.4.17 in /usr/local/lib/python3.10/dist-packages (from requests<3.0,>=2.8.1->moviepy) (2022.12.7)\n",
            "Requirement already satisfied: charset-normalizer~=2.0.0 in /usr/local/lib/python3.10/dist-packages (from requests<3.0,>=2.8.1->moviepy) (2.0.12)\n",
            "Requirement already satisfied: idna<4,>=2.5 in /usr/local/lib/python3.10/dist-packages (from requests<3.0,>=2.8.1->moviepy) (3.4)\n"
          ]
        }
      ],
      "source": [
        "!pip install gymnasium\n",
        "!pip install gymnasium[box2d] gymnasium[mujoco] gymnasium[atari] gymnasium[accept-rom-license]\n",
        "!pip install omegaconf hydra-core\n",
        "!pip install moviepy"
      ]
    },
    {
      "cell_type": "code",
      "source": [
        "!pip install mujoco==2.3.1"
      ],
      "metadata": {
        "colab": {
          "base_uri": "https://localhost:8080/"
        },
        "id": "PR8UZVGlEyLr",
        "outputId": "b3ee2eb9-d4d6-4546-d698-e51cb88ee717"
      },
      "execution_count": null,
      "outputs": [
        {
          "output_type": "stream",
          "name": "stdout",
          "text": [
            "Looking in indexes: https://pypi.org/simple, https://us-python.pkg.dev/colab-wheels/public/simple/\n",
            "Collecting mujoco==2.3.1\n",
            "  Downloading mujoco-2.3.1-cp310-cp310-manylinux_2_17_x86_64.manylinux2014_x86_64.whl (4.2 MB)\n",
            "\u001b[2K     \u001b[90m━━━━━━━━━━━━━━━━━━━━━━━━━━━━━━━━━━━━━━━━\u001b[0m \u001b[32m4.2/4.2 MB\u001b[0m \u001b[31m59.9 MB/s\u001b[0m eta \u001b[36m0:00:00\u001b[0m\n",
            "\u001b[?25hRequirement already satisfied: absl-py in /usr/local/lib/python3.10/dist-packages (from mujoco==2.3.1) (1.4.0)\n",
            "Collecting glfw (from mujoco==2.3.1)\n",
            "  Using cached glfw-2.5.9-py2.py27.py3.py30.py31.py32.py33.py34.py35.py36.py37.py38-none-manylinux2014_x86_64.whl (207 kB)\n",
            "Requirement already satisfied: numpy in /usr/local/lib/python3.10/dist-packages (from mujoco==2.3.1) (1.22.4)\n",
            "Requirement already satisfied: pyopengl in /usr/local/lib/python3.10/dist-packages (from mujoco==2.3.1) (3.1.6)\n",
            "Installing collected packages: glfw, mujoco\n",
            "Successfully installed glfw-2.5.9 mujoco-2.3.1\n"
          ]
        }
      ]
    },
    {
      "cell_type": "code",
      "execution_count": null,
      "metadata": {
        "id": "9Pal9DblB7dG"
      },
      "outputs": [],
      "source": [
        "import time\n",
        "import random\n",
        "from pathlib import Path\n",
        "import numpy as np\n",
        "import torch\n",
        "import torch.nn as nn\n",
        "import torch.nn.functional as F\n",
        "import torch.optim as optim\n",
        "from torch.distributions.normal import Normal\n",
        "from torch.distributions.categorical import Categorical\n",
        "\n",
        "from omegaconf import OmegaConf\n",
        "\n",
        "from torch.utils.tensorboard import SummaryWriter\n",
        "import matplotlib.pyplot as plt\n",
        "import matplotlib.ticker as ticker\n",
        "import seaborn as sns"
      ]
    },
    {
      "cell_type": "code",
      "execution_count": null,
      "metadata": {
        "id": "-T8e1TkvB7dH"
      },
      "outputs": [],
      "source": [
        "import gymnasium as gym\n",
        "from gymnasium.experimental.wrappers import RecordVideoV0 as RecordVideo # warppers for making game video\n"
      ]
    },
    {
      "cell_type": "markdown",
      "metadata": {
        "id": "ZZJo2f5wB7dI"
      },
      "source": [
        "# Requirements\n",
        "- Selecting environments\n",
        "- Implementing PPO"
      ]
    },
    {
      "cell_type": "markdown",
      "metadata": {
        "id": "dW72DdwSB7dK"
      },
      "source": [
        "# 1. Select your environment"
      ]
    },
    {
      "cell_type": "code",
      "execution_count": null,
      "metadata": {
        "id": "bAUwiwDrB7dK"
      },
      "outputs": [],
      "source": [
        "# select your environment from the list\n",
        "\"\"\"\n",
        "environments list\n",
        "classic control env_id list:  [\"Acrobot-v1\", \"MountainCar-v0\", \"Pendulum-v1\"]\n",
        "box2d env_id list:            [\"LunarLander-v2\", \"BipedalWalker-v3\"]\n",
        "mujoco env_id list:           [\"Swimmer-v4\" , \"Reacher-v4\", \"Hopper-v4\", \"Walker2d-v4\", \"Ant-v4\", \"HalfCheetah-v4\", \"HumanoidStandup-v4\"]\n",
        "atari env_id list:            [\"BreakoutNoFrameskip-v4\", \"MsPacmanNoFrameskip-v4\", \"PongNoFrameskip-v4\"] (optional. not recommended for no gpu device)\n",
        "\"\"\"\n",
        "\n",
        "env_id = \"HumanoidStandup-v4\""
      ]
    },
    {
      "cell_type": "code",
      "execution_count": null,
      "metadata": {
        "id": "jOZxKuOJB7dL"
      },
      "outputs": [],
      "source": [
        "mujoco_env_id = [\"Swimmer-v4\" , \"Reacher-v4\", \"Hopper-v4\", \"Walker2d-v4\", \"Ant-v4\", \"HalfCheetah-v4\", \"HumanoidStandup-v4\"]"
      ]
    },
    {
      "cell_type": "markdown",
      "metadata": {
        "id": "3eiUfqO7B7dL"
      },
      "source": [
        "### 1.1 experiment config, path config"
      ]
    },
    {
      "cell_type": "markdown",
      "metadata": {
        "id": "hGjAaR86B7dM"
      },
      "source": [
        "### Try to change the experiment configurations except `max_episode_steps`."
      ]
    },
    {
      "cell_type": "code",
      "execution_count": null,
      "metadata": {
        "id": "Y-ocSmvAB7dM"
      },
      "outputs": [],
      "source": [
        "exp_config = OmegaConf.create({\n",
        "    \"seed\": 0,\n",
        "    \"num_envs\": 4,\n",
        "    \"num_eval\": 10,\n",
        "    \"max_episode_steps\": 2048,\n",
        "    \"num_rollout_steps\": 128,\n",
        "    \"num_minibatches\": 4,\n",
        "    \"total_timesteps\": 1000000,\n",
        "    \"print_interval\": 100,\n",
        "    \"early_stop_wating_steps\": 5000,\n",
        "})\n",
        "\n",
        "path_config = OmegaConf.create({\n",
        "  \"logs\": Path(\"/content/drive/MyDrive/DATA403/runs\"),\n",
        "  \"videos\":Path(\"/content/drive/MyDrive/DATA403/videos\"),\n",
        "  \"checkpoints\": Path(\"/content/drive/MyDrive/DATA403/checkpoints\"),\n",
        "})\n"
      ]
    },
    {
      "cell_type": "markdown",
      "metadata": {
        "id": "NHryakVAB7dM"
      },
      "source": [
        "### 1.2 make_env function\n",
        "For vectorized environments, we need a callable make_env function."
      ]
    },
    {
      "cell_type": "code",
      "execution_count": null,
      "metadata": {
        "id": "f2VeRzVKB7dM"
      },
      "outputs": [],
      "source": [
        "def make_env(env_id, exp_config, path_config: OmegaConf, evaluation=False, idx=0):\n",
        "    video_path = Path(path_config.videos)\n",
        "    def thunk():\n",
        "        env = gym.make(env_id, render_mode=\"rgb_array\")\n",
        "        if evaluation:\n",
        "            test_path = Path(f\"{env_id}/test\")\n",
        "            video_save_path = str(video_path / test_path)\n",
        "        else:\n",
        "            train_path = Path(f\"{env_id}/train\")\n",
        "            video_save_path = str(video_path / train_path)\n",
        "        # if idx==0:\n",
        "        #     env = RecordVideo(env, video_save_path, disable_logger=True)\n",
        "        # env = gym.wrappers.FlattenObservation(env)\n",
        "        env = gym.wrappers.RecordEpisodeStatistics(env)\n",
        "        if env_id in mujoco_env_id:\n",
        "            env = gym.wrappers.TimeLimit(env, exp_config.max_episode_steps)\n",
        "        # env = gym.wrappers.ClipAction(env)\n",
        "        # env = gym.wrappers.NormalizeObservation(env)\n",
        "        # env = gym.wrappers.TransformObservation(env, lambda obs: np.clip(obs, -10, 10))\n",
        "        return env\n",
        "    return thunk"
      ]
    },
    {
      "cell_type": "code",
      "execution_count": null,
      "metadata": {
        "colab": {
          "base_uri": "https://localhost:8080/"
        },
        "id": "btdkY7lqB7dN",
        "outputId": "0ecb074b-d986-48ff-ba76-990f334189d6"
      },
      "outputs": [
        {
          "output_type": "execute_result",
          "data": {
            "text/plain": [
              "<function __main__.make_env.<locals>.thunk()>"
            ]
          },
          "metadata": {},
          "execution_count": 10
        }
      ],
      "source": [
        "make_env(env_id, exp_config, path_config) # the return of make_env is callable function"
      ]
    },
    {
      "cell_type": "code",
      "execution_count": null,
      "metadata": {
        "id": "lbH101nCB7dN"
      },
      "outputs": [],
      "source": [
        "env = make_env(env_id, exp_config, path_config)() # <- Note that () is call action"
      ]
    },
    {
      "cell_type": "code",
      "execution_count": null,
      "metadata": {
        "id": "eTbcfmY9B7dN"
      },
      "outputs": [],
      "source": [
        "# Vectorized environments for fast training\n",
        "# https://gymnasium.farama.org/api/vector/\n",
        "envs = gym.vector.SyncVectorEnv(make_env(env_id, exp_config, path_config, evaluation=False, idx=idx)\n",
        "                                for idx in range(exp_config.num_envs))\n"
      ]
    },
    {
      "cell_type": "markdown",
      "metadata": {
        "id": "_wY33oO3B7dN"
      },
      "source": [
        "### Note that whether the environment is discrete or continuous\n",
        "`gymnasium.spaces.Box`: continuous space\n",
        "`gynmasium.spaces.Discrete`: discrete space\n"
      ]
    },
    {
      "cell_type": "code",
      "execution_count": null,
      "metadata": {
        "colab": {
          "base_uri": "https://localhost:8080/"
        },
        "id": "X9K5QQL5B7dO",
        "outputId": "8b352582-3c05-4012-d035-814bfe497702"
      },
      "outputs": [
        {
          "output_type": "stream",
          "name": "stdout",
          "text": [
            "Box(-inf, inf, (376,), float64)\n",
            "Box(-0.4, 0.4, (17,), float32)\n"
          ]
        }
      ],
      "source": [
        "print(env.observation_space)\n",
        "print(env.action_space)\n"
      ]
    },
    {
      "cell_type": "markdown",
      "metadata": {
        "id": "10VRLocBB7dO"
      },
      "source": [
        "# 2. make configurations\n",
        "- environment\n",
        "- ppo hyperparameters\n"
      ]
    },
    {
      "cell_type": "markdown",
      "metadata": {
        "id": "1KWmg1HGB7dO"
      },
      "source": [
        "### 2.1 make environment config\n",
        "This configuration store the information of environment to build the neural network"
      ]
    },
    {
      "cell_type": "code",
      "execution_count": null,
      "metadata": {
        "id": "rzaIZx5IB7dO"
      },
      "outputs": [],
      "source": [
        "from gymnasium.spaces import Discrete, Box\n",
        "\n",
        "def make_env_config(envs):\n",
        "    env = envs.envs[0]\n",
        "    print(env.observation_space)\n",
        "    print(env.action_space)\n",
        "\n",
        "    # * observation information\n",
        "    if isinstance(env.observation_space, Discrete): # if observation_space is discrete\n",
        "        state_dim = env.observation_space.n\n",
        "\n",
        "    else:  # if observation_space is continuous\n",
        "        if len(env.observation_space.shape) > 1: # Atari visual observation case\n",
        "            state_dim = env.observation_space.shape\n",
        "        else: # 1D vector observation case (classic control, box2d, mujoco)\n",
        "            state_dim = env.observation_space.shape[0]\n",
        "\n",
        "    # * action_space information\n",
        "    num_discretes = 0\n",
        "    if isinstance(env.action_space, Box):\n",
        "        action_dim = env.action_space.shape[0]\n",
        "        is_continuous = True\n",
        "    elif isinstance(env.action_space, Discrete):\n",
        "        action_dim = 1\n",
        "        num_discretes = env.action_space.n\n",
        "        is_continuous = False\n",
        "    env_config = OmegaConf.create({\"state_dim\": state_dim,\n",
        "                    \"action_dim\": int(action_dim),\n",
        "                    \"num_discretes\": int(num_discretes),\n",
        "                    \"is_continuous\": is_continuous})\n",
        "    return env_config\n"
      ]
    },
    {
      "cell_type": "code",
      "execution_count": null,
      "metadata": {
        "colab": {
          "base_uri": "https://localhost:8080/"
        },
        "id": "SyJoa__0B7dP",
        "outputId": "d53b49e0-825c-4a5b-951e-b0cde5cdaf02"
      },
      "outputs": [
        {
          "output_type": "stream",
          "name": "stdout",
          "text": [
            "Box(-inf, inf, (376,), float64)\n",
            "Box(-0.4, 0.4, (17,), float32)\n"
          ]
        },
        {
          "output_type": "execute_result",
          "data": {
            "text/plain": [
              "{'state_dim': 376, 'action_dim': 17, 'num_discretes': 0, 'is_continuous': True}"
            ]
          },
          "metadata": {},
          "execution_count": 15
        }
      ],
      "source": [
        "env_config = make_env_config(envs)\n",
        "env_config"
      ]
    },
    {
      "cell_type": "markdown",
      "metadata": {
        "id": "35IimjnLB7dP"
      },
      "source": [
        "### 2.2 ppo config\n",
        "This configuration store the information of hyperparameters for training"
      ]
    },
    {
      "cell_type": "markdown",
      "metadata": {
        "id": "ogwuw3nrB7dP"
      },
      "source": [
        "### Try to change the ppo configurations depending on selected environment"
      ]
    },
    {
      "cell_type": "code",
      "execution_count": null,
      "metadata": {
        "colab": {
          "base_uri": "https://localhost:8080/"
        },
        "id": "v8UM0TlXB7dP",
        "outputId": "430e92c4-16fd-4804-c5c3-c514648b44ac"
      },
      "outputs": [
        {
          "output_type": "stream",
          "name": "stdout",
          "text": [
            "{'anneal_lr': True, 'update_epochs': 10, 'minibatch_size': 64, 'lr': 2e-05, 'max_grad_norm': 0.5, 'norm_adv': True, 'clip_coef': 0.2, 'ent_coef': 0.001, 'vf_coef': 0.5, 'gamma': 0.99, 'gae_lambda': 0.95}\n",
            "64\n"
          ]
        }
      ],
      "source": [
        "ppo_config = OmegaConf.create({\n",
        "    \"anneal_lr\": True,\n",
        "    \"update_epochs\": 10,\n",
        "    \"minibatch_size\": 64,\n",
        "    \"lr\": 3e-4,\n",
        "    \"max_grad_norm\": 2.0,\n",
        "    \"norm_adv\": True,\n",
        "    \"clip_coef\": 0.2,\n",
        "    \"ent_coef\": 0.1,\n",
        "    \"vf_coef\": 0.5,\n",
        "    \"gamma\": 0.99,\n",
        "    \"gae_lambda\": 0.95,\n",
        "    })\n",
        "print(ppo_config)\n",
        "print(ppo_config.minibatch_size)\n"
      ]
    },
    {
      "cell_type": "markdown",
      "metadata": {
        "id": "HROchgPvB7dP"
      },
      "source": [
        "# 3. Implementing PPO"
      ]
    },
    {
      "cell_type": "markdown",
      "metadata": {
        "id": "6ZhM1gPzB7dP"
      },
      "source": [
        "You should do the following to implement PPO.\n",
        "- Complete the ActorCritic class\n",
        "- Implement the generalized advatage calculation part\n",
        "- Implement the PPO loss and Value loss calculation part"
      ]
    },
    {
      "cell_type": "markdown",
      "metadata": {
        "id": "2G2HicTFB7dQ"
      },
      "source": [
        "### 3.1 ActorCritic Class"
      ]
    },
    {
      "cell_type": "markdown",
      "metadata": {
        "id": "zdUtB49sB7dQ"
      },
      "source": [
        "### You can create a neural network as you want to implement it."
      ]
    },
    {
      "cell_type": "code",
      "execution_count": null,
      "metadata": {
        "id": "Foc8NmXpB7dQ"
      },
      "outputs": [],
      "source": [
        "def layer_init(layer, std=np.sqrt(2), bias_const=0.0):\n",
        "    torch.nn.init.orthogonal_(layer.weight, std)\n",
        "    torch.nn.init.constant_(layer.bias, bias_const)\n",
        "    return layer\n",
        "\n",
        "class ActorCritic(nn.Module):\n",
        "    def __init__(self, env_config):\n",
        "        super().__init__()\n",
        "        self.state_dim = env_config[\"state_dim\"]\n",
        "        self.action_dim = env_config[\"action_dim\"]\n",
        "        self.num_discretes = env_config[\"num_discretes\"]\n",
        "        self.is_continuous = env_config[\"is_continuous\"]\n",
        "\n",
        "        ###################### Implement here : 1. Neural Network ########################\n",
        "        self.critic = nn.Sequential(\n",
        "            nn.Linear(self.state_dim, 256),\n",
        "            nn.ReLU(),\n",
        "            nn.Linear(256, 128),\n",
        "            nn.ReLU(),\n",
        "            nn.Linear(128, 64),\n",
        "            nn.ReLU(),\n",
        "            nn.Linear(64, 32),\n",
        "            nn.ReLU(),\n",
        "            nn.Linear(32, 1)\n",
        "        )\n",
        "        if self.is_continuous:\n",
        "            self.actor_mean = nn.Sequential(\n",
        "            nn.Linear(self.state_dim, 256),\n",
        "            nn.ReLU(),\n",
        "            nn.Linear(256, 128),\n",
        "            nn.ReLU(),\n",
        "            nn.Linear(128, 64),\n",
        "            nn.ReLU(),\n",
        "            nn.Linear(64, 32),\n",
        "            nn.ReLU(),\n",
        "            nn.Linear(32, self.action_dim),\n",
        "            nn.Tanh()\n",
        "        )\n",
        "            self.actor_logstd = nn.Parameter(torch.zeros(1, self.action_dim))\n",
        "\n",
        "        else:\n",
        "            self.actor_logit = nn.Sequential(\n",
        "                nn.Linear(self.state_dim, 64),\n",
        "                nn.ReLU(),\n",
        "                nn.Linear(64, 64),\n",
        "                nn.ReLU(),\n",
        "                nn.Linear(64, self.action_dim),\n",
        "                nn.Softmax(dim=-1)\n",
        "            )\n",
        "\n",
        "    def get_value(self, x):\n",
        "        return self.critic(x)\n",
        "\n",
        "    def get_action_and_value(self, x, action=None):\n",
        "        ###################### Implement here : policy distribution ########################\n",
        "        if self.is_continuous:\n",
        "            action_mean = self.actor_mean(x)\n",
        "            action_logstd = self.actor_logstd.expand_as(action_mean)\n",
        "            action_std = torch.exp(action_logstd)\n",
        "            probs = torch.distributions.Normal(action_mean, action_std) # Use torch distribution Noraml\n",
        "            if action is None:\n",
        "                action = probs.sample()\n",
        "            return action, probs.log_prob(action).sum(-1), probs.entropy().sum(-1), self.critic(x)\n",
        "        else:\n",
        "            logits = self.actor_logit(x)\n",
        "            probs = torch.distributions.Categorical(logits=logits) # Use torch distribution Categorical\n",
        "            if action is None:\n",
        "                action = probs.sample()\n",
        "            return action, probs.log_prob(action), probs.entropy(), self.critic(x)\n",
        "\n",
        "\n",
        "def save_model(env_id, path_cfg, actor_critic, update):\n",
        "    ckpt_path = Path(path_cfg.checkpoints) / Path(f\"{env_id}\")\n",
        "    if not ckpt_path.exists():\n",
        "        ckpt_path.mkdir()\n",
        "    model_name = Path(f\"PPO_{update}.pt\")\n",
        "    model_path = ckpt_path / model_name\n",
        "    torch.save(actor_critic.state_dict(), str(model_path))\n",
        "    print(f\"model saved to {model_path}\")"
      ]
    },
    {
      "cell_type": "code",
      "source": [
        "def count_param(model):\n",
        "    return sum(p.numel() for p in model.parameters() if p.requires_grad)\n",
        "\n",
        "num_params = count_param(ActorCritic(env_config))\n",
        "print('Number of parameters for ActorCritic: {:}'.format(num_params))"
      ],
      "metadata": {
        "colab": {
          "base_uri": "https://localhost:8080/"
        },
        "id": "z9ZQc-go8TvB",
        "outputId": "89710e45-0a8b-4773-c61d-6c16d5768a64"
      },
      "execution_count": null,
      "outputs": [
        {
          "output_type": "stream",
          "name": "stdout",
          "text": [
            "Number of parameters for ActorCritic: 280099\n"
          ]
        }
      ]
    },
    {
      "cell_type": "code",
      "execution_count": null,
      "metadata": {
        "id": "sTavrMYLB7dQ"
      },
      "outputs": [],
      "source": [
        "from dataclasses import dataclass\n",
        "from typing import List\n",
        "\n",
        "@dataclass\n",
        "class GlobalLogger:\n",
        "    global_steps: List\n",
        "    save_update_steps: List\n",
        "    episodic_return_steps: List\n",
        "    train_episodic_return: List\n",
        "    test_episodic_return: List\n",
        "    policy_loss: List\n",
        "    value_loss: List\n",
        "    entropy_loss: List"
      ]
    },
    {
      "cell_type": "markdown",
      "metadata": {
        "id": "MTMXGpXYB7dQ"
      },
      "source": [
        "## 3.2 train"
      ]
    },
    {
      "cell_type": "markdown",
      "metadata": {
        "id": "5e9Fcl_PB7dQ"
      },
      "source": [
        "### Implement the GAE calculation part and ppo loss, value loss part by referring the pictures.\n",
        "\n",
        "### GAE: https://arxiv.org/abs/1506.02438\n",
        "\n",
        "\n",
        "### PPO: https://arxiv.org/abs/1707.06347\n",
        "\n"
      ]
    },
    {
      "cell_type": "markdown",
      "metadata": {
        "id": "czFFbL_PB7dQ"
      },
      "source": [
        "### GAE calculation"
      ]
    },
    {
      "cell_type": "markdown",
      "metadata": {
        "id": "j9V2CHsLB7dR"
      },
      "source": [
        "![](GAE_calculation.png)"
      ]
    },
    {
      "cell_type": "markdown",
      "metadata": {
        "id": "HrNa0Co9B7dR"
      },
      "source": [
        "#### PPO Clipped loss"
      ]
    },
    {
      "cell_type": "markdown",
      "metadata": {
        "id": "TkGS-sFbB7dR"
      },
      "source": [
        "![](PPO_loss.png)"
      ]
    },
    {
      "cell_type": "markdown",
      "metadata": {
        "id": "nNROho-DB7dR"
      },
      "source": [
        "### You can refer to any open source code and complete it.\n",
        "GAE references:\n",
        "- https://towardsdatascience.com/generalized-advantage-estimate-maths-and-code-b5d5bd3ce737\n",
        "- https://danieltakeshi.github.io/2017/04/02/notes-on-the-generalized-advantage-estimation-paper/\n",
        "\n",
        "PPO references:\n",
        "- https://spinningup.openai.com/en/latest/algorithms/ppo.html"
      ]
    },
    {
      "cell_type": "code",
      "source": [
        "from torch.utils.tensorboard import SummaryWriter\n",
        "\n",
        "global_logger = GlobalLogger(\n",
        "                            global_steps = [],\n",
        "                            save_update_steps = [],\n",
        "                            episodic_return_steps = [],\n",
        "                            train_episodic_return=[],\n",
        "                            test_episodic_return=[],\n",
        "                            policy_loss=[],\n",
        "                            value_loss=[],\n",
        "                            entropy_loss=[]\n",
        "                            )\n",
        "\n",
        "# Set minibatch_size\n",
        "# tensorboard writer, global_recorder\n",
        "log_path = str(Path(path_config.logs) / Path(env_id))\n",
        "writer = SummaryWriter(log_path)\n",
        "global_logger.log_path = log_path\n",
        "\n",
        "# Managing seed for reproducible experiments\n",
        "random.seed(exp_config.seed)\n",
        "np.random.seed(exp_config.seed)\n",
        "torch.manual_seed(exp_config.seed)"
      ],
      "metadata": {
        "colab": {
          "base_uri": "https://localhost:8080/"
        },
        "id": "NKxzrsobnarw",
        "outputId": "9d2f42ac-123e-4b48-f140-9d7f1430b35c"
      },
      "execution_count": null,
      "outputs": [
        {
          "output_type": "execute_result",
          "data": {
            "text/plain": [
              "<torch._C.Generator at 0x7f5bf0996e50>"
            ]
          },
          "metadata": {},
          "execution_count": 20
        }
      ]
    },
    {
      "cell_type": "code",
      "execution_count": null,
      "metadata": {
        "colab": {
          "base_uri": "https://localhost:8080/"
        },
        "id": "o294wIEaB7dR",
        "outputId": "d76b5442-2778-4637-8a58-8c6cddec21d6"
      },
      "outputs": [
        {
          "output_type": "stream",
          "name": "stdout",
          "text": [
            "num_updates: 7804/7812, global_step=3996000, episodic_return=[154368.39], total_loss=20.027881622314453\n",
            "num_updates: 7804/7812, global_step=3996000, episodic_return=[148126.53], total_loss=20.027881622314453\n",
            "num_updates: 7804/7812, global_step=3996000, episodic_return=[156392.39], total_loss=20.027881622314453\n",
            "num_updates: 7804/7812, global_step=3996000, episodic_return=[157656.31], total_loss=20.027881622314453\n",
            "model saved to /content/drive/MyDrive/DATA403/checkpoints/HumanoidStandup-v4/PPO_7810.pt\n",
            "num_updates: 7812/7812, global_step=4000000, episodic_return=[157583.14], total_loss=18.214641571044922\n",
            "num_updates: 7812/7812, global_step=4000000, episodic_return=[158386.48], total_loss=18.214641571044922\n",
            "num_updates: 7812/7812, global_step=4000000, episodic_return=[156466.05], total_loss=18.214641571044922\n",
            "num_updates: 7812/7812, global_step=4000000, episodic_return=[156210.56], total_loss=18.214641571044922\n",
            "Training is finished...\n"
          ]
        }
      ],
      "source": [
        "from IPython.display import clear_output\n",
        "\n",
        "# Set device and make environment\n",
        "device = torch.device(\"cuda:0\" if torch.cuda.is_available() else \"cpu\")\n",
        "envs = gym.vector.SyncVectorEnv(make_env(env_id, exp_config, path_config, evaluation=False, idx=idx)\n",
        "                                for idx in range(exp_config.num_envs))\n",
        "\n",
        "# Initialize agent and optimizer\n",
        "agent = ActorCritic(env_config).to(device)\n",
        "optimizer = optim.Adam(agent.parameters(), lr=ppo_config.lr, eps=1e-5)\n",
        "\n",
        "# ALGO Logic: On Policy Storage setup\n",
        "obs = torch.zeros((exp_config.num_rollout_steps, exp_config.num_envs) + envs.single_observation_space.shape).to(device)\n",
        "actions = torch.zeros((exp_config.num_rollout_steps, exp_config.num_envs) + envs.single_action_space.shape).to(device)\n",
        "logprobs = torch.zeros((exp_config.num_rollout_steps, exp_config.num_envs)).to(device)\n",
        "rewards = torch.zeros((exp_config.num_rollout_steps, exp_config.num_envs)).to(device)\n",
        "dones = torch.zeros((exp_config.num_rollout_steps, exp_config.num_envs)).to(device)\n",
        "values = torch.zeros((exp_config.num_rollout_steps, exp_config.num_envs)).to(device)\n",
        "\n",
        "\n",
        "global_step = 0\n",
        "start_time = time.time()\n",
        "next_obs, _ = envs.reset(seed=exp_config.seed)\n",
        "next_obs = torch.Tensor(next_obs).to(device)\n",
        "next_done = torch.zeros(exp_config.num_envs).to(device)\n",
        "num_updates = exp_config.total_timesteps // exp_config.num_rollout_steps # number of epochs\n",
        "\n",
        "save_positions = np.arange(0, num_updates//10 + num_updates, num_updates//10)\n",
        "total_loss = 0\n",
        "\n",
        "for update in range(0, num_updates + 1):\n",
        "    # Annealing the rate if instructed to do so.\n",
        "    if ppo_config.anneal_lr:\n",
        "        frac = 1.0 - (update - 1.0) / num_updates\n",
        "        lrnow = frac * ppo_config.lr\n",
        "        optimizer.param_groups[0][\"lr\"] = lrnow if lrnow > 1e-5 else 1e-5\n",
        "\n",
        "    # ! rollout multiple environments\n",
        "    for step in range(0, exp_config.num_rollout_steps):\n",
        "        global_step += 1 * exp_config.num_envs\n",
        "        obs[step] = next_obs\n",
        "        dones[step] = next_done\n",
        "\n",
        "        # ALGO LOGIC: action logic\n",
        "        with torch.no_grad():\n",
        "            action, logprob, _, value = agent.get_action_and_value(next_obs)\n",
        "            values[step] = value.flatten()\n",
        "        actions[step] = action\n",
        "        logprobs[step] = logprob\n",
        "\n",
        "        next_obs, reward, terminated, truncated, infos = envs.step(action.cpu().numpy())\n",
        "        done = np.logical_or(terminated, truncated)\n",
        "        rewards[step] = torch.tensor(reward).to(device).view(-1)\n",
        "        next_obs, next_done = torch.Tensor(next_obs).to(device), torch.Tensor(done).to(device)\n",
        "\n",
        "        # Only print when at least 1 env is done\n",
        "        if \"final_info\" not in infos:\n",
        "            continue\n",
        "        for info in infos[\"final_info\"]:\n",
        "            # Skip the envs that are not done\n",
        "            if info is None:\n",
        "                continue\n",
        "            if global_step % 10 == 0:\n",
        "                print(f\"num_updates: {update}/{num_updates}, global_step={global_step}, episodic_return={info['episode']['r']}, total_loss={total_loss}\")\n",
        "            writer.add_scalar(\"charts/episodic_return\", info[\"episode\"][\"r\"], global_step)\n",
        "            writer.add_scalar(\"charts/episodic_length\", info[\"episode\"][\"l\"], global_step)\n",
        "            global_logger.train_episodic_return.append(info[\"episode\"][\"r\"])\n",
        "            global_logger.episodic_return_steps.append(global_step)\n",
        "\n",
        "    # Save model\n",
        "    if update in save_positions:\n",
        "        global_logger.save_update_steps.append(update)\n",
        "        save_model(env_id, path_config, agent, update)\n",
        "\n",
        "    global_logger.global_steps.append(global_step)\n",
        "\n",
        "    # ! bootstrap value if not done\n",
        "    ###################### Implement here : 2. Generalized Advantage Estimation ########################\n",
        "    # GAE part. Refer the GAE calculation picture\n",
        "\n",
        "    with torch.no_grad():\n",
        "        next_value = agent.get_value(next_obs).reshape(1, -1)\n",
        "        advantages = torch.zeros(len(rewards)+1, exp_config.num_envs).to(device)\n",
        "        for t in reversed(range(exp_config.num_rollout_steps)):\n",
        "            if t == exp_config.num_rollout_steps - 1:\n",
        "                done_mask = 1.0 - next_done\n",
        "                nextvalues = next_value\n",
        "            else:\n",
        "                done_mask = 1.0 - dones[t + 1]\n",
        "                nextvalues = values[t + 1]\n",
        "            delta = rewards[t] + (ppo_config.gamma * nextvalues * done_mask) - values[t]\n",
        "            advantages[t] = delta + (ppo_config.gamma * ppo_config.gae_lambda * advantages[t + 1] * done_mask)\n",
        "\n",
        "        returns = advantages[:-1] + values\n",
        "\n",
        "    b_obs = obs.reshape((-1,) + envs.single_observation_space.shape)\n",
        "    b_logprobs = logprobs.reshape(-1)\n",
        "    b_actions = actions.reshape((-1,) + envs.single_action_space.shape)\n",
        "    b_advantages = advantages.reshape(-1)\n",
        "    b_returns = returns.reshape(-1)\n",
        "    b_values = values.reshape(-1)\n",
        "\n",
        "    # ! Optimizing the policy and value network\n",
        "    agent.train()\n",
        "    batch_size = exp_config.num_rollout_steps * exp_config.num_envs\n",
        "    mb_size = ppo_config.minibatch_size\n",
        "    b_inds = np.arange(batch_size) # batch_size = num_rollout_steps\n",
        "    for epoch in range(ppo_config.update_epochs):\n",
        "        np.random.shuffle(b_inds)\n",
        "        for start in range(0, batch_size, mb_size):\n",
        "            end = start + mb_size\n",
        "            mb_inds = b_inds[start:end]\n",
        "\n",
        "            _, newlogprob, entropy, newvalue = agent.get_action_and_value(b_obs[mb_inds], b_actions[mb_inds])\n",
        "            logratio = newlogprob - b_logprobs[mb_inds]\n",
        "            ratio = logratio.exp()\n",
        "\n",
        "            mb_advantages = b_advantages[mb_inds]\n",
        "            if ppo_config.norm_adv:\n",
        "                mb_advantages = (mb_advantages - mb_advantages.mean()) / (mb_advantages.std() + 1e-8)\n",
        "\n",
        "            ###################### Implement here : 3. PPO Loss, Value Loss ########################\n",
        "            # Be careful about pytorch automatic broadcasting.\n",
        "            # Policy loss part. Refer the PPO clip loss picture\n",
        "            pg_loss1 = ratio * mb_advantages\n",
        "            pg_loss2 = torch.clamp(ratio, 1 - ppo_config.clip_coef, 1 + ppo_config.clip_coef) * mb_advantages\n",
        "            pg_loss = torch.min(pg_loss1, pg_loss2).mean()\n",
        "\n",
        "            # Value loss\n",
        "            newvalue = newvalue.view(-1)\n",
        "            v_loss = nn.SmoothL1Loss()(newvalue, b_returns[mb_inds])\n",
        "\n",
        "            entropy_loss = entropy.mean()\n",
        "\n",
        "            ###################### Implement here : 4. Total Loss ########################\n",
        "            # implement the total loss value by using the coefficients in ppo_config\n",
        "            total_loss = -pg_loss + ppo_config.vf_coef * v_loss - ppo_config.ent_coef * entropy_loss\n",
        "            optimizer.zero_grad()\n",
        "            total_loss.backward()\n",
        "            nn.utils.clip_grad_norm_(agent.parameters(), ppo_config.max_grad_norm)\n",
        "            optimizer.step()\n",
        "\n",
        "    writer.add_scalar(\"charts/learning_rate\", optimizer.param_groups[0][\"lr\"], global_step)\n",
        "    writer.add_scalar(\"losses/value_loss\", v_loss.item(), global_step)\n",
        "    writer.add_scalar(\"losses/policy_loss\", pg_loss.item(), global_step)\n",
        "    writer.add_scalar(\"losses/entropy\", entropy_loss.item(), global_step)\n",
        "    writer.add_scalar(\"charts/SPS\", int(global_step / (time.time() - start_time)), global_step)\n",
        "    global_logger.value_loss.append(v_loss.item())\n",
        "    global_logger.policy_loss.append(pg_loss.item())\n",
        "    global_logger.entropy_loss.append(entropy_loss.item())\n",
        "\n",
        "    if update % 100 == 0:\n",
        "        clear_output()\n",
        "\n",
        "envs.close()\n",
        "writer.close()\n",
        "print(\"Training is finished...\")\n",
        "\n"
      ]
    },
    {
      "cell_type": "code",
      "execution_count": null,
      "metadata": {
        "id": "AhaogWeCB7dV",
        "colab": {
          "base_uri": "https://localhost:8080/"
        },
        "outputId": "23a824ea-7730-4197-f9b6-ef14f3988183"
      },
      "outputs": [
        {
          "output_type": "stream",
          "name": "stdout",
          "text": [
            "model saved to /content/drive/MyDrive/DATA403/checkpoints/HumanoidStandup-v4/PPO_7812.pt\n"
          ]
        }
      ],
      "source": [
        "save_model(env_id, path_config, agent, update)"
      ]
    },
    {
      "cell_type": "markdown",
      "metadata": {
        "id": "dFk_XwjhB7dj"
      },
      "source": [
        "# Visualization of results"
      ]
    },
    {
      "cell_type": "code",
      "execution_count": null,
      "metadata": {
        "id": "WtKgLrM0B7dk",
        "colab": {
          "base_uri": "https://localhost:8080/"
        },
        "outputId": "f58d8d4d-d032-4800-fb0c-b0cc88c1d928"
      },
      "outputs": [
        {
          "output_type": "stream",
          "name": "stdout",
          "text": [
            "(4000,)\n",
            "(4000,)\n"
          ]
        }
      ],
      "source": [
        "x = np.array(global_logger.episodic_return_steps)\n",
        "y = np.array(global_logger.train_episodic_return).squeeze(1)\n",
        "print(x.shape)\n",
        "print(y.shape)"
      ]
    },
    {
      "cell_type": "code",
      "execution_count": null,
      "metadata": {
        "id": "JCp1K2X4B7dk",
        "colab": {
          "base_uri": "https://localhost:8080/",
          "height": 581
        },
        "outputId": "f00f763e-ce6f-420d-8dd6-d55aabd6f5a4"
      },
      "outputs": [
        {
          "output_type": "stream",
          "name": "stdout",
          "text": [
            "figure is saved to /content/drive/MyDrive/DATA403/runs/HumanoidStandup-v4/train_episodic_return.jpg\n"
          ]
        },
        {
          "output_type": "display_data",
          "data": {
            "text/plain": [
              "<Figure size 1200x600 with 1 Axes>"
            ],
            "image/png": "[encoded data removed]"
          },
          "metadata": {}
        }
      ],
      "source": [
        "fig, ax = plt.subplots(figsize=(12, 6))\n",
        "sns.set_style('darkgrid')\n",
        "sns.set_context(\"poster\")\n",
        "sns.set(font_scale=1)\n",
        "g = sns.lineplot(x=x, y=y).set(title=f'{env_id}: train_episodic_return')\n",
        "global_logger.global_steps\n",
        "ax.set(xlim = (0,global_logger.global_steps[-1]))\n",
        "ax.xaxis.set_major_formatter(ticker.EngFormatter())\n",
        "ax.set(xlabel='global_step', ylabel='episodic_return')\n",
        "save_path = Path(global_logger.log_path)\n",
        "file_name =  Path(\"train_episodic_return.jpg\")\n",
        "file_path = save_path / file_name\n",
        "print(f\"figure is saved to {str(file_path)}\")\n",
        "plt.savefig(str(file_path), dpi = 200)"
      ]
    },
    {
      "cell_type": "code",
      "execution_count": null,
      "metadata": {
        "id": "LtShYoWLB7dl"
      },
      "outputs": [],
      "source": [
        "def evaluate(env_id, exp_config, path_config, env_config, ppo_config, global_logger):\n",
        "    envs = gym.vector.SyncVectorEnv(\n",
        "             [make_env(env_id, exp_config, path_config, evaluation=True, idx=0)]\n",
        "            )\n",
        "    device = torch.device(\"cpu\")\n",
        "    agent = ActorCritic(env_config).to(device)\n",
        "    ckpt_path = Path(path_config.checkpoints) / Path(env_id)\n",
        "    file_name = Path(f\"PPO_3905.pt\")\n",
        "    file_path = str(ckpt_path / file_name)\n",
        "    agent.load_state_dict(torch.load(file_path, map_location=device))\n",
        "    agent.eval()\n",
        "    print(\"Loading model is successful\")\n",
        "\n",
        "    next_obs, _ = envs.reset()\n",
        "    next_obs = torch.Tensor(next_obs).to(device)\n",
        "    next_done = torch.zeros(1).to(device)\n",
        "    episodic_returns = []\n",
        "    while len(episodic_returns) < exp_config.num_eval:\n",
        "        with torch.no_grad():\n",
        "            action, logprob, _, value = agent.get_action_and_value(next_obs)\n",
        "        next_obs, reward, terminated, truncated, infos = envs.step(action.cpu().numpy())\n",
        "        done = np.logical_or(terminated, truncated)\n",
        "        next_obs, next_done = torch.Tensor(next_obs).to(device), torch.Tensor(done).to(device)\n",
        "        # Only print when at least 1 env is done\n",
        "        if \"final_info\" not in infos:\n",
        "            continue\n",
        "        for info in infos[\"final_info\"]:\n",
        "            # Skip the envs that are not done\n",
        "            if info is None:\n",
        "                continue\n",
        "            print(f\"test_episodic_return={info['episode']['r']}\")\n",
        "            episodic_returns.append(info['episode']['r'])\n",
        "    global_logger.test_episodic_return = episodic_returns"
      ]
    },
    {
      "cell_type": "code",
      "execution_count": null,
      "metadata": {
        "id": "FIT-XWE8B7dl",
        "colab": {
          "base_uri": "https://localhost:8080/"
        },
        "outputId": "1d985787-1dd9-4e67-b0b9-c0547177bbd7"
      },
      "outputs": [
        {
          "output_type": "stream",
          "name": "stdout",
          "text": [
            "Loading model is successful\n",
            "test_episodic_return=[124337.36]\n",
            "test_episodic_return=[120676.92]\n",
            "test_episodic_return=[135824.52]\n",
            "test_episodic_return=[135058.7]\n",
            "test_episodic_return=[109403.67]\n",
            "test_episodic_return=[131945.1]\n",
            "test_episodic_return=[135888.05]\n",
            "test_episodic_return=[137421.38]\n",
            "test_episodic_return=[137867.44]\n",
            "test_episodic_return=[138599.31]\n"
          ]
        }
      ],
      "source": [
        "evaluate(env_id, exp_config, path_config, env_config, ppo_config, global_logger)"
      ]
    },
    {
      "cell_type": "code",
      "execution_count": null,
      "metadata": {
        "id": "Mips8X2NB7dl",
        "colab": {
          "base_uri": "https://localhost:8080/"
        },
        "outputId": "ef07a55d-154d-48ff-d508-0124d43e9d30"
      },
      "outputs": [
        {
          "output_type": "stream",
          "name": "stdout",
          "text": [
            "[ 40157.055 126121.4   127258.914 133603.75  128214.54  130087.32\n",
            " 132528.83  133327.61  135695.86  136518.92 ]\n",
            "122351.414\n"
          ]
        }
      ],
      "source": [
        "y = np.array(global_logger.test_episodic_return)\n",
        "y = y.squeeze(1)\n",
        "print(y)\n",
        "print(y.mean())"
      ]
    },
    {
      "cell_type": "code",
      "execution_count": null,
      "metadata": {
        "id": "NfFv_QM_B7dm",
        "colab": {
          "base_uri": "https://localhost:8080/",
          "height": 590
        },
        "outputId": "7eeb0f6f-7db2-46d7-cc84-9d823091710e"
      },
      "outputs": [
        {
          "output_type": "stream",
          "name": "stdout",
          "text": [
            "figure is saved to /content/drive/MyDrive/DATA403/runs/HumanoidStandup-v4/test_episodic_return.jpg\n"
          ]
        },
        {
          "output_type": "display_data",
          "data": {
            "text/plain": [
              "<Figure size 1200x600 with 1 Axes>"
            ],
            "image/png": "[encoded data removed]"
          },
          "metadata": {}
        }
      ],
      "source": [
        "fig, ax = plt.subplots(figsize=(12, 6))\n",
        "ax.set(xlabel='episode index', ylabel='episodic_return')\n",
        "sns.set_style('darkgrid')\n",
        "sns.set_context(\"poster\")\n",
        "sns.set(font_scale=1)\n",
        "g = sns.scatterplot(x=range(len(y)), y=y).set(title=f'{env_id}: test_episodic_return')\n",
        "save_path = Path(global_logger.log_path)\n",
        "file_name =  Path(\"test_episodic_return.jpg\")\n",
        "file_path = save_path / file_name\n",
        "print(f\"figure is saved to {str(file_path)}\")\n",
        "plt.savefig(str(file_path), dpi = 200)"
      ]
    },
    {
      "cell_type": "markdown",
      "source": [
        "# SAC"
      ],
      "metadata": {
        "id": "AIQxwr9oBCY0"
      }
    },
    {
      "cell_type": "code",
      "source": [
        "import copy\n",
        "import random\n",
        "import collections\n",
        "import math\n",
        "\n",
        "import numpy as np\n",
        "import gymnasium as gym\n",
        "\n",
        "import torch\n",
        "import torch.nn as nn\n",
        "import torch.nn.functional as F\n",
        "from torch.distributions import Normal\n",
        "import torch.optim as optim\n",
        "\n",
        "\n",
        "from tqdm import tqdm\n",
        "import matplotlib.pyplot as plt\n",
        "from omegaconf import OmegaConf\n",
        "from gymnasium.experimental.wrappers import RecordVideoV0 as RecordVideo\n"
      ],
      "metadata": {
        "id": "tpMj_356DR3A"
      },
      "execution_count": null,
      "outputs": []
    },
    {
      "cell_type": "code",
      "source": [
        "sac_config = OmegaConf.create({\n",
        "    # replay memory\n",
        "    'buffer_limit': int(1e6),\n",
        "    'batch_size': 256,\n",
        "\n",
        "    # neural network parameters\n",
        "    'device': 'cuda:0',\n",
        "    'hidden_dim': 256,\n",
        "    'state_dim': env.observation_space.shape[0],\n",
        "    'action_dim': int(env.action_space.shape[0]), # cannot use .n because not actions are continuous!\n",
        "\n",
        "    # learning parameters\n",
        "    'gamma': 0.99,\n",
        "    'target_entropy': -17\n",
        "    'tau': 0.005,\n",
        "    'init_alpha': 0.01,\n",
        "    'lr_pi': 3e-4,\n",
        "    'lr_q': 3e-4,\n",
        "    'lr_alpha': 3e-4\n",
        "})"
      ],
      "metadata": {
        "id": "deQi5fDtm21e"
      },
      "execution_count": null,
      "outputs": []
    },
    {
      "cell_type": "code",
      "source": [
        "class ReplayBuffer():\n",
        "    def __init__(self, config):\n",
        "        self.buffer = collections.deque(maxlen=sac_config.buffer_limit)\n",
        "\n",
        "    def put(self, transition):\n",
        "        self.buffer.append(transition)\n",
        "\n",
        "    def sample(self, n):\n",
        "        mini_batch = random.sample(self.buffer, n)\n",
        "        s_lst, a_lst, r_lst, s_prime_lst, done_mask_lst = [], [], [], [], []\n",
        "\n",
        "        for transition in mini_batch:\n",
        "            s, a, r, next_s, done = transition\n",
        "            s_lst.append(s.tolist())\n",
        "            a_lst.append(a.tolist())\n",
        "            r_lst.append([r])\n",
        "            s_prime_lst.append(next_s.tolist())\n",
        "            done_mask = 0.0 if done else 1.0\n",
        "            done_mask_lst.append([done_mask])\n",
        "\n",
        "        return torch.tensor(s_lst, dtype=torch.float), torch.tensor(a_lst, dtype=torch.float), \\\n",
        "                torch.tensor(r_lst, dtype=torch.float), torch.tensor(s_prime_lst, dtype=torch.float), \\\n",
        "                torch.tensor(done_mask_lst, dtype=torch.float)\n",
        "\n",
        "    def size(self):\n",
        "        return len(self.buffer)"
      ],
      "metadata": {
        "id": "ct0tCOA-BW3j"
      },
      "execution_count": null,
      "outputs": []
    },
    {
      "cell_type": "code",
      "source": [
        "import torch.nn.init as init\n",
        "\n",
        "def weights_init_xavier(m):\n",
        "    if isinstance(m, nn.Linear):\n",
        "        init.xavier_uniform_(m.weight)\n",
        "        if m.bias is not None:\n",
        "            init.constant_(m.bias, 0)"
      ],
      "metadata": {
        "id": "ZjExXla1yTfW"
      },
      "execution_count": null,
      "outputs": []
    },
    {
      "cell_type": "code",
      "source": [
        "class PolicyNet(nn.Module):\n",
        "    def __init__(self, config):\n",
        "        super(PolicyNet, self).__init__()\n",
        "        self.config = config\n",
        "        self.fc1 = nn.Linear(config.state_dim, config.hidden_dim)\n",
        "        self.fc_mu = nn.Linear(config.hidden_dim,config.action_dim)\n",
        "        self.fc_std  = nn.Linear(config.hidden_dim,config.action_dim)\n",
        "        self.optimizer = optim.Adam(self.parameters(), lr=config.lr_pi)\n",
        "\n",
        "        self.log_alpha = torch.tensor(np.log(config.init_alpha))\n",
        "        self.log_alpha.requires_grad = True\n",
        "        self.log_alpha_optimizer = optim.Adam([self.log_alpha], lr=config.lr_alpha)\n",
        "\n",
        "        # self.apply(weights_init_xavier)\n",
        "\n",
        "    def forward(self, x):\n",
        "        x = F.relu(self.fc1(x))\n",
        "        mu = self.fc_mu(x)\n",
        "        std = F.softplus(self.fc_std(x))\n",
        "        std = torch.clamp(std, min=math.exp(-20), max=math.exp(2))\n",
        "        dist = Normal(mu, std)\n",
        "        action = dist.rsample()\n",
        "        log_prob = dist.log_prob(action)\n",
        "        real_action = torch.tanh(action)\n",
        "        real_log_prob = log_prob - torch.log(1 - real_action.pow(2) + 1e-6)\n",
        "        return real_action, real_log_prob\n",
        "\n",
        "    def train_net(self, q1, q2, mini_batch):\n",
        "        s, _, _, _, _ = mini_batch\n",
        "        a, log_prob = self.forward(s)\n",
        "        entropy = -self.log_alpha.exp() * log_prob\n",
        "\n",
        "        q1_val, q2_val = q1(s,a), q2(s,a)\n",
        "        q1_q2 = torch.cat([q1_val, q2_val], dim=1)\n",
        "        min_q = torch.min(q1_q2, 1, keepdim=True)[0]\n",
        "\n",
        "        loss = -min_q - entropy # for gradient ascent\n",
        "        self.optimizer.zero_grad()\n",
        "        loss.mean().backward()\n",
        "        self.optimizer.step()\n",
        "\n",
        "        self.log_alpha_optimizer.zero_grad()\n",
        "        alpha_loss = -(self.log_alpha.exp() * (log_prob + self.config.target_entropy).detach()).mean()\n",
        "        alpha_loss.backward()\n",
        "        self.log_alpha_optimizer.step()\n",
        "\n",
        "\n",
        "class QNet(nn.Module):\n",
        "    def __init__(self, config):\n",
        "        super(QNet, self).__init__()\n",
        "        self.config = config\n",
        "        self.fc_s = nn.Linear(config.state_dim, config.hidden_dim)\n",
        "        self.fc_a = nn.Linear(config.action_dim,config.hidden_dim)\n",
        "        self.fc_cat = nn.Linear(config.hidden_dim*2,config.hidden_dim)\n",
        "        self.fc_out = nn.Linear(config.hidden_dim,1)\n",
        "        self.optimizer = optim.Adam(self.parameters(), lr=config.lr_q)\n",
        "\n",
        "        # self.apply(weights_init_xavier)\n",
        "\n",
        "    def forward(self, x, a):\n",
        "        h1 = F.relu(self.fc_s(x))\n",
        "        h2 = F.relu(self.fc_a(a))\n",
        "        cat = torch.cat([h1,h2], dim=1)\n",
        "        q = F.relu(self.fc_cat(cat))\n",
        "        q = self.fc_out(q)\n",
        "        return q\n",
        "\n",
        "    def train_net(self, target, mini_batch):\n",
        "        s, a, r, s_prime, done = mini_batch\n",
        "        value = self.forward(s, a)\n",
        "        # print(f\"value_shape: {value.shape}\")\n",
        "\n",
        "        loss = F.smooth_l1_loss(value, target)\n",
        "        self.optimizer.zero_grad()\n",
        "        loss.mean().backward()\n",
        "        self.optimizer.step()\n",
        "\n",
        "    def soft_update(self, net_target):\n",
        "        for param_target, param in zip(net_target.parameters(), self.parameters()):\n",
        "            param_target.data.copy_(param_target.data * (1.0 - self.config.tau) + param.data * self.config.tau)"
      ],
      "metadata": {
        "id": "K99B3w66BZeI"
      },
      "execution_count": null,
      "outputs": []
    },
    {
      "cell_type": "code",
      "source": [
        "def count_param(model):\n",
        "    return sum(p.numel() for p in model.parameters() if p.requires_grad)\n",
        "\n",
        "num_params1 = count_param(PolicyNet(sac_config))\n",
        "num_params2 = count_param(QNet(sac_config))\n",
        "print('Number of parameters for PolicyNet: {:}, Number of parameters for QNet: {:}'.format(num_params1, num_params2))"
      ],
      "metadata": {
        "colab": {
          "base_uri": "https://localhost:8080/"
        },
        "id": "NQ0a5RgIFrUI",
        "outputId": "49fb6974-cc88-41d6-d453-f6cb159b462f"
      },
      "execution_count": null,
      "outputs": [
        {
          "output_type": "stream",
          "name": "stdout",
          "text": [
            "Number of parameters for PolicyNet: 105250, Number of parameters for QNet: 232705\n"
          ]
        }
      ]
    },
    {
      "cell_type": "code",
      "source": [
        "def calc_target(pi, q1, q2, mini_batch):\n",
        "    s, a, r, s_prime, done = mini_batch\n",
        "    s = s.to(sac_config.device)\n",
        "    a = a.to(sac_config.device)\n",
        "    r = r.to(sac_config.device)\n",
        "    s_prime = s_prime.to(sac_config.device)\n",
        "    done = done.to(sac_config.device)\n",
        "\n",
        "    with torch.no_grad():\n",
        "        a_prime, log_prob = pi(s_prime)\n",
        "        entropy = -pi.log_alpha.exp() * log_prob\n",
        "        q1_val, q2_val = q1(s_prime,a_prime).to(sac_config.device), q2(s_prime,a_prime).to(sac_config.device)\n",
        "        # print(f\"q1_val shape: {q1_val.shape}\")\n",
        "        # print(f\"q2_val shape: {q2_val.shape}\")\n",
        "\n",
        "        q1_q2 = torch.cat([q1_val, q2_val], dim=1)\n",
        "        min_q = torch.min(q1_q2, 1, keepdim=True)[0]\n",
        "        target = r + sac_config.gamma * done * (min_q + entropy.mean())\n",
        "        # print(f\"target_shape: {target.shape}\")\n",
        "    return target"
      ],
      "metadata": {
        "id": "xk2ourN5BbyN"
      },
      "execution_count": null,
      "outputs": []
    },
    {
      "cell_type": "code",
      "source": [
        "num_epis, epi_rews = 2000, []\n",
        "memory = ReplayBuffer(sac_config)\n",
        "q1, q2, q1_target, q2_target = \\\n",
        "    QNet(sac_config).to(sac_config.device), QNet(sac_config).to(sac_config.device), QNet(sac_config).to(sac_config.device), QNet(sac_config).to(sac_config.device)\n",
        "pi = PolicyNet(sac_config).to(sac_config.device)\n",
        "\n",
        "q1_target.load_state_dict(q1.state_dict())\n",
        "q2_target.load_state_dict(q2.state_dict())\n",
        "\n",
        "device = sac_config.device\n",
        "\n",
        "for n_epi in tqdm(range(num_epis)):\n",
        "    state, _ = env.reset()\n",
        "    terminated, truncated = False, False\n",
        "    epi_rew = 0\n",
        "\n",
        "    while not (terminated or truncated):\n",
        "        state = torch.tensor(state, dtype=torch.float32).to(device)\n",
        "\n",
        "        action, log_prob = pi(state)\n",
        "        action = action.cpu().detach().numpy()\n",
        "\n",
        "        next_state, reward, terminated, truncated, _ = env.step(action)\n",
        "        next_state = torch.from_numpy(next_state).to(device)\n",
        "        reward = torch.from_numpy(np.array(reward)).float().to(device)\n",
        "        terminated = torch.from_numpy(np.array(terminated)).to(device)\n",
        "        truncated = torch.from_numpy(np.array(truncated)).to(device)\n",
        "\n",
        "        # save transition to replay buffer\n",
        "        done = terminated or truncated\n",
        "        memory.put((state, action, reward, next_state, done))\n",
        "\n",
        "        # state transition\n",
        "        state = next_state\n",
        "\n",
        "        # record reward\n",
        "        epi_rew += reward\n",
        "\n",
        "        if done:\n",
        "            print(f\"\\tn_epi total_reward: {epi_rew}\")\n",
        "\n",
        "    # enough memory\n",
        "    if memory.size() > sac_config.buffer_limit:\n",
        "        for i in range(20):\n",
        "            mini_batch = memory.sample(sac_config.batch_size)\n",
        "            state, action, reward, next_state, done = mini_batch\n",
        "\n",
        "            state = state.to(device)\n",
        "            action = action.to(device)\n",
        "            reward = reward.to(device)\n",
        "            next_state = next_state.to(device)\n",
        "            done = done.to(device)\n",
        "\n",
        "            td_target = calc_target(pi, q1_target, q2_target, (state, action, reward, next_state, done))\n",
        "            q1.train_net(td_target, (state, action, reward, next_state, done))\n",
        "            q2.train_net(td_target, (state, action, reward, next_state, done))\n",
        "            entropy = pi.train_net(q1, q2, (state, action, reward, next_state, done))\n",
        "            q1.soft_update(q1_target)\n",
        "            q2.soft_update(q2_target)\n",
        "\n",
        "    epi_rews.append(epi_rew)\n",
        "\n",
        "env.close()"
      ],
      "metadata": {
        "id": "s4d3xaWUBw9c"
      },
      "execution_count": null,
      "outputs": []
    },
    {
      "cell_type": "code",
      "source": [
        "plt.figure(figsize=(20, 10), dpi=300)\n",
        "epi_rews = [epi.detach().cpu().numpy() for epi in epi_rews]\n",
        "plt.plot(epi_rews[:1000], label='episode returns')\n",
        "plt.legend(fontsize=20)\n",
        "plt.show()\n",
        "plt.close()"
      ],
      "metadata": {
        "id": "_rPxscnfBdgh"
      },
      "execution_count": null,
      "outputs": []
    },
    {
      "cell_type": "code",
      "source": [
        "ckpt_path = Path(path_config.checkpoints) / Path(f\"{env_id}\")\n",
        "if not ckpt_path.exists():\n",
        "    ckpt_path.mkdir()\n",
        "\n",
        "model_name = Path(f\"SAC_{n_epi}_q1.pt\")\n",
        "model_path = ckpt_path / model_name\n",
        "torch.save(q1.state_dict(), str(model_path))\n",
        "print(f\"model saved to {model_path}\")\n",
        "\n",
        "model_name = Path(f\"SAC_{n_epi}_q2.pt\")\n",
        "model_path = ckpt_path / model_name\n",
        "torch.save(q2.state_dict(), str(model_path))\n",
        "print(f\"model saved to {model_path}\")\n",
        "\n",
        "model_name = Path(f\"SAC_{n_epi}_q1_target.pt\")\n",
        "model_path = ckpt_path / model_name\n",
        "torch.save(q1_target.state_dict(), str(model_path))\n",
        "print(f\"model saved to {model_path}\")\n",
        "\n",
        "model_name = Path(f\"SAC_{n_epi}_q2_target.pt\")\n",
        "model_path = ckpt_path / model_name\n",
        "torch.save(q2_target.state_dict(), str(model_path))\n",
        "print(f\"model saved to {model_path}\")\n",
        "\n",
        "model_name = Path(f\"SAC_{n_epi}_pi.pt\")\n",
        "model_path = ckpt_path / model_name\n",
        "torch.save(pi.state_dict(), str(model_path))\n",
        "print(f\"model saved to {model_path}\")"
      ],
      "metadata": {
        "colab": {
          "base_uri": "https://localhost:8080/"
        },
        "id": "uB8PlUTaN4vW",
        "outputId": "842db2dc-5633-413f-8875-3171eb80cd5a"
      },
      "execution_count": null,
      "outputs": [
        {
          "output_type": "stream",
          "name": "stdout",
          "text": [
            "model saved to /content/drive/MyDrive/DATA403/checkpoints/HumanoidStandup-v4/SAC_1105_q1.pt\n",
            "model saved to /content/drive/MyDrive/DATA403/checkpoints/HumanoidStandup-v4/SAC_1105_q2.pt\n",
            "model saved to /content/drive/MyDrive/DATA403/checkpoints/HumanoidStandup-v4/SAC_1105_q1_target.pt\n",
            "model saved to /content/drive/MyDrive/DATA403/checkpoints/HumanoidStandup-v4/SAC_1105_q2_target.pt\n",
            "model saved to /content/drive/MyDrive/DATA403/checkpoints/HumanoidStandup-v4/SAC_1105_pi.pt\n"
          ]
        }
      ]
    }
  ],
  "metadata": {
    "kernelspec": {
      "display_name": "Python 3",
      "name": "python3"
    },
    "language_info": {
      "codemirror_mode": {
        "name": "ipython",
        "version": 3
      },
      "file_extension": ".py",
      "mimetype": "text/x-python",
      "name": "python",
      "nbconvert_exporter": "python",
      "pygments_lexer": "ipython3",
      "version": "3.7.11"
    },
    "orig_nbformat": 4,
    "vscode": {
      "interpreter": {
        "hash": "266dbc1b53b3a75132c42213de358c469c42e7e8486df6091cb08cba7b9be0d5"
      }
    },
    "colab": {
      "provenance": [],
      "machine_shape": "hm",
      "gpuType": "T4",
      "collapsed_sections": [
        "fNUPj4n9A4vc"
      ]
    },
    "accelerator": "GPU"
  },
  "nbformat": 4,
  "nbformat_minor": 0
}