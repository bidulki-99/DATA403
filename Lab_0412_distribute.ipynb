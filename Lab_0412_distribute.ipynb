{
 "cells": [
  {
   "cell_type": "code",
   "execution_count": 1,
   "id": "312c3657",
   "metadata": {},
   "outputs": [],
   "source": [
    "import random\n",
    "import numpy as np"
   ]
  },
  {
   "cell_type": "markdown",
   "id": "2fe87b82",
   "metadata": {},
   "source": [
    "# Environment: Grid World"
   ]
  },
  {
   "cell_type": "code",
   "execution_count": 2,
   "id": "cc0b30e2",
   "metadata": {},
   "outputs": [],
   "source": [
    "class GridWorld():\n",
    "    def __init__(self): # Set initial point\n",
    "        self.x=0\n",
    "        self.y=0\n",
    "        \n",
    "    def step(self, action): # Move according to the selected action & Get reward\n",
    "        if action==0:\n",
    "            self.move_left()\n",
    "        elif action==1:\n",
    "            self.move_right()\n",
    "        elif action==2:\n",
    "            self.move_up()\n",
    "        elif action==3:\n",
    "            self.move_down()\n",
    "            \n",
    "        reward = -1 # Get reward -1 for each step\n",
    "        done = self.is_done() # When we reach (3,3), done becomes true\n",
    "        \n",
    "        return (self.x, self.y), reward, done # Retrun (state, reward, whether the game is finished or not)\n",
    "    \n",
    "    def move_left(self):\n",
    "        self.y -= 1\n",
    "        if self.y < 0:\n",
    "            self.y = 0\n",
    "            \n",
    "    def move_right(self):\n",
    "        self.y += 1\n",
    "        if self.y > 3:\n",
    "            self.y = 3\n",
    "            \n",
    "    def move_up(self):\n",
    "        ##### Fill in this part\n",
    "        self.x -= 1\n",
    "        if self.x < 0:\n",
    "            self.x = 0\n",
    "        \n",
    "    def move_down(self):\n",
    "        ##### Fill in this part\n",
    "        self.x += 1\n",
    "        if self.x > 3:\n",
    "            self.x = 3\n",
    "        \n",
    "    def is_done(self): # When we reach (3,3), done becomes true\n",
    "        if self.x==3 and self.y==3:\n",
    "            return True\n",
    "        else:\n",
    "            return False\n",
    "        \n",
    "    def get_state(self): # Return current position\n",
    "        return (self.x, self.y)\n",
    "    \n",
    "    def reset(self):\n",
    "        self.x=0\n",
    "        self.y=0\n",
    "        return (self.x, self.y)"
   ]
  },
  {
   "cell_type": "markdown",
   "id": "9faee002",
   "metadata": {},
   "source": [
    "# Agent: Random policy"
   ]
  },
  {
   "cell_type": "code",
   "execution_count": 3,
   "id": "8a6201dd",
   "metadata": {},
   "outputs": [],
   "source": [
    "class Agent():\n",
    "    def __init__(self):\n",
    "        pass\n",
    "    \n",
    "    def random_action(self): # Unifomly random policy\n",
    "        rand = random.random()\n",
    "        if rand < 1/4:\n",
    "            action=0\n",
    "        elif rand < 1/2:\n",
    "            action=1\n",
    "        elif rand < 3/4:\n",
    "            action=2\n",
    "        else:\n",
    "            action=3\n",
    "        return action"
   ]
  },
  {
   "cell_type": "markdown",
   "id": "b071798a",
   "metadata": {},
   "source": [
    "# Run Simulation"
   ]
  },
  {
   "cell_type": "code",
   "execution_count": 13,
   "id": "c2661cd8",
   "metadata": {},
   "outputs": [
    {
     "name": "stdout",
     "output_type": "stream",
     "text": [
      "[[-56.83 -52.55 -48.34 -44.62]\n",
      " [-55.05 -49.35 -43.64 -39.99]\n",
      " [-48.74 -44.23 -36.16 -26.21]\n",
      " [-44.31 -39.42 -27.36   0.  ]]\n"
     ]
    }
   ],
   "source": [
    "def main():\n",
    "    env = GridWorld() # make GridWorld environment\n",
    "    agent = Agent() # Make an agent\n",
    "    value_f = [[0,0,0,0], [0,0,0,0], [0,0,0,0], [0,0,0,0]] # Initial value functions\n",
    "    gamma = 1 # discount factor\n",
    "    alpha = 0.001 # constant step size\n",
    "    \n",
    "    for e in range(50000): # Run 50000 episodes\n",
    "        done = False\n",
    "        history = [] # to record trajactory for each episode\n",
    "        while not done:\n",
    "            action = agent.random_action() # agent selects an action\n",
    "            (x,y), reward, done = env.step(action) # get next state and reward\n",
    "            history.append((x,y,reward)) # store state and reward\n",
    "        env.reset() # Set initial position when an episode ended\n",
    "        \n",
    "        # For each episode, update value functions\n",
    "        cum_reward = 0 # cumulative reward\n",
    "        for transition in history[::-1]: # history[::-1] --> history sorted from the back\n",
    "            x, y, reward = transition\n",
    "            ##### Fill in this part\n",
    "            # value_f[x][y] = .... --> Use Monte Carlo policy evaluation\n",
    "            # cum_reward = .... --> update cumulative reward\n",
    "            value_f[x][y] = value_f[x][y] + alpha * (cum_reward - value_f[x][y])\n",
    "            cum_reward = cum_reward + gamma * reward\n",
    "        \n",
    "    #print data\n",
    "    np.set_printoptions(precision=2)\n",
    "    np.set_printoptions(suppress=True)\n",
    "    print(np.array(value_f))\n",
    "        \n",
    "        \n",
    "if __name__ == '__main__':\n",
    "    main()\n",
    "            \n",
    "            "
   ]
  }
 ],
 "metadata": {
  "kernelspec": {
   "display_name": "Python 3 (ipykernel)",
   "language": "python",
   "name": "python3"
  },
  "language_info": {
   "codemirror_mode": {
    "name": "ipython",
    "version": 3
   },
   "file_extension": ".py",
   "mimetype": "text/x-python",
   "name": "python",
   "nbconvert_exporter": "python",
   "pygments_lexer": "ipython3",
   "version": "3.8.16"
  }
 },
 "nbformat": 4,
 "nbformat_minor": 5
}
