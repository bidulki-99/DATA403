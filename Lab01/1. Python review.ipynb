{
 "cells": [
  {
   "cell_type": "markdown",
   "metadata": {},
   "source": [
    "# Variable"
   ]
  },
  {
   "cell_type": "markdown",
   "metadata": {},
   "source": [
    "![var](variable1.png)"
   ]
  },
  {
   "cell_type": "markdown",
   "metadata": {},
   "source": [
    "In the programming language, variables are used to store information to be referenced and manipulated in a computer program.\n",
    "We can declare and initialize the variable with equal operator '=', it is equivalent that assigning the value to memory address."
   ]
  },
  {
   "cell_type": "code",
   "execution_count": 4,
   "metadata": {},
   "outputs": [
    {
     "name": "stdout",
     "output_type": "stream",
     "text": [
      "2877959769264\n",
      "Reinforcement learning is interesting\n",
      "1 2 3 Reinforcement Learning Reinforcement learning is interesting\n"
     ]
    }
   ],
   "source": [
    "a = 1\n",
    "b = 2\n",
    "c = a + b\n",
    "lecture = \"Reinforcement Learning\"\n",
    "print(id(lecture)) # print logical address of certain variable\n",
    "text = \"Reinforcement learning is interesting\"\n",
    "print(text)\n",
    "print(a, b, c, lecture, text)"
   ]
  },
  {
   "cell_type": "markdown",
   "metadata": {},
   "source": [
    "# Data Type\n",
    "In programming, data type is an important concept.\n",
    "\n",
    "Variables can store data of different types, and different types can do different things.\n",
    "\n",
    "Python has the following data types built-in by default, in these categories:"
   ]
  },
  {
   "cell_type": "markdown",
   "metadata": {},
   "source": [
    "![](2023-03-07-16-35-15.png)"
   ]
  },
  {
   "cell_type": "markdown",
   "metadata": {},
   "source": [
    "\n",
    "\n",
    "Numeric Types:\t`int`, `float`  \n",
    "Sequence Types:\t`list`, `tuple`, `range`  \n",
    "Text Types: `str`  \n",
    "Dictionary Type:\t`dict `  \n",
    "Set Types:\t`set`  \n",
    "Boolean Type:\t`bool`  \n",
    "None Type:\t`NoneType`"
   ]
  },
  {
   "cell_type": "markdown",
   "metadata": {},
   "source": [
    "You can check the data type of the variable with built-in function `type()`"
   ]
  },
  {
   "cell_type": "code",
   "execution_count": 5,
   "metadata": {},
   "outputs": [
    {
     "name": "stdout",
     "output_type": "stream",
     "text": [
      "<class 'int'>\n",
      "<class 'float'>\n",
      "<class 'str'>\n",
      "<class 'bool'>\n",
      "<class 'NoneType'>\n",
      "<class 'list'>\n"
     ]
    }
   ],
   "source": [
    "print(type(1))\n",
    "print(type(2.2))\n",
    "print(type(\"I can do it!\"))\n",
    "print(type(True))\n",
    "print(type(None))\n",
    "different_data_list = [1, 2.2, \"I can do it!\", True, None]\n",
    "print(type(different_data_list))\n"
   ]
  },
  {
   "cell_type": "markdown",
   "metadata": {},
   "source": [
    "# Function\n",
    "A function is a block of code that performs a specific task.  \n",
    "\n",
    "You can define inputs, outputs, and internal operations and reuse functions repeatedly.  "
   ]
  },
  {
   "cell_type": "markdown",
   "metadata": {},
   "source": [
    "![](2023-03-07-16-36-35.png)"
   ]
  },
  {
   "cell_type": "code",
   "execution_count": 6,
   "metadata": {},
   "outputs": [
    {
     "name": "stdout",
     "output_type": "stream",
     "text": [
      "<function my_func at 0x0000029E13CBFAF0>\n",
      "Hello world!!\n",
      "Hello C++!\n",
      "None\n",
      "Hello Python!\n",
      "Hello Deep Learning!\n",
      "Hello Reinforcement Learning!\n"
     ]
    }
   ],
   "source": [
    "def my_func(text):\n",
    "    print(f\"Hello {text}!\")\n",
    "\n",
    "print(my_func) # function object\n",
    "my_func(\"world!\") # function call with input\n",
    "print(my_func(\"C++\")) # my_func function return none value\n",
    "my_func(\"Python\")\n",
    "my_func(\"Deep Learning\")\n",
    "my_func(\"Reinforcement Learning\")\n"
   ]
  },
  {
   "cell_type": "markdown",
   "metadata": {},
   "source": [
    "Suppose, you want to create a program that prints out a multiplication table.   \n",
    "\n",
    "If we don't use the function, the codes are below.  "
   ]
  },
  {
   "cell_type": "code",
   "execution_count": 7,
   "metadata": {},
   "outputs": [
    {
     "name": "stdout",
     "output_type": "stream",
     "text": [
      "2 * 1 = 2\n",
      "2 * 2 = 4\n",
      "2 * 3 = 6\n",
      "2 * 4 = 8\n",
      "2 * 5 = 10\n",
      "2 * 6 = 12\n",
      "2 * 7 = 14\n",
      "2 * 8 = 16\n",
      "2 * 9 = 18\n"
     ]
    }
   ],
   "source": [
    "print(\"{} * {} = {}\".format(2, 1, 2*1))\n",
    "print(\"{} * {} = {}\".format(2, 2, 2*2))\n",
    "print(\"{} * {} = {}\".format(2, 3, 2*3))\n",
    "print(\"{} * {} = {}\".format(2, 4, 2*4))\n",
    "print(\"{} * {} = {}\".format(2, 5, 2*5))\n",
    "print(\"{} * {} = {}\".format(2, 6, 2*6))\n",
    "print(\"{} * {} = {}\".format(2, 7, 2*7))\n",
    "print(\"{} * {} = {}\".format(2, 8, 2*8))\n",
    "print(\"{} * {} = {}\".format(2, 9, 2*9))\n",
    "\n"
   ]
  },
  {
   "cell_type": "markdown",
   "metadata": {},
   "source": [
    "But if we define the function and use it, the codes are more simple.  \n",
    "Some repeated part can be removed.\n",
    "The below codes also can be reduced by the loop statement  "
   ]
  },
  {
   "cell_type": "code",
   "execution_count": 8,
   "metadata": {},
   "outputs": [
    {
     "name": "stdout",
     "output_type": "stream",
     "text": [
      "2 * 1 = 2\n",
      "2 * 2 = 4\n",
      "2 * 3 = 6\n",
      "2 * 4 = 8\n",
      "2 * 5 = 10\n",
      "2 * 6 = 12\n",
      "2 * 7 = 14\n",
      "2 * 8 = 16\n",
      "2 * 9 = 18\n",
      "\n",
      "2 * 1 = 2\n",
      "2 * 2 = 4\n",
      "2 * 3 = 6\n",
      "2 * 4 = 8\n",
      "2 * 5 = 10\n",
      "2 * 6 = 12\n",
      "2 * 7 = 14\n",
      "2 * 8 = 16\n",
      "2 * 9 = 18\n"
     ]
    }
   ],
   "source": [
    "def print_multiply(first, second):\n",
    "    result = first * second\n",
    "    print(\"{} * {} = {}\".format(first, second, result))\n",
    "    \n",
    "print_multiply(2, 1)\n",
    "print_multiply(2, 2)\n",
    "print_multiply(2, 3)\n",
    "print_multiply(2, 4)\n",
    "print_multiply(2, 5)\n",
    "print_multiply(2, 6)\n",
    "print_multiply(2, 7)\n",
    "print_multiply(2, 8)\n",
    "print_multiply(2, 9)\n",
    "\n",
    "print()\n",
    "\n",
    "# Using loop\n",
    "for i in range(1, 10):\n",
    "    print_multiply(2, i)\n"
   ]
  },
  {
   "cell_type": "markdown",
   "metadata": {},
   "source": [
    "# Pop Quiz 1"
   ]
  },
  {
   "cell_type": "markdown",
   "metadata": {},
   "source": [
    "Make a function that returns gaussian distrubition"
   ]
  },
  {
   "cell_type": "markdown",
   "metadata": {},
   "source": [
    "$$ {g(x)} = {1 \\over \\sqrt {2 \\pi }\\sigma } \\exp \\bigg ( -{1\\over2} {(x-\\mu)^2 \\over \\sigma^2} \\bigg) \\tag {1} $$"
   ]
  },
  {
   "cell_type": "code",
   "execution_count": 10,
   "metadata": {},
   "outputs": [
    {
     "data": {
      "text/plain": [
       "0.24197072451914337"
      ]
     },
     "execution_count": 10,
     "metadata": {},
     "output_type": "execute_result"
    }
   ],
   "source": [
    "import math\n",
    "exp = math.exp # function object. you can compute the exponential value by calling the function exp()\n",
    "PI = math.pi # scalar value  3.141592653589793\n",
    "sqrt = math.sqrt # function object you can compute the sqare root value by calling the function sqrt()\n",
    "\n",
    "def gaussian(x, mu, sigma):\n",
    "    ### implement code of the equation by using the built-in function ###\n",
    "    return 1 / (sqrt(2 * PI) * sigma) * exp(-1/2 * (x - mu) ** 2 / sigma ** 2)\n",
    "\n",
    "gaussian(0, 1, 1)"
   ]
  },
  {
   "cell_type": "markdown",
   "metadata": {},
   "source": [
    "Make a function that returns numerical derivative  "
   ]
  },
  {
   "cell_type": "markdown",
   "metadata": {},
   "source": [
    "$$ f^\\prime (x) = \\lim_{h \\to 0} {f(x + h) - f(x -h) \\over 2h } \\approx  {f(x + h) - f(x -h) \\over 2h } \\tag {2} $$"
   ]
  },
  {
   "cell_type": "code",
   "execution_count": 12,
   "metadata": {},
   "outputs": [
    {
     "data": {
      "text/plain": [
       "2.000000000002"
      ]
     },
     "execution_count": 12,
     "metadata": {},
     "output_type": "execute_result"
    }
   ],
   "source": [
    "def squared(x):\n",
    "    return x ** 2\n",
    "\n",
    "def numerical_derivative(f, x, h):\n",
    "    ### Implement here ####\n",
    "    return (f(x + h) - f(x - h)) / (2 * h)\n",
    "\n",
    "h = 1e-6\n",
    "numerical_derivative(squared, 1, h) # 2"
   ]
  },
  {
   "cell_type": "markdown",
   "metadata": {},
   "source": [
    "# List  \n",
    "Lists are used to store multiple items in a single variable.\n",
    "\n",
    "Lists are one of 4 built-in data types in Python used to store collections of data, the other 3 are `Tuple`, `Set`, and `Dictionary`, all with different qualities and usage.  \n",
    "\n",
    "List can hold multiple objects, different types of data."
   ]
  },
  {
   "cell_type": "markdown",
   "metadata": {},
   "source": [
    "![](2023-03-07-16-38-411.png)"
   ]
  },
  {
   "cell_type": "code",
   "execution_count": 15,
   "metadata": {},
   "outputs": [
    {
     "name": "stdout",
     "output_type": "stream",
     "text": [
      "['RL']\n",
      "['RL', 'NLP', 'CV']\n",
      "['RL', 'NLP', 'CV', 'Data structure', 'OS']\n"
     ]
    }
   ],
   "source": [
    "# List items can be of any data type\n",
    "fruits = [\"apple\", \"banana\"]\n",
    "my_list = [14, 99.0, 'RL', [1, 2, 3], False]\n",
    "my_list2 = ['RL', 'Deep Learning']\n",
    "my_list2.pop()\n",
    "print(my_list2)\n",
    "my_list2.append('NLP')\n",
    "my_list2.append('CV')\n",
    "print(my_list2)\n",
    "my_list2.extend(['Data structure', 'OS'])\n",
    "print(my_list2)"
   ]
  },
  {
   "cell_type": "markdown",
   "metadata": {},
   "source": [
    "### List method - append(), pop(), extend()\n",
    "To add an item to the end of the list, use the `append()` method.  \n",
    "\n",
    "To remove last item of the list, use the `pop()` method.  \n",
    "\n",
    "To append elements from another list to the current list, use the `extend()` method.  \n"
   ]
  },
  {
   "cell_type": "markdown",
   "metadata": {},
   "source": [
    "![](2023-03-07-16-39-29 (사용자 지정))"
   ]
  },
  {
   "cell_type": "code",
   "execution_count": 16,
   "metadata": {},
   "outputs": [
    {
     "name": "stdout",
     "output_type": "stream",
     "text": [
      "['apple', 'banana', 'orange', 'grape']\n",
      "['apple', 'banana', 'orange']\n",
      "['apple', 'banana', 'orange', 'pineapple', 'strawberry', 'orange', 'banana']\n"
     ]
    }
   ],
   "source": [
    "fruits.append(\"orange\")\n",
    "fruits.append(\"grape\")\n",
    "print(fruits)\n",
    "fruits.pop()\n",
    "print(fruits)\n",
    "fruits.extend([\"pineapple\", \"strawberry\", \"orange\", \"banana\"])\n",
    "print(fruits)\n"
   ]
  },
  {
   "cell_type": "markdown",
   "metadata": {},
   "source": [
    "![](2023-03-07-16-39-291.png)"
   ]
  },
  {
   "cell_type": "markdown",
   "metadata": {},
   "source": [
    "### List indexing\n",
    "List items are indexed and you can access them by referring to the index number"
   ]
  },
  {
   "cell_type": "code",
   "execution_count": 17,
   "metadata": {},
   "outputs": [
    {
     "name": "stdout",
     "output_type": "stream",
     "text": [
      "apple\n",
      "banana\n",
      "['banana', 'orange', 'pineapple', 'strawberry', 'orange', 'banana']\n",
      "['apple', 'banana', 'orange']\n",
      "['banana', 'orange']\n",
      "['pineapple', 'strawberry', 'orange']\n"
     ]
    }
   ],
   "source": [
    "print(fruits[0])\n",
    "print(fruits[-1])\n",
    "print(fruits[1:])\n",
    "print(fruits[:3])\n",
    "print(fruits[1:3])\n",
    "print(fruits[3:-1])"
   ]
  },
  {
   "cell_type": "markdown",
   "metadata": {},
   "source": [
    "### List method - len(), count(), reverse()"
   ]
  },
  {
   "cell_type": "markdown",
   "metadata": {},
   "source": [
    "To determine how many items a list has, use the `len()` function  \n",
    "\n",
    "To count how many items a list has, use the `count()` list function   \n",
    "\n",
    "To reverse a list, use the `reverse()` function  \n",
    "\n"
   ]
  },
  {
   "cell_type": "code",
   "execution_count": 18,
   "metadata": {},
   "outputs": [
    {
     "name": "stdout",
     "output_type": "stream",
     "text": [
      "7\n",
      "2\n",
      "['apple', 'banana', 'orange', 'pineapple', 'strawberry', 'orange', 'banana']\n",
      "['banana', 'orange', 'strawberry', 'pineapple', 'orange', 'banana', 'apple']\n"
     ]
    }
   ],
   "source": [
    "print(len(fruits))\n",
    "print(fruits.count('orange'))\n",
    "print(fruits)\n",
    "fruits.reverse()\n",
    "print(fruits)\n"
   ]
  },
  {
   "cell_type": "markdown",
   "metadata": {},
   "source": [
    "# Conditional statement  \n",
    "\n",
    "Python supports the usual logical conditions from mathematics:  \n",
    "- Equals: `a == b`\n",
    "- Not Equals: `a != b`\n",
    "- Less than: `a < b`\n",
    "- Less than or equal to: `a <= b`\n",
    "- Greater than: `a > b`\n",
    "- Greater than or equal to: `a >= b`\n",
    "\n",
    "Conditional statements are written by using the `if`, `elif`, and `else` with some conditions  \n"
   ]
  },
  {
   "cell_type": "markdown",
   "metadata": {},
   "source": [
    "![](2023-03-07-16-42-221.png)"
   ]
  },
  {
   "cell_type": "code",
   "execution_count": 21,
   "metadata": {},
   "outputs": [
    {
     "name": "stdout",
     "output_type": "stream",
     "text": [
      "Enter a number1: 3\n",
      "Enter a number2: 5\n"
     ]
    },
    {
     "data": {
      "text/plain": [
       "'5'"
      ]
     },
     "execution_count": 21,
     "metadata": {},
     "output_type": "execute_result"
    }
   ],
   "source": [
    "num1 = input(\"Enter a number1: \")\n",
    "num2 = input(\"Enter a number2: \")\n",
    "\n",
    "def decideLarger(num1, num2):\n",
    "    if (num1 > num2):\n",
    "        return num1\n",
    "    elif (num1 < num2):\n",
    "        return num2\n",
    "    else:\n",
    "        print(\"Two numbers are same\")\n",
    "        return -1\n",
    "\n",
    "decideLarger(num1, num2)"
   ]
  },
  {
   "cell_type": "markdown",
   "metadata": {},
   "source": [
    "# Pop Quiz 2  \n",
    "Implement the relu function with conditional statement  \n",
    "$$ ReLU = max(0, x) $$"
   ]
  },
  {
   "cell_type": "code",
   "execution_count": 23,
   "metadata": {},
   "outputs": [
    {
     "name": "stdout",
     "output_type": "stream",
     "text": [
      "3\n",
      "0\n"
     ]
    }
   ],
   "source": [
    "def relu(x):\n",
    "    ### Implement here ####\n",
    "    if x > 0:\n",
    "        return x\n",
    "    else:\n",
    "        return 0\n",
    "\n",
    "print(relu(3)) # 3\n",
    "print(relu(-1)) # 0\n"
   ]
  },
  {
   "cell_type": "markdown",
   "metadata": {},
   "source": [
    "# Loop  \n",
    "Python `range` function return the sequence of integers\n",
    "\n",
    "Python has two primitive loop commands:  \n",
    "- `while` loops\n",
    "-  `for` loops\n",
    "\n",
    "Python has two commands to control loop execution:  \n",
    "- `break`\n",
    "- `continue`\n",
    "\n"
   ]
  },
  {
   "cell_type": "markdown",
   "metadata": {},
   "source": [
    "![](2023-03-07-16-50-071.png)"
   ]
  },
  {
   "cell_type": "markdown",
   "metadata": {},
   "source": [
    "### Loop - `while`, `for`, `range`\n",
    "With the while loop we can execute a set of statements as long as a condition is true."
   ]
  },
  {
   "cell_type": "code",
   "execution_count": 24,
   "metadata": {},
   "outputs": [
    {
     "name": "stdout",
     "output_type": "stream",
     "text": [
      "012345\n",
      "\n",
      "012345\n",
      "\n",
      "543210\n",
      "\n",
      "banana\n",
      "orange\n",
      "strawberry\n",
      "pineapple\n",
      "orange\n",
      "banana\n",
      "apple\n",
      "\n",
      "banana\n",
      "orange\n",
      "strawberry\n",
      "pineapple\n",
      "orange\n",
      "banana\n",
      "apple\n"
     ]
    }
   ],
   "source": [
    "i = 0\n",
    "while i < 6:\n",
    "    print(i, end='')\n",
    "    i += 1\n",
    "\n",
    "print()\n",
    "print()\n",
    "\n",
    "for i in range(0, 6): # range function is often used to for loop\n",
    "    print(i, end='')\n",
    "\n",
    "print()\n",
    "print()\n",
    "\n",
    "for i in range(5, -1, -1): # reverse order \n",
    "    print(i, end='')\n",
    "\n",
    "print()\n",
    "print()\n",
    "\n",
    "for fruit in fruits: # Loop with accessing item directyly\n",
    "    print(fruit)\n",
    "\n",
    "print()\n",
    "\n",
    "for i in range(len(fruits)): # Loop with list indexing\n",
    "    print(fruits[i])\n",
    "\n",
    "  "
   ]
  },
  {
   "cell_type": "markdown",
   "metadata": {},
   "source": [
    "### Loop - `continue`, `break`\n",
    "\n",
    "With the `break` statement we can stop the loop even if the while condition is true or before it has looped through all the items.\n",
    "\n",
    "With the `continue` statement we can stop the current iteration, and continue with the next"
   ]
  },
  {
   "cell_type": "code",
   "execution_count": 25,
   "metadata": {},
   "outputs": [
    {
     "name": "stdout",
     "output_type": "stream",
     "text": [
      "13579\n",
      "banana orange strawberry \n",
      "orange strawberry pineapple orange apple "
     ]
    }
   ],
   "source": [
    "i = 0\n",
    "while i < 10: # print odd numbers\n",
    "    i += 1\n",
    "    if i % 2 == 0:\n",
    "        continue\n",
    "    print(i, end='')\n",
    "  \n",
    "print()\n",
    "\n",
    "fruits = ['banana', 'orange', 'strawberry', 'pineapple', 'orange', 'banana', 'apple']\n",
    "i = 0\n",
    "while i < len(fruits):\n",
    "    print(fruits[i], end=' ')\n",
    "    if fruits[i] == \"strawberry\":\n",
    "        break\n",
    "    i += 1\n",
    "  \n",
    "print()\n",
    "\n",
    "for x in fruits:\n",
    "    if x == \"banana\":\n",
    "        continue\n",
    "    print(x, end=' ')"
   ]
  },
  {
   "cell_type": "markdown",
   "metadata": {},
   "source": [
    "# Pop Quiz 3\n",
    "\n"
   ]
  },
  {
   "cell_type": "markdown",
   "metadata": {},
   "source": [
    "Implement the function that returns the partial multiplication table by using print_multiply function, `nested` `for` loop, `if`, `continue` and `range` function  \n",
    "The results are like below\n",
    "print_muliply function is called when the number in number list is odd\n",
    "\n",
    "1 * 1 = 1  \n",
    "3 * 1 = 3  \n",
    "3 * 2 = 6  \n",
    "3 * 3 = 9  \n",
    "5 * 1 = 5  \n",
    "5 * 2 = 10  \n",
    "5 * 3 = 15  \n",
    "5 * 4 = 20  \n",
    "5 * 5 = 25  \n"
   ]
  },
  {
   "cell_type": "code",
   "execution_count": 26,
   "metadata": {},
   "outputs": [],
   "source": [
    "def print_multiply(first, second):\n",
    "    result = first * second\n",
    "    print(\"{} * {} = {}\".format(first, second, result))"
   ]
  },
  {
   "cell_type": "code",
   "execution_count": 28,
   "metadata": {},
   "outputs": [
    {
     "name": "stdout",
     "output_type": "stream",
     "text": [
      "1 * 1 = 1\n",
      "3 * 1 = 3\n",
      "3 * 2 = 6\n",
      "3 * 3 = 9\n",
      "5 * 1 = 5\n",
      "5 * 2 = 10\n",
      "5 * 3 = 15\n",
      "5 * 4 = 20\n",
      "5 * 5 = 25\n"
     ]
    }
   ],
   "source": [
    "def multiplication_table(number_list):\n",
    "    ### Implement here ####\n",
    "    for i in range(1, max(number_list) + 1, 2):\n",
    "        for j in range(1, i+1):\n",
    "            print_multiply(i, j)\n",
    "    \n",
    "multiplication_table([1,2,3,4,5])"
   ]
  },
  {
   "cell_type": "markdown",
   "metadata": {},
   "source": [
    "Implement the expectation and varaince function with Loop and List\n",
    "\n",
    "$$ \\text{Expectation: } \\quad \\mathbb E[X] = \\sum_{i=1}^N x_i p(x_i) $$\n",
    "$$ \\text{Variance: } \\quad \\mathbb E[X- \\mathbb E[X]]^2 = \\mathbb E[X^2] - E[X]^2$$ "
   ]
  },
  {
   "cell_type": "code",
   "execution_count": 35,
   "metadata": {},
   "outputs": [
    {
     "name": "stdout",
     "output_type": "stream",
     "text": [
      "3.5\n",
      "2.916666666666666\n"
     ]
    }
   ],
   "source": [
    "X = [1, 2, 3, 4, 5, 6]\n",
    "P = [1/6 for i in range(len(X))]\n",
    "\n",
    "def expectation(X, P):\n",
    "    ### Implement here ####\n",
    "    return sum(x * p for x, p in zip(X, P))\n",
    "\n",
    "\n",
    "def variance(X, P):\n",
    "    ### Implement here ####\n",
    "    return expectation([x ** 2 for x in X], P) - expectation(X, P) ** 2\n",
    "\n",
    "print(expectation(X, P)) # 3.5 \n",
    "print(variance(X, P)) # 2.91666666666\n"
   ]
  },
  {
   "cell_type": "markdown",
   "metadata": {},
   "source": [
    "# Pop Quiz 4"
   ]
  },
  {
   "cell_type": "markdown",
   "metadata": {},
   "source": [
    "Implement the vector functions `add_vector`, `sub_vector`, `dot_product`\n",
    "-  Define the `check_dimension` function that compare dimensions of two vectors by using conditional statements  \n",
    "  \n",
    "-  In the each vector function, First call the check_dimension function for checking the valid computation, if check_dimension returns False, each vector fucntion returns -1   \n",
    "\n",
    "-  Vector is given by list type.   "
   ]
  },
  {
   "cell_type": "code",
   "execution_count": 25,
   "metadata": {},
   "outputs": [
    {
     "name": "stdout",
     "output_type": "stream",
     "text": [
      "None\n",
      "None\n",
      "None\n",
      "None\n",
      "None\n"
     ]
    }
   ],
   "source": [
    "def check_dimension(v1, v2):\n",
    "    ### Implement here ####\n",
    "    pass\n",
    "\n",
    "\n",
    "def add_vector(v1, v2):\n",
    "    ### Implement here ####\n",
    "    pass\n",
    "\n",
    "\n",
    "def sub_vector(v1, v2):\n",
    "    ### Implement here ####\n",
    "    pass\n",
    "\n",
    "\n",
    "def dot_product(v1, v2):\n",
    "    ### Implement here ####\n",
    "    pass\n",
    "\n",
    "\n",
    "v1 = [1, 2, 3]\n",
    "v2 = [4, 5, 6]\n",
    "v3 = [7, 8, 9, 10]\n",
    "\n",
    "\n",
    "print(add_vector(v1, v2)) # [5, 7, 9]\n",
    "print(sub_vector(v1, v2)) # [-3, -3, -3]\n",
    "print(add_vector(v1, v3)) # -1 \n",
    "print(dot_product(v1, v2)) # 32\n",
    "print(dot_product(v1, v3)) # -1"
   ]
  },
  {
   "cell_type": "markdown",
   "metadata": {},
   "source": [
    "# References\n",
    "### [1] https://www.w3schools.com/python/default.asp\n",
    "### [2] https://www.geeksforgeeks.org/python-programming-language/?ref=shm  \n",
    "### [3] https://www.study24x7.com/article/992/variables-and-types\n",
    "### [4] https://www.learnbyexample.org/python-functions/\n",
    "### [5] https://br.pinterest.com/pin/516506651025771855/\n"
   ]
  },
  {
   "cell_type": "markdown",
   "metadata": {},
   "source": []
  }
 ],
 "metadata": {
  "kernelspec": {
   "display_name": "Python 3 (ipykernel)",
   "language": "python",
   "name": "python3"
  },
  "language_info": {
   "codemirror_mode": {
    "name": "ipython",
    "version": 3
   },
   "file_extension": ".py",
   "mimetype": "text/x-python",
   "name": "python",
   "nbconvert_exporter": "python",
   "pygments_lexer": "ipython3",
   "version": "3.8.16"
  },
  "vscode": {
   "interpreter": {
    "hash": "266dbc1b53b3a75132c42213de358c469c42e7e8486df6091cb08cba7b9be0d5"
   }
  }
 },
 "nbformat": 4,
 "nbformat_minor": 2
}
